{
 "cells": [
  {
   "cell_type": "markdown",
   "metadata": {},
   "source": [
    "# Lesson 7: Inverse Problems\n",
    "\n",
    "Before we can use models and computer simulations for process design, we need to determine the values of the model parameters.\n",
    "\n",
    "In this lesson, we will: \n",
    "- Learn the fundamentals of inverse problems.\n",
    "- Learn how to setup, run and analyze a parameter basic estimations."
   ]
  },
  {
   "cell_type": "markdown",
   "metadata": {},
   "source": [
    "## Example 1: Manually determining porosity and axial dispersion of a Column\n",
    "\n",
    "Later, we will be using optimization algorithms that can automatically determine these values for us. But for educational purposes, we will start by manually manipulating parameter values.\n",
    "\n",
    "\n",
    "For determining the values the external porosity and the axial dispersion of a chromatographic column, an experiment was conducted in which a dextran pulse was injected into the column.\n",
    "The system response (i.e. the concentration signal at the column outlet) was recoreded."
   ]
  },
  {
   "cell_type": "markdown",
   "metadata": {},
   "source": [
    "### Load CADETSettings\n",
    "\n",
    "This imports all the standard libraries and provides some helper functions."
   ]
  },
  {
   "cell_type": "code",
   "execution_count": null,
   "metadata": {},
   "outputs": [],
   "source": [
    "%run ../utils.ipynb"
   ]
  },
  {
   "cell_type": "markdown",
   "metadata": {},
   "source": [
    "### Loading experimental data\n",
    "\n",
    "First we will load experimental data from the `dextran.csv` file in the `resources` folder.\n",
    "In the first column, it contains a vector of time points and in the second column the dextran concentration.\n",
    "`csv` data can be loaded using the `loadtxt()` function of the numpy package."
   ]
  },
  {
   "cell_type": "code",
   "execution_count": null,
   "metadata": {
    "ExecuteTime": {
     "end_time": "2019-10-22T16:56:37.180145Z",
     "start_time": "2019-10-22T16:56:36.773146Z"
    }
   },
   "outputs": [],
   "source": [
    "data = np.loadtxt('../resources/dextran_experiment.csv', delimiter=',')\n",
    "time_experiment = data[:,0]\n",
    "dextran_experiment = data[:,1]\n",
    "\n",
    "plt.figure()\n",
    "plt.plot(time_experiment, dextran_experiment)\n",
    "plt.title('Column (Outlet)')\n",
    "plt.xlabel('$time / min$')\n",
    "plt.ylabel('$concentration~/~mol \\cdot L^{-1} $')\n",
    "plt.show()"
   ]
  },
  {
   "cell_type": "markdown",
   "metadata": {},
   "source": [
    "### Create reference model\n",
    "\n",
    "First, we need to model our system.\n",
    "For this purpose, we configure a `CADET` model as explained in the previous lessons.\n",
    "In this exercise, we will reuse the previous example which included an `INLET`, a `LUMPED_RATE_MODEL_WITH_PORES`, and an `OUTLET`.\n",
    "We can load a preconfigured model from the utils by calling `create_dextran_model`.\n",
    "\n",
    "Since we don't know yet what the porosity and axial dispersion of the column are, we have to set arbitrary values for these parameters.\n",
    "If we plot the result, we can see that the simulation and the experiment do not agree very well."
   ]
  },
  {
   "cell_type": "code",
   "execution_count": null,
   "metadata": {},
   "outputs": [],
   "source": [
    "dextran_model = create_dextran_model()\n",
    "dextran_model.root.input.model.unit_001.col_porosity = 0.5\n",
    "dextran_model.root.input.model.unit_001.col_dispersion = 1e-6\n",
    "\n",
    "run_simulation(dextran_model, 'dextran_reference.h5')\n",
    "\n",
    "dextran_solution = dextran_model.root.output.solution.unit_002.solution_outlet_comp_000\n",
    "plt.figure()\n",
    "plt.plot(time_experiment, dextran_experiment, label='Experiment')\n",
    "plt.plot(dextran_model.root.output.solution.solution_times, dextran_solution, label='Model')\n",
    "plt.legend()\n",
    "plt.xlabel('Time(s)')\n",
    "plt.ylabel('Concentration (mM)')\n",
    "plt.show()"
   ]
  },
  {
   "cell_type": "markdown",
   "metadata": {},
   "source": [
    "## Quantification of discrepancy\n",
    "\n",
    "In order to quantify the the discrepancy between the data and an estimation model, we can use the sum of squared errors.\n",
    "Later we will also look at some other measures (also called scores).\n"
   ]
  },
  {
   "cell_type": "code",
   "execution_count": null,
   "metadata": {},
   "outputs": [],
   "source": [
    "sse = np.sum((dextran_experiment - dextran_solution)**2 )   \n",
    "print('SSE %.3g' % sse)"
   ]
  },
  {
   "cell_type": "markdown",
   "metadata": {},
   "source": [
    "### Try to optimize manually\n",
    "\n",
    "<div class=\"alert alert-info\">\n",
    "\n",
    "**Note:** \n",
    "    \n",
    "The following cell mainly contains code to facilitate the interactive plot.\n",
    "   \n",
    "</div>\n",
    "\n",
    "\n",
    "***Task:*** Try optimizing the function manually by moving the sliders and looking at the resulting plots, including the sum squared error as a score."
   ]
  },
  {
   "cell_type": "code",
   "execution_count": null,
   "metadata": {
    "ExecuteTime": {
     "end_time": "2019-10-22T16:56:37.586147Z",
     "start_time": "2019-10-22T16:56:37.183148Z"
    },
    "jupyter": {
     "source_hidden": true
    }
   },
   "outputs": [],
   "source": [
    "def goal(axial_dispersion=-5, column_porosity=0.4):\n",
    "    axial_dispersion = 10**axial_dispersion\n",
    "    \n",
    "    # create and run simulation\n",
    "    dextran_model_temp = Cadet(dextran_model.root)\n",
    "    dextran_model_temp.root.input.model.unit_001.col_dispersion = axial_dispersion\n",
    "    dextran_model_temp.root.input.model.unit_001.col_porosity = column_porosity\n",
    "    run_simulation(dextran_model_temp)\n",
    "    \n",
    "    dextran_solution = dextran_model_temp.root.output.solution.unit_002.solution_outlet_comp_000\n",
    "\n",
    "    \n",
    "    # print error\n",
    "    sse = np.sum((dextran_experiment - dextran_solution)**2 )   \n",
    "    print('SSE %.3g' % sse)\n",
    "    \n",
    "    # create plots\n",
    "    plt.figure()\n",
    "    plt.plot(time_experiment, dextran_experiment, label='Experiment')\n",
    "    plt.plot(dextran_model.root.output.solution.solution_times, dextran_solution, label='Model')\n",
    "    plt.legend()\n",
    "    plt.xlabel('Time(s)')\n",
    "    plt.ylabel('Concentration (mM)')\n",
    "    \n",
    "interact(\n",
    "    goal,\n",
    "    axial_dispersion=widgets.FloatSlider(min=-10, max=-5, step=0.1, layout={'width': '500px'}, description='Axial Dispersion'),\n",
    "    column_porosity=widgets.FloatSlider(min=0.1, max=0.9, step=0.01, layout={'width': '500px'}, description='Column Porosity'))"
   ]
  },
  {
   "cell_type": "markdown",
   "metadata": {},
   "source": [
    "## Example 2: Gradient descent based parameter estimation\n",
    "\n",
    "A common approach for automatic parameter estimation is to use algorithms that try to minimize the SSE by following its gradient.\n",
    "In this exercise we will see this in action and discuss the limiations of this approach.\n",
    "\n",
    "While there exist many different gradient based optimization suites in Python, we will already be using `CADET-Match`.\n",
    "For now we are just going to create this object and explain it later we will learn how to set up new problems with it.\n",
    "\n",
    "***Task:*** The following cell contains code that lets you choose a starting point for gradient search by moving the sliders and then starting the search once you click the button. \n",
    "Go ahead and play around with it to see what happens when you look at different starting points."
   ]
  },
  {
   "cell_type": "code",
   "execution_count": null,
   "metadata": {
    "ExecuteTime": {
     "end_time": "2019-10-22T16:56:37.983147Z",
     "start_time": "2019-10-22T16:56:37.616146Z"
    }
   },
   "outputs": [],
   "source": [
    "def create_match_config(ax_dis, col_por):\n",
    "    match_config = Dict()\n",
    "    match_config.CADETPath = Cadet.cadet_path\n",
    "    match_config.baseDir = Path('./').absolute().as_posix()\n",
    "    match_config.resultsDir = 'results'\n",
    "    match_config.searchMethod = 'Gradient'\n",
    "    match_config.seeds = [(ax_dis, col_por),]\n",
    "    match_config.gradVector = True\n",
    "    \n",
    "    parameter1 = Dict()\n",
    "    parameter1.location = '/input/model/unit_001/COL_DISPERSION'\n",
    "    parameter1.component = -1\n",
    "    parameter1.bound = -1\n",
    "    parameter1.min = 1e-10\n",
    "    parameter1.max = 1e-5\n",
    "    parameter1.transform = 'null'\n",
    "    \n",
    "    parameter2 = Dict()\n",
    "    parameter2.location = '/input/model/unit_001/COL_POROSITY'\n",
    "    parameter2.component = -1\n",
    "    parameter2.bound = -1\n",
    "    parameter2.min = 0.1\n",
    "    parameter2.max = 0.9\n",
    "    parameter2.transform = 'null'\n",
    "\n",
    "    match_config.parameters = [parameter1, parameter2]\n",
    "\n",
    "    experiment1 = Dict()\n",
    "    experiment1.name = 'main'\n",
    "    experiment1.csv = '../resources/dextran_experiment.csv'\n",
    "    experiment1.HDF5 = 'dextran_reference.h5'\n",
    "    experiment1.isotherm = '/output/solution/unit_002/SOLUTION_OUTLET_COMP_000'\n",
    " \n",
    "    feature1 = Dict()\n",
    "    feature1.name = 'Pulse'\n",
    "    feature1.type = 'SSE'\n",
    "\n",
    "    experiment1.features = [feature1,]\n",
    "\n",
    "    match_config.experiments = [experiment1,]\n",
    "\n",
    "    return match_config\n",
    "\n",
    "def click_search(b):\n",
    "    with output:\n",
    "        clear_output(wait=True)\n",
    "        print('Axial Dispersion', 10**axial_dispersion.value)\n",
    "        print('Column Porosity', column_porosity.value)\n",
    "\n",
    "    with output_search:\n",
    "        clear_output(wait=True)\n",
    "\n",
    "        match_config = create_match_config(10**axial_dispersion.value, column_porosity.value)\n",
    "        match_config_file = Path('./dextran.json').absolute()\n",
    "        with open(match_config_file, 'w') as json_file:\n",
    "            json.dump(match_config.to_dict(), json_file, indent='\\t')\n",
    "\n",
    "        match = Match(match_config_file)\n",
    "        match.start_sim()\n",
    "    \n",
    "    best, score, best_score = match.get_best()\n",
    "\n",
    "    for data in best_score.values():\n",
    "        axial_dispersion.value = np.log10(data[0])\n",
    "        column_porosity.value = data[1]\n",
    "\n",
    "        axial_dispersion_best = np.log10(data[0])\n",
    "        column_porosity_best = data[1]\n",
    "\n",
    "        goal(axial_dispersion_best, column_porosity_best)\n",
    "        break\n",
    "\n",
    "\n",
    "def goal(axial_dispersion=-5, column_porosity=0.4):\n",
    "    axial_dispersion = 10**axial_dispersion\n",
    "\n",
    "    with output:\n",
    "        clear_output(wait=True)\n",
    "        \n",
    "        print('Axial Dispersion %.3g' % axial_dispersion)\n",
    "        print('Column Porosity %.3g' % column_porosity)\n",
    "\n",
    "        # create and run simulation\n",
    "        dextran_model_temp = Cadet(dextran_model.root)\n",
    "        dextran_model_temp.root.input.model.unit_001.col_dispersion = axial_dispersion\n",
    "        dextran_model_temp.root.input.model.unit_001.col_porosity = column_porosity\n",
    "        \n",
    "        run_simulation(dextran_model_temp)\n",
    "\n",
    "        # print error\n",
    "        sse = np.sum((dextran_experiment - dextran_model_temp.root.output.solution.unit_002.solution_outlet_comp_000)**2 )\n",
    "        print('SSE %.3g' % sse)\n",
    "\n",
    "    with output_graph:\n",
    "        clear_output(wait=True)\n",
    "        \n",
    "        # create plots\n",
    "        plt.figure(figsize=[10,7])\n",
    "        plt.plot(time_experiment, dextran_experiment, label='Experiment')\n",
    "        plt.plot(dextran_model_temp.root.output.solution.solution_times,\n",
    "                 dextran_model_temp.root.output.solution.unit_002.solution_outlet_comp_000, label='Test')\n",
    "        plt.legend()\n",
    "        plt.xlabel('Time(s)')\n",
    "        plt.ylabel('Concentration (mM)')\n",
    "\n",
    "        \n",
    "style = {'description_width': 'initial'}\n",
    "axial_dispersion = widgets.FloatSlider(min=-10, max=-5, step=0.1, layout={'width': '800px'}, style=style, description='Axial Dispersion')\n",
    "column_porosity = widgets.FloatSlider(min=0.1, max=0.9, step=0.01, layout={'width': '800px'}, style=style, description='Column Porosity')\n",
    "\n",
    "output = widgets.Output()\n",
    "output_graph = widgets.Output()\n",
    "output_search = widgets.Output()\n",
    "button = widgets.Button(description='Start Gradient Search')\n",
    "button.on_click(click_search)\n",
    "\n",
    "call_goal = interactive(goal, axial_dispersion=axial_dispersion, column_porosity=column_porosity)\n",
    "\n",
    "vbox = widgets.VBox([call_goal, button, output, output_graph, output_search])\n",
    "display(vbox)"
   ]
  }
 ],
 "metadata": {
  "kernelspec": {
   "display_name": "Python 3",
   "language": "python",
   "name": "python3"
  },
  "language_info": {
   "codemirror_mode": {
    "name": "ipython",
    "version": 3
   },
   "file_extension": ".py",
   "mimetype": "text/x-python",
   "name": "python",
   "nbconvert_exporter": "python",
   "pygments_lexer": "ipython3",
   "version": "3.7.8"
  },
  "toc": {
   "base_numbering": 1,
   "nav_menu": {
    "height": "401.997px",
    "width": "424.983px"
   },
   "number_sections": true,
   "sideBar": true,
   "skip_h1_title": false,
   "title_cell": "Table of Contents",
   "title_sidebar": "Contents",
   "toc_cell": false,
   "toc_position": {},
   "toc_section_display": true,
   "toc_window_display": false
  }
 },
 "nbformat": 4,
 "nbformat_minor": 4
}
