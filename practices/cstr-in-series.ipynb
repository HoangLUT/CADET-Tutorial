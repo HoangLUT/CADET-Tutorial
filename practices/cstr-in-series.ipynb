{
 "cells": [
  {
   "cell_type": "markdown",
   "metadata": {},
   "source": [
    "### Load CADETSettings\n",
    "This imports all the standard libraries and provides some helper functions."
   ]
  },
  {
   "cell_type": "code",
   "execution_count": 1,
   "metadata": {},
   "outputs": [
    {
     "name": "stderr",
     "output_type": "stream",
     "text": [
      "/var/folders/hv/0f9_r46n2bq30k2f17r71cfc0000gn/T/ipykernel_38708/4087898338.py:3: DeprecationWarning: Importing display from IPython.core.display is deprecated since IPython 7.14, please import from IPython display\n",
      "  from IPython.core.display import display, HTML, clear_output\n",
      "/var/folders/hv/0f9_r46n2bq30k2f17r71cfc0000gn/T/ipykernel_38708/4087898338.py:3: DeprecationWarning: Importing clear_output from IPython.core.display is deprecated since IPython 7.14, please import from IPython display\n",
      "  from IPython.core.display import display, HTML, clear_output\n"
     ]
    },
    {
     "data": {
      "text/html": [
       "<style>.container { width:100% !important; }</style>"
      ],
      "text/plain": [
       "<IPython.core.display.HTML object>"
      ]
     },
     "metadata": {},
     "output_type": "display_data"
    }
   ],
   "source": [
    "%run ../utils_macos.ipynb"
   ]
  },
  {
   "cell_type": "code",
   "execution_count": 2,
   "metadata": {},
   "outputs": [],
   "source": [
    "# Auxiliary variables\n",
    "t_cycle = 100\n",
    "\n",
    "init_c = [1.0, 0.0]\n",
    "\n",
    "kfwd = [0.1]\n",
    "kbwd = [0.0]\n",
    "\n",
    "stoich = [-1, \n",
    "           1]\n",
    "\n",
    "n_comp = len(init_c)"
   ]
  },
  {
   "cell_type": "code",
   "execution_count": null,
   "metadata": {},
   "outputs": [],
   "source": [
    "tau = 1\n",
    "V = 1\n",
    "\n",
    "model = get_cadet_template(n_units=5)\n",
    "\n",
    "# Unit Operations\n",
    "model.root.input.model.unit_000.unit_type = 'INLET'\n",
    "model.root.input.model.unit_000.ncomp = n_comp\n",
    "model.root.input.model.unit_000.inlet_type = 'PIECEWISE_CUBIC_POLY'\n",
    "\n",
    "## CSTR\n",
    "model.root.input.model.unit_001.unit_type = 'CSTR'\n",
    "model.root.input.model.unit_001.ncomp = n_comp\n",
    "model.root.input.model.unit_001.init_volume = V\n",
    "model.root.input.model.unit_001.init_c = [0.0]\n",
    "\n",
    "## Outlet\n",
    "model.root.input.model.unit_002.unit_type = 'OUTLET'\n",
    "model.root.input.model.unit_002.ncomp = 1\n",
    "\n",
    "# Connections\n",
    "model.root.input.model.connections.nswitches = 1\n",
    "model.root.input.model.connections.switch_000.section = 0\n",
    "model.root.input.model.connections.switch_000.connections = [\n",
    "    0, 1, -1, -1, V/tau,\n",
    "    1, 2, -1, -1, V/tau,\n",
    "]"
   ]
  }
 ],
 "metadata": {
  "kernelspec": {
   "display_name": "Python 3.8.13",
   "language": "python",
   "name": "python3"
  },
  "language_info": {
   "codemirror_mode": {
    "name": "ipython",
    "version": 3
   },
   "file_extension": ".py",
   "mimetype": "text/x-python",
   "name": "python",
   "nbconvert_exporter": "python",
   "pygments_lexer": "ipython3",
   "version": "3.8.13"
  },
  "orig_nbformat": 4,
  "vscode": {
   "interpreter": {
    "hash": "525751f50e4ded4577caaeae091f12d958a9f2d0872428d29ec290a9d368db68"
   }
  }
 },
 "nbformat": 4,
 "nbformat_minor": 2
}
