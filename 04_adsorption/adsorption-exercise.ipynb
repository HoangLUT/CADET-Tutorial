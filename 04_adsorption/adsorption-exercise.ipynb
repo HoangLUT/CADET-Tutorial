{
 "cells": [
  {
   "cell_type": "code",
   "execution_count": 1,
   "metadata": {},
   "outputs": [],
   "source": [
    "# Importing packages\n",
    "import numpy as np\n",
    "import matplotlib.pyplot as plt\n",
    "from addict import Dict\n",
    "\n",
    "from cadet import Cadet"
   ]
  },
  {
   "cell_type": "code",
   "execution_count": 2,
   "metadata": {},
   "outputs": [],
   "source": [
    "# macOS installation path\n",
    "Cadet.cadet_path = '/Users/hoangnguyen/cadet-core/cadet/bin/cadet-cli'"
   ]
  },
  {
   "cell_type": "code",
   "execution_count": 3,
   "metadata": {},
   "outputs": [],
   "source": [
    "# Windows installation path\n",
    "# Cadet.cadet_path = 'C:/Users/hoang/miniconda3/envs/cadet-env/bin/cadet-cli.exe'"
   ]
  },
  {
   "cell_type": "markdown",
   "metadata": {},
   "source": [
    "## Exercise 1: Single component Langmuir isotherm with linear gradient\n",
    "\n",
    "To plot the solid phase concentration as a function of the bulk concentration, we can introduce a linear concentration gradient to the `CSTR` that has an initial concentration of $0~g \\cdot L^{-1}$.\n",
    "For this purpose, we will make use of the `flowrate_filter` function of the `CSTR` (see [here](https://cadet.github.io/interface/unit_operations/cstr.html)).\n",
    "This way, we can add mass (or particles) to the tank without increasing it's volume.\n",
    "For this considereation, it is important to assume rapid equilibrium.\n",
    "\n",
    "***Hint:*** For using the `create_cstr_template()` function, pass the adsorption_model as first argument. \n",
    "For the adsorption_parametrers, create a `Dict` and assign the model parameters as keys.\n",
    "Also, you need to pass a list of binding states for every component."
   ]
  },
  {
   "cell_type": "code",
   "execution_count": 10,
   "metadata": {},
   "outputs": [],
   "source": [
    "n_bound = [1]\n",
    "Q = 1e-3\n",
    "n_comp = len(n_bound)\n",
    "\n",
    "cstr_model = Cadet()\n",
    "cstr_model.root.input.model.nunits = 2\n",
    "\n",
    "# Adsorption settings\n",
    "adsorption_model = 'MULTI_COMPONENT_LANGMUIR'\n",
    "adsorption_parameters = Dict()\n",
    "adsorption_parameters.is_kinetic = False\n",
    "adsorption_parameters.mcl_ka = [3]\n",
    "adsorption_parameters.mcl_kd = [1]\n",
    "adsorption_parameters.mcl_qmax = [1]\n",
    "\n",
    "# INLET\n",
    "cstr_model.root.input.model.unit_000.unit_type = 'INLET'\n",
    "cstr_model.root.input.model.unit_000.ncomp = n_comp\n",
    "cstr_model.root.input.model.unit_000.inlet_type = 'PIECEWISE_CUBIC_POLY'\n",
    "\n",
    "# CSTR\n",
    "cstr_model.root.input.model.unit_001.unit_type = 'CSTR'\n",
    "cstr_model.root.input.model.unit_001.ncomp = n_comp\n",
    "cstr_model.root.input.model.unit_001.init_volume = 1e-3\n",
    "cstr_model.root.input.model.unit_001.porosity = 0.5\n",
    "cstr_model.root.input.model.unit_001.init_c = n_comp*[0]\n",
    "cstr_model.root.input.model.unit_001.init_q = n_comp*[0]\n",
    "cstr_model.root.input.model.unit_001.flow_rate_filter = Q\n",
    "\n",
    "cstr_model.root.input.model.unit_001.nbound = n_bound\n",
    "cstr_model.root.input.model.unit_001.adsorption_model = adsorption_model\n",
    "cstr_model.root.input.model.unit_001.adsorption = adsorption_parameters\n",
    "\n",
    "# Sections and Switches\n",
    "cstr_model.root.input.solver.sections.nsec = 1\n",
    "cstr_model.root.input.solver.sections.section_times = [0.0, 10]\n",
    "\n",
    "cstr_model.root.input.model.unit_000.sec_000.const_coeff = n_comp*[0]\n",
    "cstr_model.root.input.model.unit_000.sec_000.lin_coeff = n_comp*[1]\n",
    "\n",
    "cstr_model.root.input.model.connections.nswitches = 1\n",
    "cstr_model.root.input.model.connections.switch_000.section = 0\n",
    "cstr_model.root.input.model.connections.switch_000.connections = [0, 1, -1, -1, Q]\n"
   ]
  },
  {
   "cell_type": "code",
   "execution_count": 11,
   "metadata": {},
   "outputs": [],
   "source": [
    "cstr_model.root.input.model.solver.gs_type = 1\n",
    "cstr_model.root.input.model.solver.max_krylov = 0\n",
    "cstr_model.root.input.model.solver.max_restarts = 10\n",
    "cstr_model.root.input.model.solver.schur_safety = 1e-8\n",
    "\n",
    "# Number of cores for parallel simulation\n",
    "cstr_model.root.input.solver.nthreads = 1\n",
    "\n",
    "# Tolerances for the time integrator\n",
    "cstr_model.root.input.solver.time_integrator.abstol = 1e-6\n",
    "cstr_model.root.input.solver.time_integrator.algtol = 1e-10\n",
    "cstr_model.root.input.solver.time_integrator.reltol = 1e-6\n",
    "cstr_model.root.input.solver.time_integrator.init_step_size = 1e-6\n",
    "cstr_model.root.input.solver.time_integrator.max_steps = 1000000"
   ]
  },
  {
   "cell_type": "code",
   "execution_count": 12,
   "metadata": {},
   "outputs": [],
   "source": [
    "# Return data\n",
    "cstr_model.root.input['return'].split_components_data = 0\n",
    "cstr_model.root.input['return'].split_ports_data = 0\n",
    "cstr_model.root.input['return'].unit_000.write_solution_bulk = 1\n",
    "cstr_model.root.input['return'].unit_000.write_solution_inlet = 1\n",
    "cstr_model.root.input['return'].unit_000.write_solution_outlet = 1\n",
    "cstr_model.root.input['return'].unit_000.write_solution_solid = 1\n",
    "\n",
    "cstr_model.root.input['return'].unit_001 = cstr_model.root.input['return'].unit_000"
   ]
  },
  {
   "cell_type": "code",
   "execution_count": 13,
   "metadata": {},
   "outputs": [
    {
     "name": "stdout",
     "output_type": "stream",
     "text": [
      "Simulation completed successfully\n"
     ]
    }
   ],
   "source": [
    "# Running simulation\n",
    "cstr_model.filename = 'single-comp-langmuir.h5'\n",
    "cstr_model.save()\n",
    "\n",
    "data = cstr_model.run()\n",
    "\n",
    "if data.returncode == 0:\n",
    "    print(\"Simulation completed successfully\")\n",
    "    cstr_model.load()\n",
    "else:\n",
    "    print(data)\n",
    "    raise Exception(\"Simulation failed\")"
   ]
  },
  {
   "cell_type": "code",
   "execution_count": 14,
   "metadata": {},
   "outputs": [
    {
     "data": {
      "text/plain": [
       "Text(0, 0.5, '$c_{solid}$')"
      ]
     },
     "execution_count": 14,
     "metadata": {},
     "output_type": "execute_result"
    },
    {
     "data": {
      "image/png": "[encoded data removed]",
      "text/plain": [
       "<Figure size 640x480 with 1 Axes>"
      ]
     },
     "metadata": {},
     "output_type": "display_data"
    }
   ],
   "source": [
    "# Plot results\n",
    "solution_bulk = cstr_model.root.output.solution.unit_001.solution_bulk\n",
    "solution_solid = cstr_model.root.output.solution.unit_001.solution_solid\n",
    "\n",
    "plt.figure()\n",
    "plt.title('Isotherm')\n",
    "plt.plot(solution_bulk, solution_solid)\n",
    "plt.xlabel('$c_{bulk}$')\n",
    "plt.ylabel('$c_{solid}$')"
   ]
  },
  {
   "cell_type": "markdown",
   "metadata": {},
   "source": [
    "## Exercise 2: Breakthrough curve in a Column\n",
    "\n",
    "In this example, we look at a column with a `LINEAR` isotherm with $k_{eq, 1} = 2$, and $k_{eq, 2} = 1$.\n",
    "We want to record the breakthrough curve and for this purpose, a concentration step with $$c_{feed} = [1.0, 1.0]~g \\cdot L^{-1} $$is introduced at $t = 0$. \n",
    "\n",
    "***Task:*** Implement the configuration for the adsorption isotherm and pass it to the `create_column_template()` function. You also need to provide the number of can also provide\n",
    "\n",
    "Try experimenting with:\n",
    "- The binding strenth.\n",
    "- The number of components.\n",
    "- Modify how many components bind.\n",
    "- Compare kinetic binding with rapid equilibrium."
   ]
  },
  {
   "cell_type": "code",
   "execution_count": 26,
   "metadata": {},
   "outputs": [],
   "source": [
    "column_model = Cadet()\n",
    "column_model.root.input.model.nunits = 3"
   ]
  },
  {
   "cell_type": "code",
   "execution_count": 38,
   "metadata": {},
   "outputs": [],
   "source": [
    "c_feed = [1, 1]\n",
    "n_bound = [1, 1]\n",
    "n_comp = len(c_feed)"
   ]
  },
  {
   "cell_type": "code",
   "execution_count": 39,
   "metadata": {},
   "outputs": [],
   "source": [
    "# Unit Operations\n",
    "## Inlet\n",
    "column_model.root.input.model.unit_000.unit_type = 'INLET'\n",
    "column_model.root.input.model.unit_000.ncomp = n_comp\n",
    "column_model.root.input.model.unit_000.inlet_type = 'PIECEWISE_CUBIC_POLY'\n",
    "\n",
    "column_model.root.input.model.unit_000.sec_000.const_coeff = c_feed\n",
    "\n",
    "# Tubular reactor\n",
    "column_model.root.input.model.unit_001.unit_type = 'LUMPED_RATE_MODEL_WITHOUT_PORES'\n",
    "column_model.root.input.model.unit_001.ncomp = n_comp\n",
    "column_model.root.input.model.unit_001.col_length = 0.5\n",
    "column_model.root.input.model.unit_001.cross_section_area = 0.1\n",
    "column_model.root.input.model.unit_001.total_porosity = 0.5\n",
    "column_model.root.input.model.unit_001.par_radius = 1e-6\n",
    "column_model.root.input.model.unit_001.col_dispersion = 1e-6\n",
    "column_model.root.input.model.unit_001.init_c = n_comp * [0]\n",
    "column_model.root.input.model.unit_001.init_q = n_comp * [0]\n",
    "\n",
    "### Adsorption\n",
    "adsorption_model = 'LINEAR'\n",
    "adsorption_parameters = Dict()\n",
    "adsorption_parameters.is_kinetic = False\n",
    "adsorption_parameters.lin_ka = [2,1]\n",
    "adsorption_parameters.lin_kd = [1,1]\n",
    "column_model.root.input.model.unit_001.adsorption_model = adsorption_model\n",
    "column_model.root.input.model.unit_001.adsorption = adsorption_parameters\n",
    "\n",
    "## Outlet\n",
    "column_model.root.input.model.unit_002.unit_type = 'OUTLET'\n",
    "column_model.root.input.model.unit_002.ncomp = n_comp\n",
    "\n",
    "## Sections and Switches\n",
    "column_model.root.input.solver.sections.nsec = 1\n",
    "column_model.root.input.solver.sections.section_times = [0.0, 240]\n",
    "column_model.root.input.solver.sections.section_continuity = []\n",
    "\n",
    "column_model.root.input.model.connections.nswitches = 1\n",
    "column_model.root.input.model.connections.switch_000.section = 0\n",
    "column_model.root.input.model.connections.switch_000.connections = [0, 1, -1, -1, Q,\n",
    "                                                                1, 2, -1, -1, Q]"
   ]
  },
  {
   "cell_type": "code",
   "execution_count": 40,
   "metadata": {},
   "outputs": [],
   "source": [
    "column_model.root.input.model.solver.gs_type = 1\n",
    "column_model.root.input.model.solver.max_krylov = 0\n",
    "column_model.root.input.model.solver.max_restarts = 10\n",
    "column_model.root.input.model.solver.schur_safety = 1e-8\n",
    "\n",
    "# Number of cores for parallel simulation\n",
    "column_model.root.input.solver.nthreads = 1\n",
    "\n",
    "# Tolerances for the time integrator\n",
    "column_model.root.input.solver.time_integrator.abstol = 1e-6\n",
    "column_model.root.input.solver.time_integrator.algtol = 1e-10\n",
    "column_model.root.input.solver.time_integrator.reltol = 1e-6\n",
    "column_model.root.input.solver.time_integrator.init_step_size = 1e-6\n",
    "column_model.root.input.solver.time_integrator.max_steps = 1000000"
   ]
  },
  {
   "cell_type": "code",
   "execution_count": 41,
   "metadata": {},
   "outputs": [],
   "source": [
    "# Discretization\n",
    "# Grid cells\n",
    "column_model.root.input.model.unit_001.discretization.ncol = 20\n",
    "column_model.root.input.model.unit_001.discretization.npar = 5\n",
    "column_model.root.input.model.unit_001.discretization.npartype = 1\n",
    "\n",
    "# Bound states\n",
    "column_model.root.input.model.unit_001.discretization.nbound = n_bound\n",
    "\n",
    "# Other options\n",
    "column_model.root.input.model.unit_001.discretization.par_disc_type = 'EQUIDISTANT_PAR'\n",
    "column_model.root.input.model.unit_001.discretization.use_analytic_jacobian = 1\n",
    "column_model.root.input.model.unit_001.discretization.reconstruction = 'WENO'\n",
    "column_model.root.input.model.unit_001.discretization.gs_type = 1\n",
    "column_model.root.input.model.unit_001.discretization.max_krylov = 0\n",
    "column_model.root.input.model.unit_001.discretization.max_restarts = 10\n",
    "column_model.root.input.model.unit_001.discretization.schur_safety = 1.0e-8\n",
    "\n",
    "# Weno options\n",
    "column_model.root.input.model.unit_001.discretization.weno.boundary_model = 0\n",
    "column_model.root.input.model.unit_001.discretization.weno.weno_eps = 1e-10\n",
    "column_model.root.input.model.unit_001.discretization.weno.weno_order = 3"
   ]
  },
  {
   "cell_type": "code",
   "execution_count": 42,
   "metadata": {},
   "outputs": [],
   "source": [
    "# Store solution\n",
    "column_model.root.input['return'].split_components_data = 0\n",
    "column_model.root.input['return'].split_ports_data = 0\n",
    "column_model.root.input['return'].unit_000.write_solution_inlet = 1\n",
    "column_model.root.input['return'].unit_000.write_solution_outlet = 1\n",
    "column_model.root.input['return'].unit_000.write_solution_bulk = 1\n",
    "column_model.root.input['return'].unit_000.write_solution_particle = 1\n",
    "column_model.root.input['return'].unit_000.write_solution_solid = 1\n",
    "column_model.root.input['return'].unit_000.write_solution_flux = 1\n",
    "column_model.root.input['return'].unit_000.write_solution_volume = 1\n",
    "column_model.root.input['return'].unit_000.write_coordinates = 1\n",
    "column_model.root.input['return'].unit_000.write_sens_outlet = 1\n",
    "\n",
    "column_model.root.input['return'].unit_001 = column_model.root.input['return'].unit_000\n"
   ]
  },
  {
   "cell_type": "code",
   "execution_count": 43,
   "metadata": {},
   "outputs": [
    {
     "name": "stdout",
     "output_type": "stream",
     "text": [
      "Simulation completed successfully\n"
     ]
    }
   ],
   "source": [
    "# Running simulation\n",
    "column_model.filename = 'breakthrough-curve-column.h5'\n",
    "column_model.save()\n",
    "\n",
    "data = column_model.run()\n",
    "\n",
    "if data.returncode == 0:\n",
    "    print(\"Simulation completed successfully\")\n",
    "    column_model.load()\n",
    "else:\n",
    "    print(data)\n",
    "    raise Exception(\"Simulation failed\")"
   ]
  },
  {
   "cell_type": "code",
   "execution_count": 44,
   "metadata": {},
   "outputs": [
    {
     "data": {
      "image/png": "[encoded data removed]",
      "text/plain": [
       "<Figure size 640x480 with 1 Axes>"
      ]
     },
     "metadata": {},
     "output_type": "display_data"
    }
   ],
   "source": [
    "time = column_model.root.output.solution.solution_times\n",
    "c = column_model.root.output.solution.unit_001.solution_outlet\n",
    "\n",
    "plt.figure()\n",
    "plt.plot(time, c)\n",
    "plt.title('Column (Outlet)')\n",
    "plt.xlabel('$time~/~min$')\n",
    "plt.ylabel('$concentration~/~mol \\cdot L^{-1} $')\n",
    "plt.show()"
   ]
  },
  {
   "cell_type": "markdown",
   "metadata": {},
   "source": [
    "## Exercise 3: Langmuir model in Column\n",
    "\n",
    "Let us consider the same experiment as in the first example, but this time with `MULTI_COMPONENT_LANGMUIR` adsorption model.\n",
    "\n",
    "with $k_{eq, i} = [2, 1]$, and $q_{max, i} = [10, 10]$.\n",
    "We again introduce a step with $$c_{feed} = [1.0, 1.0]~g \\cdot L^{-1} $$is introduced at $t = 0$ and the breakthrough curve is recorded.\n",
    "\n",
    "Try experimenting with:\n",
    "- The binding strenth.\n",
    "- The number of components.\n",
    "- Modify how many components bind.\n",
    "- Compare kinetic binding with rapid equilibrium."
   ]
  },
  {
   "cell_type": "code",
   "execution_count": 47,
   "metadata": {},
   "outputs": [],
   "source": [
    "langmuir_model = Cadet()\n",
    "langmuir_model.root.input.model.nunits = 3"
   ]
  },
  {
   "cell_type": "code",
   "execution_count": 48,
   "metadata": {},
   "outputs": [],
   "source": [
    "c_feed = [1, 1]\n",
    "n_bound = [1, 1]\n",
    "n_comp = len(c_feed)"
   ]
  },
  {
   "cell_type": "code",
   "execution_count": 49,
   "metadata": {},
   "outputs": [],
   "source": [
    "# Unit Operations\n",
    "## Inlet\n",
    "langmuir_model.root.input.model.unit_000.unit_type = 'INLET'\n",
    "langmuir_model.root.input.model.unit_000.ncomp = n_comp\n",
    "langmuir_model.root.input.model.unit_000.inlet_type = 'PIECEWISE_CUBIC_POLY'\n",
    "\n",
    "langmuir_model.root.input.model.unit_000.sec_000.const_coeff = c_feed\n",
    "\n",
    "# Tubular reactor\n",
    "langmuir_model.root.input.model.unit_001.unit_type = 'LUMPED_RATE_MODEL_WITHOUT_PORES'\n",
    "langmuir_model.root.input.model.unit_001.ncomp = n_comp\n",
    "langmuir_model.root.input.model.unit_001.col_length = 0.5\n",
    "langmuir_model.root.input.model.unit_001.cross_section_area = 0.1\n",
    "langmuir_model.root.input.model.unit_001.total_porosity = 0.5\n",
    "langmuir_model.root.input.model.unit_001.par_radius = 1e-6\n",
    "langmuir_model.root.input.model.unit_001.col_dispersion = 1e-6\n",
    "langmuir_model.root.input.model.unit_001.init_c = n_comp * [0]\n",
    "langmuir_model.root.input.model.unit_001.init_q = n_comp * [0]\n",
    "\n",
    "### Adsorption\n",
    "adsorption_model = 'MULTI_COMPONENT_LANGMUIR'\n",
    "adsorption_parameters = Dict()\n",
    "adsorption_parameters.is_kinetic = False\n",
    "adsorption_parameters.mcl_ka = [2,1]\n",
    "adsorption_parameters.mcl_kd = [1,1]\n",
    "adsorption_parameters.mcl_qmax = [10,10]\n",
    "langmuir_model.root.input.model.unit_001.adsorption_model = adsorption_model\n",
    "langmuir_model.root.input.model.unit_001.adsorption = adsorption_parameters\n",
    "\n",
    "## Outlet\n",
    "langmuir_model.root.input.model.unit_002.unit_type = 'OUTLET'\n",
    "langmuir_model.root.input.model.unit_002.ncomp = n_comp\n",
    "\n",
    "## Sections and Switches\n",
    "langmuir_model.root.input.solver.sections.nsec = 1\n",
    "langmuir_model.root.input.solver.sections.section_times = [0.0, 240]\n",
    "langmuir_model.root.input.solver.sections.section_continuity = []\n",
    "\n",
    "langmuir_model.root.input.model.connections.nswitches = 1\n",
    "langmuir_model.root.input.model.connections.switch_000.section = 0\n",
    "langmuir_model.root.input.model.connections.switch_000.connections = [0, 1, -1, -1, Q,\n",
    "                                                                1, 2, -1, -1, Q]"
   ]
  },
  {
   "cell_type": "code",
   "execution_count": 50,
   "metadata": {},
   "outputs": [],
   "source": [
    "langmuir_model.root.input.model.solver.gs_type = 1\n",
    "langmuir_model.root.input.model.solver.max_krylov = 0\n",
    "langmuir_model.root.input.model.solver.max_restarts = 10\n",
    "langmuir_model.root.input.model.solver.schur_safety = 1e-8\n",
    "\n",
    "# Number of cores for parallel simulation\n",
    "langmuir_model.root.input.solver.nthreads = 1\n",
    "\n",
    "# Tolerances for the time integrator\n",
    "langmuir_model.root.input.solver.time_integrator.abstol = 1e-6\n",
    "langmuir_model.root.input.solver.time_integrator.algtol = 1e-10\n",
    "langmuir_model.root.input.solver.time_integrator.reltol = 1e-6\n",
    "langmuir_model.root.input.solver.time_integrator.init_step_size = 1e-6\n",
    "langmuir_model.root.input.solver.time_integrator.max_steps = 1000000"
   ]
  },
  {
   "cell_type": "code",
   "execution_count": 53,
   "metadata": {},
   "outputs": [],
   "source": [
    "# Discretization\n",
    "# Grid cells\n",
    "langmuir_model.root.input.model.unit_001.discretization.ncol = 20\n",
    "langmuir_model.root.input.model.unit_001.discretization.npar = 5\n",
    "langmuir_model.root.input.model.unit_001.discretization.npartype = 1\n",
    "\n",
    "# Bound states\n",
    "langmuir_model.root.input.model.unit_001.discretization.nbound = n_bound\n",
    "\n",
    "# Other options\n",
    "langmuir_model.root.input.model.unit_001.discretization.par_disc_type = 'EQUIDISTANT_PAR'\n",
    "langmuir_model.root.input.model.unit_001.discretization.use_analytic_jacobian = 1\n",
    "langmuir_model.root.input.model.unit_001.discretization.reconstruction = 'WENO'\n",
    "langmuir_model.root.input.model.unit_001.discretization.gs_type = 1\n",
    "langmuir_model.root.input.model.unit_001.discretization.max_krylov = 0\n",
    "langmuir_model.root.input.model.unit_001.discretization.max_restarts = 10\n",
    "langmuir_model.root.input.model.unit_001.discretization.schur_safety = 1.0e-8\n",
    "\n",
    "# Weno options\n",
    "langmuir_model.root.input.model.unit_001.discretization.weno.boundary_model = 0\n",
    "langmuir_model.root.input.model.unit_001.discretization.weno.weno_eps = 1e-10\n",
    "langmuir_model.root.input.model.unit_001.discretization.weno.weno_order = 3"
   ]
  },
  {
   "cell_type": "code",
   "execution_count": 54,
   "metadata": {},
   "outputs": [],
   "source": [
    "# Store solution\n",
    "langmuir_model.root.input['return'].split_components_data = 0\n",
    "langmuir_model.root.input['return'].split_ports_data = 0\n",
    "langmuir_model.root.input['return'].unit_000.write_solution_inlet = 1\n",
    "langmuir_model.root.input['return'].unit_000.write_solution_outlet = 1\n",
    "langmuir_model.root.input['return'].unit_000.write_solution_bulk = 1\n",
    "langmuir_model.root.input['return'].unit_000.write_solution_particle = 1\n",
    "langmuir_model.root.input['return'].unit_000.write_solution_solid = 1\n",
    "langmuir_model.root.input['return'].unit_000.write_solution_flux = 1\n",
    "langmuir_model.root.input['return'].unit_000.write_solution_volume = 1\n",
    "langmuir_model.root.input['return'].unit_000.write_coordinates = 1\n",
    "langmuir_model.root.input['return'].unit_000.write_sens_outlet = 1\n",
    "\n",
    "langmuir_model.root.input['return'].unit_001 = langmuir_model.root.input['return'].unit_000\n"
   ]
  },
  {
   "cell_type": "code",
   "execution_count": 57,
   "metadata": {},
   "outputs": [
    {
     "name": "stdout",
     "output_type": "stream",
     "text": [
      "Simulation completed successfully\n"
     ]
    }
   ],
   "source": [
    "# Running simulation\n",
    "langmuir_model.filename = 'breakthrough-curve-column.h5'\n",
    "langmuir_model.save()\n",
    "\n",
    "data = langmuir_model.run()\n",
    "\n",
    "if data.returncode == 0:\n",
    "    print(\"Simulation completed successfully\")\n",
    "    langmuir_model.load()\n",
    "else:\n",
    "    print(data)\n",
    "    raise Exception(\"Simulation failed\")"
   ]
  },
  {
   "cell_type": "code",
   "execution_count": 56,
   "metadata": {},
   "outputs": [
    {
     "data": {
      "image/png": "[encoded data removed]",
      "text/plain": [
       "<Figure size 640x480 with 1 Axes>"
      ]
     },
     "metadata": {},
     "output_type": "display_data"
    }
   ],
   "source": [
    "time = langmuir_model.root.output.solution.solution_times\n",
    "c = langmuir_model.root.output.solution.unit_001.solution_outlet\n",
    "\n",
    "plt.figure()\n",
    "plt.plot(time, c)\n",
    "plt.title('Column (Outlet)')\n",
    "plt.xlabel('$time~/~min$')\n",
    "plt.ylabel('$concentration~/~mol \\cdot L^{-1} $')\n",
    "plt.show()"
   ]
  },
  {
   "cell_type": "code",
   "execution_count": null,
   "metadata": {},
   "outputs": [],
   "source": []
  }
 ],
 "metadata": {
  "kernelspec": {
   "display_name": "Python 3.8.13",
   "language": "python",
   "name": "python3"
  },
  "language_info": {
   "codemirror_mode": {
    "name": "ipython",
    "version": 3
   },
   "file_extension": ".py",
   "mimetype": "text/x-python",
   "name": "python",
   "nbconvert_exporter": "python",
   "pygments_lexer": "ipython3",
   "version": "3.8.13"
  },
  "orig_nbformat": 4,
  "vscode": {
   "interpreter": {
    "hash": "525751f50e4ded4577caaeae091f12d958a9f2d0872428d29ec290a9d368db68"
   }
  }
 },
 "nbformat": 4,
 "nbformat_minor": 2
}
