{
 "cells": [
  {
   "cell_type": "code",
   "execution_count": 257,
   "metadata": {},
   "outputs": [],
   "source": [
    "# Importing packages\n",
    "import numpy as np\n",
    "import matplotlib.pyplot as plt\n",
    "from addict import Dict\n",
    "\n",
    "from cadet import Cadet"
   ]
  },
  {
   "cell_type": "code",
   "execution_count": 258,
   "metadata": {},
   "outputs": [],
   "source": [
    "# macOS installation path\n",
    "Cadet.cadet_path = '/Users/hoangnguyen/cadet-core/cadet/bin/cadet-cli'"
   ]
  },
  {
   "cell_type": "code",
   "execution_count": 259,
   "metadata": {},
   "outputs": [],
   "source": [
    "# Windows installation path\n",
    "# Cadet.cadet_path = 'C:/Users/hoang/miniconda3/envs/cadet-env/bin/cadet-cli.exe'"
   ]
  },
  {
   "cell_type": "markdown",
   "metadata": {},
   "source": [
    "# Example 1: Linear model"
   ]
  },
  {
   "cell_type": "code",
   "execution_count": 260,
   "metadata": {},
   "outputs": [],
   "source": [
    "# Setting up the model\n",
    "linear_model = Cadet()\n",
    "linear_model.root.input.model.nunits = 1"
   ]
  },
  {
   "cell_type": "markdown",
   "metadata": {},
   "source": [
    "## Example 1: Linear model\n",
    "\n",
    "The simplest model for adsorption is the [linear model](https://cadet.github.io/master/modelling/binding/linear.html).\n",
    "Analogously to Henry's law, it describes a linear correlation of the amount of the surface adsorbate to the partial pressure of the adsorptive gas or the concentration of the solute.\n",
    "\n",
    "\n",
    "Let us consider a shaking flask experiment a `CSTR` (without ingoing or outgoing streams).\n",
    "In it, we add some porous material s.t. the overal porosity is $0.5$. \n",
    "Then, we a solution of a component with $1~mol \\cdot L^{-1}$. \n",
    "\n",
    "\n",
    "Before defining the adsorption paramters, we start by defining the system of unit operations."
   ]
  },
  {
   "cell_type": "code",
   "execution_count": 261,
   "metadata": {},
   "outputs": [],
   "source": [
    "# CSTR\n",
    "linear_model.root.input.model.unit_000.unit_type = 'CSTR'\n",
    "linear_model.root.input.model.unit_000.ncomp = 1\n",
    "linear_model.root.input.model.unit_000.init_volume = 1e-3\n",
    "linear_model.root.input.model.unit_000.porosity = 0.5\n",
    "linear_model.root.input.model.unit_000.init_c = [1]\n",
    "linear_model.root.input.model.unit_000.init_q = [0]\n",
    "\n",
    "# Sections and Switches\n",
    "linear_model.root.input.solver.sections.nsec = 1\n",
    "linear_model.root.input.solver.sections.section_times = [0.0, 10]\n",
    "linear_model.root.input.solver.user_solution_times = np.linspace(0, 10, 1001)\n",
    "\n",
    "linear_model.root.input.model.connections.nswitches = 1\n",
    "linear_model.root.input.model.connections.switch_000.section = 0\n",
    "linear_model.root.input.model.connections.switch_000.connections = []"
   ]
  },
  {
   "cell_type": "code",
   "execution_count": 262,
   "metadata": {},
   "outputs": [],
   "source": [
    "# Adsorption\n",
    "linear_model.root.input.model.unit_000.nbound = [1]\n",
    "linear_model.root.input.model.unit_000.adsorption_model = 'LINEAR'\n",
    "\n",
    "linear_model.root.input.model.unit_000.adsorption.is_kinetic = True\n",
    "linear_model.root.input.model.unit_000.adsorption.lin_ka = [2]\n",
    "linear_model.root.input.model.unit_000.adsorption.lin_kd = [1]"
   ]
  },
  {
   "cell_type": "code",
   "execution_count": 263,
   "metadata": {},
   "outputs": [],
   "source": [
    "linear_model.root.input.model.solver.gs_type = 1\n",
    "linear_model.root.input.model.solver.max_krylov = 0\n",
    "linear_model.root.input.model.solver.max_restarts = 10\n",
    "linear_model.root.input.model.solver.schur_safety = 1e-8\n",
    "\n",
    "# Number of cores for parallel simulation\n",
    "linear_model.root.input.solver.nthreads = 1\n",
    "\n",
    "# Tolerances for the time integrator\n",
    "linear_model.root.input.solver.time_integrator.abstol = 1e-6\n",
    "linear_model.root.input.solver.time_integrator.algtol = 1e-10\n",
    "linear_model.root.input.solver.time_integrator.reltol = 1e-6\n",
    "linear_model.root.input.solver.time_integrator.init_step_size = 1e-6\n",
    "linear_model.root.input.solver.time_integrator.max_steps = 1000000"
   ]
  },
  {
   "cell_type": "code",
   "execution_count": 264,
   "metadata": {},
   "outputs": [],
   "source": [
    "# Return data\n",
    "linear_model.root.input['return'].split_components_data = 0\n",
    "linear_model.root.input['return'].split_ports_data = 0\n",
    "linear_model.root.input['return'].unit_000.write_solution_bulk = 1\n",
    "linear_model.root.input['return'].unit_000.write_solution_inlet = 1\n",
    "linear_model.root.input['return'].unit_000.write_solution_outlet = 1\n",
    "linear_model.root.input['return'].unit_000.write_solution_solid = 1"
   ]
  },
  {
   "cell_type": "code",
   "execution_count": 265,
   "metadata": {},
   "outputs": [
    {
     "name": "stdout",
     "output_type": "stream",
     "text": [
      "Simulation completed successfully\n"
     ]
    }
   ],
   "source": [
    "# Running simulation\n",
    "linear_model.filename = 'linear-adsorption.h5'\n",
    "linear_model.save()\n",
    "\n",
    "data = linear_model.run()\n",
    "\n",
    "if data.returncode == 0:\n",
    "    print(\"Simulation completed successfully\")\n",
    "    linear_model.load()\n",
    "else:\n",
    "    print(data)\n",
    "    raise Exception(\"Simulation failed\")"
   ]
  },
  {
   "cell_type": "code",
   "execution_count": 266,
   "metadata": {},
   "outputs": [
    {
     "data": {
      "text/plain": [
       "<matplotlib.legend.Legend at 0x13a726d60>"
      ]
     },
     "execution_count": 266,
     "metadata": {},
     "output_type": "execute_result"
    },
    {
     "data": {
      "image/png": "[encoded data removed]",
      "text/plain": [
       "<Figure size 640x480 with 1 Axes>"
      ]
     },
     "metadata": {},
     "output_type": "display_data"
    }
   ],
   "source": [
    "# Plot results\n",
    "plt.figure()\n",
    "time = linear_model.root.output.solution.solution_times\n",
    "solution_bulk = linear_model.root.output.solution.unit_000.solution_bulk\n",
    "solution_solid = linear_model.root.output.solution.unit_000.solution_solid\n",
    "plt.plot(time, solution_bulk, label='Bulk phase')\n",
    "plt.plot(time, solution_solid, label='Solid phase')\n",
    "plt.legend()"
   ]
  },
  {
   "cell_type": "markdown",
   "metadata": {},
   "source": [
    "# Example 2: Linear adsorption model with linear concentration gradient"
   ]
  },
  {
   "cell_type": "code",
   "execution_count": 267,
   "metadata": {},
   "outputs": [],
   "source": [
    "linear_gradient_model = Cadet()\n",
    "linear_gradient_model.root.input.model.nunits = 2"
   ]
  },
  {
   "cell_type": "code",
   "execution_count": 268,
   "metadata": {},
   "outputs": [],
   "source": [
    "n_comp = 2\n",
    "Q = 1e-3\n",
    "\n",
    "# INLET\n",
    "linear_gradient_model.root.input.model.unit_000.unit_type = 'INLET'\n",
    "linear_gradient_model.root.input.model.unit_000.ncomp = n_comp\n",
    "linear_gradient_model.root.input.model.unit_000.inlet_type = 'PIECEWISE_CUBIC_POLY'\n",
    "\n",
    "# CSTR\n",
    "linear_gradient_model.root.input.model.unit_001.unit_type = 'CSTR'\n",
    "linear_gradient_model.root.input.model.unit_001.ncomp = n_comp\n",
    "linear_gradient_model.root.input.model.unit_001.init_volume = 1e-3\n",
    "linear_gradient_model.root.input.model.unit_001.porosity = 0.5\n",
    "linear_gradient_model.root.input.model.unit_001.init_c = n_comp*[0]\n",
    "linear_gradient_model.root.input.model.unit_001.init_q = n_comp*[0]\n",
    "linear_gradient_model.root.input.model.unit_001.flow_rate_filter = Q\n",
    "\n",
    "# Sections and Switches\n",
    "linear_gradient_model.root.input.solver.sections.nsec = 1\n",
    "linear_gradient_model.root.input.solver.sections.section_times = [0.0, 1]\n",
    "linear_gradient_model.root.input.solver.user_solution_times = np.linspace(0, 1, 1001)\n",
    "\n",
    "linear_gradient_model.root.input.model.unit_000.sec_000.const_coeff = n_comp*[0]\n",
    "linear_gradient_model.root.input.model.unit_000.sec_000.lin_coeff = n_comp*[1]\n",
    "\n",
    "linear_gradient_model.root.input.model.connections.nswitches = 1\n",
    "linear_gradient_model.root.input.model.connections.switch_000.section = 0\n",
    "linear_gradient_model.root.input.model.connections.switch_000.connections = [0, 1, -1, -1, Q]"
   ]
  },
  {
   "cell_type": "code",
   "execution_count": 269,
   "metadata": {},
   "outputs": [],
   "source": [
    "adsorption_model = 'LINEAR'\n",
    "adsorption_parameters = Dict()\n",
    "adsorption_parameters.is_kinetic = False\n",
    "adsorption_parameters.lin_ka = [3, 2]\n",
    "adsorption_parameters.lin_kd = [1, 1]\n",
    "\n",
    "linear_gradient_model.root.input.model.unit_001.nbound = n_comp*[1]\n",
    "linear_gradient_model.root.input.model.unit_001.adsorption_model = adsorption_model\n",
    "linear_gradient_model.root.input.model.unit_001.adsorption = adsorption_parameters"
   ]
  },
  {
   "cell_type": "code",
   "execution_count": 270,
   "metadata": {},
   "outputs": [],
   "source": [
    "linear_gradient_model.root.input.model.solver.gs_type = 1\n",
    "linear_gradient_model.root.input.model.solver.max_krylov = 0\n",
    "linear_gradient_model.root.input.model.solver.max_restarts = 10\n",
    "linear_gradient_model.root.input.model.solver.schur_safety = 1e-8\n",
    "\n",
    "# Number of cores for parallel simulation\n",
    "linear_gradient_model.root.input.solver.nthreads = 1\n",
    "\n",
    "# Tolerances for the time integrator\n",
    "linear_gradient_model.root.input.solver.time_integrator.abstol = 1e-6\n",
    "linear_gradient_model.root.input.solver.time_integrator.algtol = 1e-10\n",
    "linear_gradient_model.root.input.solver.time_integrator.reltol = 1e-6\n",
    "linear_gradient_model.root.input.solver.time_integrator.init_step_size = 1e-6\n",
    "linear_gradient_model.root.input.solver.time_integrator.max_steps = 1000000"
   ]
  },
  {
   "cell_type": "code",
   "execution_count": 271,
   "metadata": {},
   "outputs": [],
   "source": [
    "# Return data\n",
    "linear_gradient_model.root.input['return'].split_components_data = 0\n",
    "linear_gradient_model.root.input['return'].split_ports_data = 0\n",
    "linear_gradient_model.root.input['return'].unit_001.write_solution_bulk = 1\n",
    "linear_gradient_model.root.input['return'].unit_001.write_solution_inlet = 1\n",
    "linear_gradient_model.root.input['return'].unit_001.write_solution_outlet = 1\n",
    "linear_gradient_model.root.input['return'].unit_001.write_solution_solid = 1"
   ]
  },
  {
   "cell_type": "code",
   "execution_count": 272,
   "metadata": {},
   "outputs": [
    {
     "name": "stdout",
     "output_type": "stream",
     "text": [
      "Simulation completed successfully\n"
     ]
    }
   ],
   "source": [
    "# Running simulation\n",
    "linear_gradient_model.filename = 'linear-adsorption-gradient.h5'\n",
    "linear_gradient_model.save()\n",
    "\n",
    "data = linear_gradient_model.run()\n",
    "\n",
    "if data.returncode == 0:\n",
    "    print(\"Simulation completed successfully\")\n",
    "    linear_gradient_model.load()\n",
    "else:\n",
    "    print(data)\n",
    "    raise Exception(\"Simulation failed\")"
   ]
  },
  {
   "cell_type": "code",
   "execution_count": 273,
   "metadata": {},
   "outputs": [
    {
     "data": {
      "text/plain": [
       "Text(0, 0.5, '$c_{solid}$')"
      ]
     },
     "execution_count": 273,
     "metadata": {},
     "output_type": "execute_result"
    },
    {
     "data": {
      "image/png": "[encoded data removed]",
      "text/plain": [
       "<Figure size 640x480 with 1 Axes>"
      ]
     },
     "metadata": {},
     "output_type": "display_data"
    }
   ],
   "source": [
    "# Plot results\n",
    "solution_bulk = linear_gradient_model.root.output.solution.unit_001.solution_bulk\n",
    "solution_solid = linear_gradient_model.root.output.solution.unit_001.solution_solid\n",
    "\n",
    "plt.figure()\n",
    "plt.title('Isotherm')\n",
    "plt.plot(solution_bulk, solution_solid)\n",
    "plt.xlabel('$c_{bulk}$')\n",
    "plt.ylabel('$c_{solid}$')"
   ]
  },
  {
   "cell_type": "markdown",
   "metadata": {},
   "source": [
    "# Example 3: Multi component Langmuir model"
   ]
  },
  {
   "cell_type": "markdown",
   "metadata": {},
   "source": [
    "## Example 3: Multi component Langmuir model\n",
    "\n",
    "Usually, the linear isotherm can only be assumed for very low solute concentrations.\n",
    "At higher, higher concentrations the limited number of available binding sites on the surface of the adsorbent also needs to be considered which the [Langmuir equation](https://cadet.github.io/master/modelling/binding/multi_component_langmuir.html) takes into account.\n",
    "\n",
    "$$q = q_{sat} \\cdot \\frac{b \\cdot c}{1 + b \\cdot c} = \\frac{a \\cdot c}{1 + b \\cdot c}$$\n",
    "\n",
    "***with:*** \n",
    "> $q_{Sat}$: saturation loading  \n",
    "> $b$ = equilibrium factor\n",
    "\n",
    "***Assumptions:***\n",
    "- All of the adsorption sites are equivalent, and each site can only accommodate one molecule\n",
    "- The surface is energetically homogeneous\n",
    "- Adsorbed molecules do not interact\n",
    "- There are no phase transitions\n",
    "- At the maximum adsorption, only a monolayer is formed\n",
    "\n",
    "For this example, we will introduce a concentration step to the `CSTR`. \n",
    "We consider two components, both with an inital concentration of $0~mM$, but with different binding strengths."
   ]
  },
  {
   "cell_type": "code",
   "execution_count": 274,
   "metadata": {},
   "outputs": [],
   "source": [
    "langmuir_model = Cadet()\n",
    "langmuir_model.root.input.model.nunits = 3"
   ]
  },
  {
   "cell_type": "code",
   "execution_count": 275,
   "metadata": {},
   "outputs": [],
   "source": [
    "# INTLET\n",
    "langmuir_model.root.input.model.unit_000.unit_type = 'INLET'\n",
    "langmuir_model.root.input.model.unit_000.ncomp = 2\n",
    "langmuir_model.root.input.model.unit_000.inlet_type = 'PIECEWISE_CUBIC_POLY'\n",
    "\n",
    "# CSTR\n",
    "langmuir_model.root.input.model.unit_001.unit_type = 'CSTR'\n",
    "langmuir_model.root.input.model.unit_001.ncomp = 2\n",
    "langmuir_model.root.input.model.unit_001.init_volume = 1e-3\n",
    "langmuir_model.root.input.model.unit_001.porosity = 0.5\n",
    "langmuir_model.root.input.model.unit_001.init_c = [0, 0]\n",
    "langmuir_model.root.input.model.unit_001.init_q = [0, 0]\n",
    "\n",
    "# OUTLET\n",
    "langmuir_model.root.input.model.unit_002.unit_type = 'OUTLET'\n",
    "langmuir_model.root.input.model.unit_002.ncomp = 2\n",
    "\n",
    "# Sections and Switches\n",
    "langmuir_model.root.input.solver.sections.nsec = 1\n",
    "langmuir_model.root.input.solver.sections.section_times = [0.0, 10]\n",
    "langmuir_model.root.input.solver.user_solution_times = np.linspace(0, 10, 1001)\n",
    "langmuir_model.root.input.model.unit_000.sec_000.const_coeff = n_comp*[1.0,]\n",
    "\n",
    "\n",
    "langmuir_model.root.input.model.connections.nswitches = 1\n",
    "langmuir_model.root.input.model.connections.switch_000.section = 0\n",
    "langmuir_model.root.input.model.connections.switch_000.connections = [\n",
    "    0, 1, -1, -1, 1e-3,\n",
    "    1, 2, -1, -1, 1e-3\n",
    "]"
   ]
  },
  {
   "cell_type": "code",
   "execution_count": 276,
   "metadata": {},
   "outputs": [],
   "source": [
    "langmuir_model.root.input.model.unit_001.nbound = [1, 1]\n",
    "langmuir_model.root.input.model.unit_001.adsorption_model = 'MULTI_COMPONENT_LANGMUIR'\n",
    "\n",
    "langmuir_model.root.input.model.unit_001.adsorption.is_kinetic = False\n",
    "langmuir_model.root.input.model.unit_001.adsorption.mcl_ka = [3, 1]\n",
    "langmuir_model.root.input.model.unit_001.adsorption.mcl_kd = [1, 1]\n",
    "langmuir_model.root.input.model.unit_001.adsorption.mcl_qmax = [1, 1]"
   ]
  },
  {
   "cell_type": "code",
   "execution_count": 277,
   "metadata": {},
   "outputs": [],
   "source": [
    "langmuir_model.root.input.model.solver.gs_type = 1\n",
    "langmuir_model.root.input.model.solver.max_krylov = 0\n",
    "langmuir_model.root.input.model.solver.max_restarts = 10\n",
    "langmuir_model.root.input.model.solver.schur_safety = 1e-8\n",
    "\n",
    "# Number of cores for parallel simulation\n",
    "langmuir_model.root.input.solver.nthreads = 1\n",
    "\n",
    "# Tolerances for the time integrator\n",
    "langmuir_model.root.input.solver.time_integrator.abstol = 1e-6\n",
    "langmuir_model.root.input.solver.time_integrator.algtol = 1e-10\n",
    "langmuir_model.root.input.solver.time_integrator.reltol = 1e-6\n",
    "langmuir_model.root.input.solver.time_integrator.init_step_size = 1e-6\n",
    "langmuir_model.root.input.solver.time_integrator.max_steps = 1000000"
   ]
  },
  {
   "cell_type": "code",
   "execution_count": 278,
   "metadata": {},
   "outputs": [],
   "source": [
    "# Return data\n",
    "langmuir_model.root.input['return'].split_components_data = 0\n",
    "langmuir_model.root.input['return'].split_ports_data = 0\n",
    "langmuir_model.root.input['return'].unit_001.write_solution_inlet = 1\n",
    "langmuir_model.root.input['return'].unit_001.write_solution_outlet = 1\n",
    "langmuir_model.root.input['return'].unit_001.write_solution_bulk = 1\n",
    "langmuir_model.root.input['return'].unit_001.write_solution_particle = 1\n",
    "langmuir_model.root.input['return'].unit_001.write_solution_solid = 1\n",
    "langmuir_model.root.input['return'].unit_001.write_solution_flux = 1\n",
    "langmuir_model.root.input['return'].unit_001.write_solution_volume = 1\n",
    "langmuir_model.root.input['return'].unit_001.write_coordinates = 1\n",
    "langmuir_model.root.input['return'].unit_001.write_sens_outlet = 1\n",
    "\n",
    "langmuir_model.root.input['return'].unit_000 = langmuir_model.root.input['return'].unit_001\n",
    "\n"
   ]
  },
  {
   "cell_type": "code",
   "execution_count": 279,
   "metadata": {},
   "outputs": [],
   "source": [
    "time = langmuir_model.root.output.solution.solution_times\n",
    "solution_bulk = langmuir_model.root.output.solution.unit_001.solution_bulk\n",
    "solution_solid = langmuir_model.root.output.solution.unit_001.solution_solid"
   ]
  },
  {
   "cell_type": "code",
   "execution_count": 282,
   "metadata": {},
   "outputs": [
    {
     "name": "stdout",
     "output_type": "stream",
     "text": [
      "Simulation completed successfully\n"
     ]
    }
   ],
   "source": [
    "# Running simulation\n",
    "langmuir_model.filename = 'langmuir.h5'\n",
    "langmuir_model.save()\n",
    "\n",
    "data = langmuir_model.run()\n",
    "\n",
    "if data.returncode == 0:\n",
    "    print(\"Simulation completed successfully\")\n",
    "    langmuir_model.load()\n",
    "else:\n",
    "    print(data)\n",
    "    raise Exception(\"Simulation failed\")"
   ]
  },
  {
   "cell_type": "code",
   "execution_count": 283,
   "metadata": {},
   "outputs": [
    {
     "ename": "TypeError",
     "evalue": "unhashable type: 'slice'",
     "output_type": "error",
     "traceback": [
      "\u001b[0;31m---------------------------------------------------------------------------\u001b[0m",
      "\u001b[0;31mTypeError\u001b[0m                                 Traceback (most recent call last)",
      "Cell \u001b[0;32mIn [283], line 4\u001b[0m\n\u001b[1;32m      2\u001b[0m colors \u001b[39m=\u001b[39m [\u001b[39m'\u001b[39m\u001b[39mb\u001b[39m\u001b[39m'\u001b[39m, \u001b[39m'\u001b[39m\u001b[39mr\u001b[39m\u001b[39m'\u001b[39m]\n\u001b[1;32m      3\u001b[0m \u001b[39mfor\u001b[39;00m c \u001b[39min\u001b[39;00m \u001b[39mrange\u001b[39m(n_comp):\n\u001b[0;32m----> 4\u001b[0m     plt\u001b[39m.\u001b[39mplot(time, solution_bulk[:,c], \u001b[39m'\u001b[39m\u001b[39m{}\u001b[39;00m\u001b[39m'\u001b[39m\u001b[39m.\u001b[39mformat(colors[c]), label\u001b[39m=\u001b[39m\u001b[39m'\u001b[39m\u001b[39mBulk \u001b[39m\u001b[39m{}\u001b[39;00m\u001b[39m'\u001b[39m\u001b[39m.\u001b[39mformat(c\u001b[39m+\u001b[39m\u001b[39m1\u001b[39m))\n\u001b[1;32m      5\u001b[0m \u001b[39mfor\u001b[39;00m c \u001b[39min\u001b[39;00m \u001b[39mrange\u001b[39m(n_comp):\n\u001b[1;32m      6\u001b[0m     plt\u001b[39m.\u001b[39mplot(time, solution_solid[:,c], \u001b[39m'\u001b[39m\u001b[39m{}\u001b[39;00m\u001b[39m--\u001b[39m\u001b[39m'\u001b[39m\u001b[39m.\u001b[39mformat(colors[c]), label\u001b[39m=\u001b[39m\u001b[39m'\u001b[39m\u001b[39mSolid \u001b[39m\u001b[39m{}\u001b[39;00m\u001b[39m'\u001b[39m\u001b[39m.\u001b[39mformat(c\u001b[39m+\u001b[39m\u001b[39m1\u001b[39m))\n",
      "\u001b[0;31mTypeError\u001b[0m: unhashable type: 'slice'"
     ]
    },
    {
     "data": {
      "text/plain": [
       "<Figure size 640x480 with 0 Axes>"
      ]
     },
     "metadata": {},
     "output_type": "display_data"
    }
   ],
   "source": [
    "plt.figure()\n",
    "colors = ['b', 'r']\n",
    "for c in range(n_comp):\n",
    "    plt.plot(time, solution_bulk[:,c], '{}'.format(colors[c]), label='Bulk {}'.format(c+1))\n",
    "for c in range(n_comp):\n",
    "    plt.plot(time, solution_solid[:,c], '{}--'.format(colors[c]), label='Solid {}'.format(c+1))\n",
    "plt.legend()"
   ]
  },
  {
   "cell_type": "code",
   "execution_count": null,
   "metadata": {},
   "outputs": [],
   "source": []
  }
 ],
 "metadata": {
  "kernelspec": {
   "display_name": "Python 3.8.13",
   "language": "python",
   "name": "python3"
  },
  "language_info": {
   "codemirror_mode": {
    "name": "ipython",
    "version": 3
   },
   "file_extension": ".py",
   "mimetype": "text/x-python",
   "name": "python",
   "nbconvert_exporter": "python",
   "pygments_lexer": "ipython3",
   "version": "3.8.13"
  },
  "orig_nbformat": 4,
  "vscode": {
   "interpreter": {
    "hash": "525751f50e4ded4577caaeae091f12d958a9f2d0872428d29ec290a9d368db68"
   }
  }
 },
 "nbformat": 4,
 "nbformat_minor": 2
}
