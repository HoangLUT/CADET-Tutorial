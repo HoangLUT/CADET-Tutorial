{
 "cells": [
  {
   "cell_type": "markdown",
   "metadata": {},
   "source": [
    "# Exercise 3: Adsorption models"
   ]
  },
  {
   "cell_type": "markdown",
   "metadata": {},
   "source": [
    "## Load CADETSettings\n",
    "\n",
    "This imports all the standard libraries and provides some helper functions."
   ]
  },
  {
   "cell_type": "code",
   "execution_count": null,
   "metadata": {},
   "outputs": [],
   "source": [
    "%run ../utils.ipynb"
   ]
  },
  {
   "cell_type": "markdown",
   "metadata": {},
   "source": [
    "## Model templates\n",
    "\n",
    "Again, we start with defining a function that creates a pre-configured model model to reduce the amount of required typing."
   ]
  },
  {
   "cell_type": "code",
   "execution_count": null,
   "metadata": {},
   "outputs": [],
   "source": [
    "# Do not delete!\n",
    "def create_cstr_template(adsorption_model, adsorption_parameters, n_bound):\n",
    "    \"\"\"\n",
    "    Parameters\n",
    "    ----------\n",
    "    \n",
    "    adsorption_model : str\n",
    "        Adsorption model\n",
    "    adsorption_parameters : dict\n",
    "        dictionary with model parameters\n",
    "    n_bound : list\n",
    "        list of bound states for every component\n",
    "    \"\"\"\n",
    "    Q = 1e-3\n",
    "    n_comp = len(n_bound)\n",
    "    \n",
    "    model = get_cadet_template(n_units=2)\n",
    "    \n",
    "    # INLET\n",
    "    model.root.input.model.unit_000.unit_type = 'INLET'\n",
    "    model.root.input.model.unit_000.ncomp = n_comp\n",
    "    model.root.input.model.unit_000.inlet_type = 'PIECEWISE_CUBIC_POLY'\n",
    "\n",
    "    # CSTR\n",
    "    model.root.input.model.unit_001.unit_type = 'CSTR'\n",
    "    model.root.input.model.unit_001.ncomp = n_comp\n",
    "    model.root.input.model.unit_001.init_volume = 1e-3\n",
    "    model.root.input.model.unit_001.porosity = 0.5\n",
    "    model.root.input.model.unit_001.init_c = n_comp*[0]\n",
    "    model.root.input.model.unit_001.init_q = n_comp*[0]\n",
    "    model.root.input.model.unit_001.flow_rate_filter = Q\n",
    "\n",
    "\n",
    "    model.root.input.model.unit_001.nbound = n_bound\n",
    "    model.root.input.model.unit_001.adsorption_model = adsorption_model\n",
    "    model.root.input.model.unit_001.adsorption = adsorption_parameters\n",
    "    \n",
    "    # Sections and Switches\n",
    "    model.root.input.solver.sections.nsec = 1\n",
    "    model.root.input.solver.sections.section_times = [0.0, 10]\n",
    "    \n",
    "    model.root.input.model.unit_000.sec_000.const_coeff = n_comp*[0]\n",
    "    model.root.input.model.unit_000.sec_000.lin_coeff = n_comp*[1]\n",
    "\n",
    "    model.root.input.model.connections.nswitches = 1\n",
    "    model.root.input.model.connections.switch_000.section = 0\n",
    "    model.root.input.model.connections.switch_000.connections = [0, 1, -1, -1, Q]\n",
    "\n",
    "\n",
    "    return model\n",
    "\n",
    "def plot_cstr_results(model):\n",
    "    solution_bulk = model.root.output.solution.unit_001.solution_bulk\n",
    "    solution_solid = model.root.output.solution.unit_001.solution_solid\n",
    "\n",
    "    plt.figure()\n",
    "    plt.title('Isotherm')\n",
    "    plt.plot(solution_bulk, solution_solid)\n",
    "    plt.xlabel('$c_{bulk}$')\n",
    "    plt.ylabel('$c_{solid}$')"
   ]
  },
  {
   "cell_type": "code",
   "execution_count": null,
   "metadata": {},
   "outputs": [],
   "source": [
    "# Do not delete!\n",
    "def create_column_template(adsorption_model, adsorption_parameters, n_bound, c_feed):\n",
    "    \"\"\"\n",
    "    Parameters\n",
    "    ----------\n",
    "    \n",
    "    adsorption_model : str\n",
    "        Adsorption model\n",
    "    adsorption_parameters : dict\n",
    "        dictionary with model parameters\n",
    "    n_bound : list\n",
    "        list of bound states for every component\n",
    "    c_feed : list\n",
    "        list of feed concentrations\n",
    "    \"\"\"\n",
    "    n_comp = len(c_feed)\n",
    "    Q = 1e-3\n",
    "    \n",
    "    model = get_cadet_template(n_units=3)\n",
    "    \n",
    "    # Unit Operations\n",
    "    ## Inlet\n",
    "    model.root.input.model.unit_000.unit_type = 'INLET'\n",
    "    model.root.input.model.unit_000.ncomp = n_comp\n",
    "    model.root.input.model.unit_000.inlet_type = 'PIECEWISE_CUBIC_POLY'\n",
    "\n",
    "    model.root.input.model.unit_000.sec_000.const_coeff = c_feed\n",
    "\n",
    "    # Tubular reactor\n",
    "    model.root.input.model.unit_001.unit_type = 'LUMPED_RATE_MODEL_WITHOUT_PORES'\n",
    "    model.root.input.model.unit_001.ncomp = n_comp\n",
    "    model.root.input.model.unit_001.col_length = 0.5\n",
    "    model.root.input.model.unit_001.cross_section_area = 0.1\n",
    "    model.root.input.model.unit_001.total_porosity = 0.5\n",
    "    model.root.input.model.unit_001.par_radius = 1e-6\n",
    "    model.root.input.model.unit_001.col_dispersion = 1e-6\n",
    "    model.root.input.model.unit_001.init_c = n_comp * [0]\n",
    "    model.root.input.model.unit_001.init_q = n_comp * [0]\n",
    "    \n",
    "    ### Adsorption\n",
    "    model.root.input.model.unit_001.adsorption_model = adsorption_model\n",
    "    model.root.input.model.unit_001.adsorption = adsorption_parameters\n",
    "\n",
    "    ### Discretization\n",
    "    set_discretization(model, n_bound)\n",
    "\n",
    "    ## Outlet\n",
    "    model.root.input.model.unit_002.unit_type = 'OUTLET'\n",
    "    model.root.input.model.unit_002.ncomp = n_comp\n",
    "\n",
    "    ## Sections and Switches\n",
    "    model.root.input.solver.sections.nsec = 1\n",
    "    model.root.input.solver.sections.section_times = [0.0, 240]\n",
    "    model.root.input.solver.sections.section_continuity = []\n",
    "\n",
    "    model.root.input.model.connections.nswitches = 1\n",
    "    model.root.input.model.connections.switch_000.section = 0\n",
    "    model.root.input.model.connections.switch_000.connections = [0, 1, -1, -1, Q,\n",
    "                                                                 1, 2, -1, -1, Q]\n",
    "    \n",
    "    return model\n",
    "\n",
    "\n",
    "def plot_column_results(model):\n",
    "    time = model.root.output.solution.solution_times\n",
    "    c = model.root.output.solution.unit_001.solution_outlet\n",
    "    \n",
    "    plt.figure()\n",
    "    plt.plot(time, c)\n",
    "    plt.title('Column (Outlet)')\n",
    "    plt.xlabel('$time~/~min$')\n",
    "    plt.ylabel('$concentration~/~mol \\cdot L^{-1} $')\n",
    "    plt.show()"
   ]
  },
  {
   "cell_type": "markdown",
   "metadata": {},
   "source": [
    "## Exercise 1: Single component Langmuir isotherm with linear gradient\n",
    "\n",
    "To plot the solid phase concentration as a function of the bulk concentration, we can introduce a linear concentration gradient to the `CSTR` that has an initial concentration of $0~g \\cdot L^{-1}$.\n",
    "For this purpose, we will make use of the `flowrate_filter` function of the `CSTR` (see [here](https://cadet.github.io/interface/unit_operations/cstr.html)).\n",
    "This way, we can add mass (or particles) to the tank without increasing it's volume.\n",
    "For this considereation, it is important to assume rapid equilibrium.\n",
    "\n",
    "***Hint:*** For using the `create_cstr_template()` function, pass the adsorption_model as first argument. \n",
    "For the adsorption_parametrers, create a `Dict` and assign the model parameters as keys.\n",
    "Also, you need to pass a list of binding states for every component."
   ]
  },
  {
   "cell_type": "code",
   "execution_count": null,
   "metadata": {},
   "outputs": [],
   "source": []
  },
  {
   "cell_type": "markdown",
   "metadata": {},
   "source": [
    "## Exercise 2: Breakthrough curve in a Column\n",
    "\n",
    "In this example, we look at a column with a `LINEAR` isotherm with $k_{eq, 1} = 2$, and $k_{eq, 2} = 1$.\n",
    "We want to record the breakthrough curve and for this purpose, a concentration step with $c_{feed} = [1.0, 1.0]~g \\cdot L^{-1} $is introduced at $t = 0$. \n",
    "\n",
    "***Task:*** Implement the configuration for the adsorption isotherm and pass it to the `create_column_template()` function. You also need to provide the number of can also provide\n",
    "\n",
    "Try experimenting with:\n",
    "- The binding strenth.\n",
    "- The number of components.\n",
    "- Modify how many components bind.\n",
    "- Compare kinetic binding with rapid equilibrium."
   ]
  },
  {
   "cell_type": "code",
   "execution_count": null,
   "metadata": {},
   "outputs": [],
   "source": []
  },
  {
   "cell_type": "markdown",
   "metadata": {},
   "source": [
    "## Exercise 3: Langmuir model in Column\n",
    "\n",
    "Let us consider the same experiment as in the first example, but this time with `MULTI_COMPONENT_LANGMUIR` adsorption model.\n",
    "\n",
    "with $k_{eq, i} = [2, 1]$, and $q_{max, i} = [10, 10]$.\n",
    "We again introduce a step with $c_{feed} = [1.0, 1.0]~g \\cdot L^{-1} $is introduced at $t = 0$ and the breakthrough curve is recorded.\n",
    "\n",
    "Try experimenting with:\n",
    "- The binding strenth.\n",
    "- The number of components.\n",
    "- Modify how many components bind.\n",
    "- Compare kinetic binding with rapid equilibrium."
   ]
  },
  {
   "cell_type": "code",
   "execution_count": null,
   "metadata": {},
   "outputs": [],
   "source": []
  },
  {
   "cell_type": "markdown",
   "metadata": {},
   "source": [
    "## Bonus Exercise\n",
    "\n",
    "There are many other models implemented in `CADET`. \n",
    "Some binding models can account for multiple binding states, others allow for mobile phase modulators.\n",
    "Moreover, binding models can use external functions for modifying the values of the parameters during the simulation.\n",
    "This could be used to model other effects like temperature that have an influence on the binding strength.\n",
    "\n",
    "Try implementing some of the more advanced isotherms and features."
   ]
  }
 ],
 "metadata": {
  "kernelspec": {
   "display_name": "Python 3",
   "language": "python",
   "name": "python3"
  },
  "language_info": {
   "codemirror_mode": {
    "name": "ipython",
    "version": 3
   },
   "file_extension": ".py",
   "mimetype": "text/x-python",
   "name": "python",
   "nbconvert_exporter": "python",
   "pygments_lexer": "ipython3",
   "version": "3.7.8"
  }
 },
 "nbformat": 4,
 "nbformat_minor": 4
}
