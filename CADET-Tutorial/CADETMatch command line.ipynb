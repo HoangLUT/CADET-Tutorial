{
 "cells": [
  {
   "cell_type": "markdown",
   "metadata": {},
   "source": [
    "# CADETMatch command line interface\n",
    "With the change to making CADETMatch a module on PyPi the command line interface has had to change.\n",
    "python -m CADETMatch   activates the command line interface, all other options come after that\n",
    "\n",
    "This document shows the example commands using Jupyter notebook to run them. To run them on the command line just remove the ! from the beginning of the line."
   ]
  },
  {
   "cell_type": "markdown",
   "metadata": {},
   "source": [
    "## Settings the number of workers\n",
    "The number of workers is set with\n",
    "-n number\n",
    "If number is 1 it runs in debug mode\n",
    "If this option is omitted the number of workers will be determined automatically.\n",
    "\n",
    "## Setting the JSON file\n",
    "The JSON configuration file is specified with\n",
    "-j /path/to/file.json\n",
    "\n",
    "## Setting the operation\n",
    "--match  Performs parameter estimation and error modeling\n",
    "\n",
    "--generate_corner  Creates corner plots\n",
    "\n",
    "--generate_graphs  Creates all the normal graphs\n",
    "\n",
    "--generate_spearman  Creates a spearman plot\n",
    "\n",
    "--generate_mcmc_plot_tube  Creates an error tube using error model data (Only works with MCMC)\n",
    "\n",
    "--generate_mle Creates the maximum liklihood plots from the error model (Only works with MCMC)\n"
   ]
  },
  {
   "cell_type": "markdown",
   "metadata": {},
   "source": [
    "## Examples\n",
    "### Run CADETMatch"
   ]
  },
  {
   "cell_type": "code",
   "execution_count": 9,
   "metadata": {
    "ExecuteTime": {
     "end_time": "2019-09-24T12:32:22.315997Z",
     "start_time": "2019-09-24T12:31:51.295094Z"
    }
   },
   "outputs": [
    {
     "name": "stdout",
     "output_type": "stream",
     "text": [
      "[2019-09-24 14:31:53,148] launcher  INFO    SCOOP 0.7 1.1 on win32 using Python 3.7.3 | packaged by conda-forge | (default, Jul  1 2019, 22:01:29) [MSC v.1900 64 bit (AMD64)], API: 1013\n",
      "[2019-09-24 14:31:53,148] launcher  INFO    Deploying 12 worker(s) over 1 host(s).\n",
      "[2019-09-24 14:31:53,148] launcher  INFO    Worker distribution: \n",
      "[2019-09-24 14:31:53,148] launcher  INFO       127.0.0.1:\t11 + origin\n",
      "[2019-09-24 14:31:55,995] match     (b'127.0.0.1:51697') INFO    create bias template for experiment main\n",
      "[2019-09-24 14:31:57,754] gradFD    (b'127.0.0.1:51697') INFO    overlap restriction not necessary\n",
      "[2019-09-24 14:31:57,784] util      (b'127.0.0.1:51697') INFO    Generation: 48 \tPopulation: 32 \tAverage Score: 0.999 \tBest: 1 \tMinimum Score: 0.998 \tBest: 1 \tProduct Score: 0.999 \tBest: 1\n",
      "[2019-09-24 14:32:01,106] launcher  INFO    SCOOP 0.7 1.1 on win32 using Python 3.7.3 | packaged by conda-forge | (default, Jul  1 2019, 22:01:29) [MSC v.1900 64 bit (AMD64)], API: 1013\n",
      "[2019-09-24 14:32:01,106] launcher  INFO    Deploying 1 worker(s) over 1 host(s).\n",
      "[2019-09-24 14:32:01,106] launcher  INFO    Worker distribution: \n",
      "[2019-09-24 14:32:01,106] launcher  INFO       127.0.0.1:\t0 + origin\n",
      "[2019-09-24 14:32:02,993] generate_corner_graphs (b'127.0.0.1:64317') INFO    graphing directory C:\\Users\\kosh_000\\Documents\\Visual Studio 2017\\Projects\\CADETMatch\\Examples\\Example1\\Dextran\n",
      "[2019-09-24 14:32:02,994] generate_corner_graphs (b'127.0.0.1:64317') INFO    plotting corner plots\n",
      "[2019-09-24 14:32:02,999] generate_corner_graphs (b'127.0.0.1:64317') INFO    graphing remove 0 points\n",
      "[2019-09-24 14:32:21,371] launcher  (127.0.0.1:51545) INFO    Root process is done.\n",
      "[2019-09-24 14:32:21,372] launcher  (127.0.0.1:51545) INFO    Finished cleaning spawned subprocesses.\n",
      "[2019-09-24 14:32:21,388] match     (b'127.0.0.1:51697') INFO    altFeatures False\n",
      "[2019-09-24 14:32:21,388] match     (b'127.0.0.1:51697') INFO    altFeatureNames []\n",
      "[2019-09-24 14:32:21,388] match     (b'127.0.0.1:51697') INFO    Sysem has finished\n",
      "[2019-09-24 14:32:21,388] match     (b'127.0.0.1:51697') INFO    The total runtime was 25.513906240463257 seconds\n",
      "[2019-09-24 14:32:22,129] launcher  (127.0.0.1:51053) INFO    Root process is done.\n",
      "[2019-09-24 14:32:22,131] launcher  (127.0.0.1:51053) INFO    Finished cleaning spawned subprocesses.\n"
     ]
    }
   ],
   "source": [
    "!python -m CADETMatch --match -j \"C:\\Users\\kosh_000\\Documents\\Visual Studio 2017\\Projects\\CADETMatch\\Examples\\Example1\\Dextran\\NSGA3_dextran.json\""
   ]
  },
  {
   "cell_type": "markdown",
   "metadata": {},
   "source": [
    "### Run CADETMatch with 6 workers"
   ]
  },
  {
   "cell_type": "code",
   "execution_count": 10,
   "metadata": {
    "ExecuteTime": {
     "end_time": "2019-09-24T12:33:00.651340Z",
     "start_time": "2019-09-24T12:32:22.316998Z"
    }
   },
   "outputs": [
    {
     "name": "stdout",
     "output_type": "stream",
     "text": [
      "[2019-09-24 14:32:24,178] launcher  INFO    SCOOP 0.7 1.1 on win32 using Python 3.7.3 | packaged by conda-forge | (default, Jul  1 2019, 22:01:29) [MSC v.1900 64 bit (AMD64)], API: 1013\n",
      "[2019-09-24 14:32:24,178] launcher  INFO    Deploying 6 worker(s) over 1 host(s).\n",
      "[2019-09-24 14:32:24,178] launcher  INFO    Worker distribution: \n",
      "[2019-09-24 14:32:24,178] launcher  INFO       127.0.0.1:\t5 + origin\n",
      "[2019-09-24 14:32:26,114] match     (b'127.0.0.1:60037') INFO    create bias template for experiment main\n",
      "[2019-09-24 14:32:28,214] gradFD    (b'127.0.0.1:60037') INFO    overlap restriction not necessary\n",
      "[2019-09-24 14:32:28,248] util      (b'127.0.0.1:60037') INFO    Generation: 48 \tPopulation: 32 \tAverage Score: 0.999 \tBest: 1 \tMinimum Score: 0.998 \tBest: 1 \tProduct Score: 0.999 \tBest: 1\n",
      "[2019-09-24 14:32:29,512] gradFD    (b'127.0.0.1:60037') INFO    overlap restriction not necessary\n",
      "[2019-09-24 14:32:29,535] util      (b'127.0.0.1:60037') INFO    Generation: 49 \tPopulation: 32 \tAverage Score: 0.999 \tBest: 1 \tMinimum Score: 0.998 \tBest: 1 \tProduct Score: 0.999 \tBest: 1\n",
      "[2019-09-24 14:32:30,775] gradFD    (b'127.0.0.1:60037') INFO    overlap restriction not necessary\n",
      "[2019-09-24 14:32:30,818] util      (b'127.0.0.1:60037') INFO    Generation: 50 \tPopulation: 32 \tAverage Score: 0.999 \tBest: 1 \tMinimum Score: 0.998 \tBest: 1 \tProduct Score: 0.999 \tBest: 1\n",
      "[2019-09-24 14:32:32,261] gradFD    (b'127.0.0.1:60037') INFO    overlap restriction not necessary\n",
      "[2019-09-24 14:32:32,288] util      (b'127.0.0.1:60037') INFO    Generation: 51 \tPopulation: 32 \tAverage Score: 0.999 \tBest: 1 \tMinimum Score: 0.998 \tBest: 1 \tProduct Score: 0.999 \tBest: 1\n",
      "[2019-09-24 14:32:33,533] gradFD    (b'127.0.0.1:60037') INFO    overlap restriction not necessary\n",
      "[2019-09-24 14:32:33,556] util      (b'127.0.0.1:60037') INFO    Generation: 52 \tPopulation: 32 \tAverage Score: 0.999 \tBest: 1 \tMinimum Score: 0.998 \tBest: 1 \tProduct Score: 0.999 \tBest: 1\n",
      "[2019-09-24 14:32:35,058] gradFD    (b'127.0.0.1:60037') INFO    overlap restriction not necessary\n",
      "[2019-09-24 14:32:35,087] util      (b'127.0.0.1:60037') INFO    Generation: 53 \tPopulation: 32 \tAverage Score: 0.999 \tBest: 1 \tMinimum Score: 0.998 \tBest: 1 \tProduct Score: 0.999 \tBest: 1\n",
      "[2019-09-24 14:32:38,761] launcher  INFO    SCOOP 0.7 1.1 on win32 using Python 3.7.3 | packaged by conda-forge | (default, Jul  1 2019, 22:01:29) [MSC v.1900 64 bit (AMD64)], API: 1013\n",
      "[2019-09-24 14:32:38,761] launcher  INFO    Deploying 1 worker(s) over 1 host(s).\n",
      "[2019-09-24 14:32:38,761] launcher  INFO    Worker distribution: \n",
      "[2019-09-24 14:32:38,761] launcher  INFO       127.0.0.1:\t0 + origin\n",
      "[2019-09-24 14:32:40,634] generate_corner_graphs (b'127.0.0.1:63939') INFO    graphing directory C:\\Users\\kosh_000\\Documents\\Visual Studio 2017\\Projects\\CADETMatch\\Examples\\Example1\\Dextran\n",
      "[2019-09-24 14:32:40,634] generate_corner_graphs (b'127.0.0.1:63939') INFO    plotting corner plots\n",
      "[2019-09-24 14:32:40,639] generate_corner_graphs (b'127.0.0.1:63939') INFO    graphing remove 0 points\n",
      "[2019-09-24 14:32:59,901] launcher  (127.0.0.1:51764) INFO    Root process is done.\n",
      "[2019-09-24 14:32:59,902] launcher  (127.0.0.1:51764) INFO    Finished cleaning spawned subprocesses.\n",
      "[2019-09-24 14:32:59,916] match     (b'127.0.0.1:60037') INFO    altFeatures False\n",
      "[2019-09-24 14:32:59,916] match     (b'127.0.0.1:60037') INFO    altFeatureNames []\n",
      "[2019-09-24 14:32:59,917] match     (b'127.0.0.1:60037') INFO    Sysem has finished\n",
      "[2019-09-24 14:32:59,917] match     (b'127.0.0.1:60037') INFO    The total runtime was 33.9217483997345 seconds\n",
      "[2019-09-24 14:33:00,479] launcher  (127.0.0.1:51583) INFO    Root process is done.\n",
      "[2019-09-24 14:33:00,479] launcher  (127.0.0.1:51583) INFO    Finished cleaning spawned subprocesses.\n"
     ]
    }
   ],
   "source": [
    "!python -m CADETMatch -n 6 --match -j \"C:\\Users\\kosh_000\\Documents\\Visual Studio 2017\\Projects\\CADETMatch\\Examples\\Example1\\Dextran\\NSGA3_dextran.json\""
   ]
  },
  {
   "cell_type": "markdown",
   "metadata": {
    "ExecuteTime": {
     "end_time": "2019-09-24T12:22:10.724512Z",
     "start_time": "2019-09-24T12:22:10.722512Z"
    }
   },
   "source": [
    "### Run CADETMatch in debug mode"
   ]
  },
  {
   "cell_type": "code",
   "execution_count": 11,
   "metadata": {
    "ExecuteTime": {
     "end_time": "2019-09-24T12:34:01.418980Z",
     "start_time": "2019-09-24T12:33:00.652310Z"
    }
   },
   "outputs": [
    {
     "name": "stdout",
     "output_type": "stream",
     "text": [
      "[2019-09-24 14:33:02,509] launcher  INFO    SCOOP 0.7 1.1 on win32 using Python 3.7.3 | packaged by conda-forge | (default, Jul  1 2019, 22:01:29) [MSC v.1900 64 bit (AMD64)], API: 1013\n",
      "[2019-09-24 14:33:02,509] launcher  INFO    Deploying 1 worker(s) over 1 host(s).\n",
      "[2019-09-24 14:33:02,509] launcher  INFO    Worker distribution: \n",
      "[2019-09-24 14:33:02,509] launcher  INFO       127.0.0.1:\t0 + origin\n",
      "[2019-09-24 14:33:04,005] match     (b'127.0.0.1:55478') INFO    create bias template for experiment main\n",
      "[2019-09-24 14:33:09,473] gradFD    (b'127.0.0.1:55478') INFO    overlap restriction not necessary\n",
      "[2019-09-24 14:33:09,507] util      (b'127.0.0.1:55478') INFO    Generation: 53 \tPopulation: 32 \tAverage Score: 0.999 \tBest: 1 \tMinimum Score: 0.998 \tBest: 1 \tProduct Score: 0.999 \tBest: 1\n",
      "[2019-09-24 14:33:14,683] gradFD    (b'127.0.0.1:55478') INFO    overlap restriction not necessary\n",
      "[2019-09-24 14:33:14,712] util      (b'127.0.0.1:55478') INFO    Generation: 54 \tPopulation: 32 \tAverage Score: 0.999 \tBest: 1 \tMinimum Score: 0.998 \tBest: 1 \tProduct Score: 0.999 \tBest: 1\n",
      "[2019-09-24 14:33:19,729] gradFD    (b'127.0.0.1:55478') INFO    overlap restriction not necessary\n",
      "[2019-09-24 14:33:19,758] util      (b'127.0.0.1:55478') INFO    Generation: 55 \tPopulation: 32 \tAverage Score: 0.999 \tBest: 1 \tMinimum Score: 0.998 \tBest: 1 \tProduct Score: 0.999 \tBest: 1\n",
      "[2019-09-24 14:33:24,849] gradFD    (b'127.0.0.1:55478') INFO    overlap restriction not necessary\n",
      "[2019-09-24 14:33:24,877] util      (b'127.0.0.1:55478') INFO    Generation: 56 \tPopulation: 32 \tAverage Score: 0.999 \tBest: 1 \tMinimum Score: 0.998 \tBest: 1 \tProduct Score: 0.999 \tBest: 1\n",
      "[2019-09-24 14:33:29,833] gradFD    (b'127.0.0.1:55478') INFO    overlap restriction not necessary\n",
      "[2019-09-24 14:33:29,858] util      (b'127.0.0.1:55478') INFO    Generation: 57 \tPopulation: 32 \tAverage Score: 0.999 \tBest: 1 \tMinimum Score: 0.998 \tBest: 1 \tProduct Score: 0.999 \tBest: 1\n",
      "[2019-09-24 14:33:34,830] gradFD    (b'127.0.0.1:55478') INFO    overlap restriction not necessary\n",
      "[2019-09-24 14:33:34,858] util      (b'127.0.0.1:55478') INFO    Generation: 58 \tPopulation: 32 \tAverage Score: 0.999 \tBest: 1 \tMinimum Score: 0.998 \tBest: 1 \tProduct Score: 0.999 \tBest: 1\n",
      "[2019-09-24 14:33:38,364] launcher  INFO    SCOOP 0.7 1.1 on win32 using Python 3.7.3 | packaged by conda-forge | (default, Jul  1 2019, 22:01:29) [MSC v.1900 64 bit (AMD64)], API: 1013\n",
      "[2019-09-24 14:33:38,364] launcher  INFO    Deploying 1 worker(s) over 1 host(s).\n",
      "[2019-09-24 14:33:38,364] launcher  INFO    Worker distribution: \n",
      "[2019-09-24 14:33:38,364] launcher  INFO       127.0.0.1:\t0 + origin\n",
      "[2019-09-24 14:33:40,239] generate_corner_graphs (b'127.0.0.1:59320') INFO    graphing directory C:\\Users\\kosh_000\\Documents\\Visual Studio 2017\\Projects\\CADETMatch\\Examples\\Example1\\Dextran\n",
      "[2019-09-24 14:33:40,239] generate_corner_graphs (b'127.0.0.1:59320') INFO    plotting corner plots\n",
      "[2019-09-24 14:33:40,244] generate_corner_graphs (b'127.0.0.1:59320') INFO    graphing remove 0 points\n",
      "[2019-09-24 14:34:00,807] launcher  (127.0.0.1:51909) INFO    Root process is done.\n",
      "[2019-09-24 14:34:00,807] launcher  (127.0.0.1:51909) INFO    Finished cleaning spawned subprocesses.\n",
      "[2019-09-24 14:34:00,823] match     (b'127.0.0.1:55478') INFO    altFeatures False\n",
      "[2019-09-24 14:34:00,823] match     (b'127.0.0.1:55478') INFO    altFeatureNames []\n",
      "[2019-09-24 14:34:00,823] match     (b'127.0.0.1:55478') INFO    Sysem has finished\n",
      "[2019-09-24 14:34:00,823] match     (b'127.0.0.1:55478') INFO    The total runtime was 56.934637784957886 seconds\n",
      "[2019-09-24 14:34:01,255] launcher  (127.0.0.1:51801) INFO    Root process is done.\n",
      "[2019-09-24 14:34:01,255] launcher  (127.0.0.1:51801) INFO    Finished cleaning spawned subprocesses.\n"
     ]
    }
   ],
   "source": [
    "!python -m CADETMatch -n 1 --match -j \"C:\\Users\\kosh_000\\Documents\\Visual Studio 2017\\Projects\\CADETMatch\\Examples\\Example1\\Dextran\\NSGA3_dextran.json\""
   ]
  },
  {
   "cell_type": "markdown",
   "metadata": {},
   "source": [
    "### Generate graphs\n",
    "Sometimes this is needed if you have aborted a run but want to generate graphs for all the data that you have. This can happen when the algorithm is clearly not making any more progress."
   ]
  },
  {
   "cell_type": "code",
   "execution_count": 12,
   "metadata": {
    "ExecuteTime": {
     "end_time": "2019-09-24T12:34:07.963659Z",
     "start_time": "2019-09-24T12:34:01.419952Z"
    }
   },
   "outputs": [
    {
     "name": "stdout",
     "output_type": "stream",
     "text": [
      "[2019-09-24 14:34:03,241] launcher  INFO    SCOOP 0.7 1.1 on win32 using Python 3.7.3 | packaged by conda-forge | (default, Jul  1 2019, 22:01:29) [MSC v.1900 64 bit (AMD64)], API: 1013\n",
      "[2019-09-24 14:34:03,241] launcher  INFO    Deploying 12 worker(s) over 1 host(s).\n",
      "[2019-09-24 14:34:03,241] launcher  INFO    Worker distribution: \n",
      "[2019-09-24 14:34:03,241] launcher  INFO       127.0.0.1:\t11 + origin\n",
      "[2019-09-24 14:34:06,025] generate_graphs (b'127.0.0.1:54882') INFO    graphing directory C:\\Users\\kosh_000\\Documents\\Visual Studio 2017\\Projects\\CADETMatch\\Examples\\Example1\\Dextran\n",
      "[2019-09-24 14:34:07,784] launcher  (127.0.0.1:51948) INFO    Root process is done.\n",
      "[2019-09-24 14:34:07,785] launcher  (127.0.0.1:51948) INFO    Finished cleaning spawned subprocesses.\n"
     ]
    }
   ],
   "source": [
    "!python -m CADETMatch -n 12 --generate_graphs -j \"C:\\Users\\kosh_000\\Documents\\Visual Studio 2017\\Projects\\CADETMatch\\Examples\\Example1\\Dextran\\NSGA3_dextran.json\""
   ]
  },
  {
   "cell_type": "code",
   "execution_count": null,
   "metadata": {},
   "outputs": [],
   "source": []
  }
 ],
 "metadata": {
  "kernelspec": {
   "display_name": "Python 3",
   "language": "python",
   "name": "python3"
  },
  "language_info": {
   "codemirror_mode": {
    "name": "ipython",
    "version": 3
   },
   "file_extension": ".py",
   "mimetype": "text/x-python",
   "name": "python",
   "nbconvert_exporter": "python",
   "pygments_lexer": "ipython3",
   "version": "3.7.3"
  },
  "toc": {
   "base_numbering": 1,
   "nav_menu": {},
   "number_sections": true,
   "sideBar": true,
   "skip_h1_title": false,
   "title_cell": "Table of Contents",
   "title_sidebar": "Contents",
   "toc_cell": false,
   "toc_position": {},
   "toc_section_display": true,
   "toc_window_display": false
  }
 },
 "nbformat": 4,
 "nbformat_minor": 2
}
