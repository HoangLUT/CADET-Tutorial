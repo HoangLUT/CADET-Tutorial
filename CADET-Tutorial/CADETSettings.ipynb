{
 "cells": [
  {
   "cell_type": "markdown",
   "metadata": {},
   "source": [
    "# CADET Settings\n",
    "\n",
    "This module has all of the standard pieces of code we need for the workshop so that we don't have to repeat it for every lesson.\n",
    "\n",
    "## Standard imports"
   ]
  },
  {
   "cell_type": "code",
   "execution_count": 1,
   "metadata": {
    "ExecuteTime": {
     "end_time": "2019-10-11T10:57:13.397909Z",
     "start_time": "2019-10-11T10:57:12.777892Z"
    }
   },
   "outputs": [
    {
     "data": {
      "text/html": [
       "<style>.container { width:100% !important; }</style>"
      ],
      "text/plain": [
       "<IPython.core.display.HTML object>"
      ]
     },
     "metadata": {},
     "output_type": "display_data"
    }
   ],
   "source": [
    "from IPython.core.display import display, HTML\n",
    "display(HTML(\"<style>.container { width:100% !important; }</style>\"))\n",
    "\n",
    "#Python path library support\n",
    "from pathlib import Path\n",
    "\n",
    "#python numeric library\n",
    "import numpy\n",
    "\n",
    "#scientific library for python\n",
    "import scipy\n",
    "\n",
    "#pandas is python library for data analysis\n",
    "import pandas\n",
    "\n",
    "#make the plots interactive\n",
    "%matplotlib inline\n",
    "\n",
    "#python plotting library\n",
    "import matplotlib.pyplot as plt\n",
    "\n",
    "#cadet python interface\n",
    "from cadet import Cadet\n",
    "\n",
    "#jupyter widget support\n",
    "from ipywidgets import interact\n",
    "import ipywidgets as widgets"
   ]
  },
  {
   "cell_type": "markdown",
   "metadata": {},
   "source": [
    "## Set path to CADET bin folder\n",
    "The next step is to tell the system where CADET can be found.\n",
    "\n",
    "If you have followed all the instructions above you can just run the following cell and it should automatically work."
   ]
  },
  {
   "cell_type": "code",
   "execution_count": 2,
   "metadata": {
    "ExecuteTime": {
     "end_time": "2019-10-11T10:59:28.485011Z",
     "start_time": "2019-10-11T10:59:28.477233Z"
    }
   },
   "outputs": [
    {
     "name": "stdout",
     "output_type": "stream",
     "text": [
      "CADET was found. Continue to the next step.\n"
     ]
    }
   ],
   "source": [
    "#This import is used to detect what operating system is being used to make this code automatic\n",
    "import platform\n",
    "\n",
    "#put in the path to the bin folder\n",
    "cadet_bin_path = Path.home() / \"CADET\" / \"cadet\" / \"bin\"\n",
    "\n",
    "if platform.system() == 'Windows':\n",
    "    cadet_path = cadet_bin_path / \"cadet-cli.exe\"\n",
    "    lwe_path = cadet_bin_path / \"createLWE.exe\"\n",
    "else:\n",
    "    cadet_path = cadet_bin_path / \"cadet-cli\"\n",
    "    lwe_path = cadet_bin_path / \"createLWE\"\n",
    "\n",
    "if cadet_path.exists() and lwe_path.exists():\n",
    "    print(\"CADET was found. Continue to the next step.\")\n",
    "    Cadet.cadet_path = cadet_path.as_posix()\n",
    "elif cadet_path.exists() and not lwe_path.exists():\n",
    "    print(\"CADET was found but createLWE.exe was not found. Please make sure that none of the files have been moved.\")\n",
    "else:\n",
    "    print(\"CADET could not be found. Please check the bin path\")"
   ]
  },
  {
   "cell_type": "markdown",
   "metadata": {},
   "source": [
    "## Create lesson folders and create lesson variables\n",
    "\n",
    "This will create all the lesson folders we need and make it easier to refer to previous lessons"
   ]
  },
  {
   "cell_type": "code",
   "execution_count": 4,
   "metadata": {
    "ExecuteTime": {
     "end_time": "2019-10-11T13:04:17.177588Z",
     "start_time": "2019-10-11T13:04:17.166586Z"
    }
   },
   "outputs": [],
   "source": [
    "#set this to a directory on your computer where the cadet tutorial files can be saved\n",
    "lesson_dir = Path.home() / \"CADET\" / \"lessons\"\n",
    "install = lesson_dir / \"lesson_0\"\n",
    "lesson_1 = lesson_dir / \"lesson_1\"\n",
    "lesson_2 = lesson_dir / \"lesson_2\"\n",
    "lesson_3 = lesson_dir / \"lesson_3\"\n",
    "lesson_4 = lesson_dir / \"lesson_4\"\n",
    "lesson_5 = lesson_dir / \"lesson_5\"\n",
    "lesson_6 = lesson_dir / \"lesson_6\"\n",
    "lesson_7 = lesson_dir / \"lesson_7\"\n",
    "lesson_8 = lesson_dir / \"lesson_8\"\n",
    "\n",
    "install.mkdir(exist_ok = True, parents=True)\n",
    "lesson_1.mkdir(exist_ok = True, parents=True)\n",
    "lesson_2.mkdir(exist_ok = True, parents=True)\n",
    "lesson_3.mkdir(exist_ok = True, parents=True)\n",
    "lesson_4.mkdir(exist_ok = True, parents=True)\n",
    "lesson_5.mkdir(exist_ok = True, parents=True)\n",
    "lesson_6.mkdir(exist_ok = True, parents=True)\n",
    "lesson_7.mkdir(exist_ok = True, parents=True)\n",
    "lesson_8.mkdir(exist_ok = True, parents=True)"
   ]
  },
  {
   "cell_type": "code",
   "execution_count": null,
   "metadata": {},
   "outputs": [],
   "source": []
  }
 ],
 "metadata": {
  "kernelspec": {
   "display_name": "Python 3",
   "language": "python",
   "name": "python3"
  },
  "language_info": {
   "codemirror_mode": {
    "name": "ipython",
    "version": 3
   },
   "file_extension": ".py",
   "mimetype": "text/x-python",
   "name": "python",
   "nbconvert_exporter": "python",
   "pygments_lexer": "ipython3",
   "version": "3.7.3"
  },
  "toc": {
   "base_numbering": 1,
   "nav_menu": {},
   "number_sections": true,
   "sideBar": true,
   "skip_h1_title": false,
   "title_cell": "Table of Contents",
   "title_sidebar": "Contents",
   "toc_cell": false,
   "toc_position": {},
   "toc_section_display": true,
   "toc_window_display": false
  }
 },
 "nbformat": 4,
 "nbformat_minor": 2
}
