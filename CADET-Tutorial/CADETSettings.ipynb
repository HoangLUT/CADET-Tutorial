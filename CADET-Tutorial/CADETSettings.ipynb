{
 "cells": [
  {
   "cell_type": "markdown",
   "metadata": {},
   "source": [
    "# CADET Settings\n",
    "\n",
    "This module has all of the standard pieces of code we need for the workshop so that we don't have to repeat it for every lesson.\n",
    "\n",
    "## Standard imports"
   ]
  },
  {
   "cell_type": "code",
   "execution_count": 17,
   "metadata": {
    "ExecuteTime": {
     "end_time": "2019-10-14T13:40:07.748900Z",
     "start_time": "2019-10-14T13:40:07.732900Z"
    }
   },
   "outputs": [
    {
     "data": {
      "text/html": [
       "<style>.container { width:100% !important; }</style>"
      ],
      "text/plain": [
       "<IPython.core.display.HTML object>"
      ]
     },
     "metadata": {},
     "output_type": "display_data"
    }
   ],
   "source": [
    "from IPython.core.display import display, HTML, clear_output\n",
    "display(HTML(\"<style>.container { width:100% !important; }</style>\"))\n",
    "\n",
    "#Python path library support\n",
    "from pathlib import Path\n",
    "\n",
    "#python numeric library\n",
    "import numpy\n",
    "\n",
    "#scientific library for python\n",
    "import scipy\n",
    "\n",
    "#pandas is python library for data analysis\n",
    "import pandas\n",
    "\n",
    "#addict is a library that makes it easier to create nested dictionaries\n",
    "from addict import Dict\n",
    "\n",
    "#json is a standard text based format and it used in CADETMatch for the configuration file\n",
    "import json\n",
    "\n",
    "#make the plots interactive\n",
    "#%matplotlib inline\n",
    "\n",
    "%config InlineBackend.figure_format='svg'\n",
    "%matplotlib inline\n",
    "\n",
    "#python plotting library\n",
    "import matplotlib.pyplot as plt\n",
    "\n",
    "#cadet python interface\n",
    "from cadet import Cadet\n",
    "\n",
    "#jupyter widget support\n",
    "from ipywidgets import interact, interactive\n",
    "import ipywidgets as widgets\n",
    "\n",
    "from CADETMatch.jupyter import Match"
   ]
  },
  {
   "cell_type": "markdown",
   "metadata": {},
   "source": [
    "## Set path to CADET bin folder\n",
    "The next step is to tell the system where CADET can be found.\n",
    "\n",
    "If you have followed all the instructions above you can just run the following cell and it should automatically work."
   ]
  },
  {
   "cell_type": "code",
   "execution_count": 2,
   "metadata": {
    "ExecuteTime": {
     "end_time": "2019-10-11T10:59:28.485011Z",
     "start_time": "2019-10-11T10:59:28.477233Z"
    }
   },
   "outputs": [
    {
     "name": "stdout",
     "output_type": "stream",
     "text": [
      "CADET was found. Continue to the next step.\n"
     ]
    }
   ],
   "source": [
    "#This import is used to detect what operating system is being used to make this code automatic\n",
    "import platform\n",
    "\n",
    "#put in the path to the bin folder\n",
    "cadet_bin_path = Path.home() / \"CADET\" / \"cadet\" / \"bin\"\n",
    "\n",
    "if platform.system() == 'Windows':\n",
    "    cadet_path = cadet_bin_path / \"cadet-cli.exe\"\n",
    "    lwe_path = cadet_bin_path / \"createLWE.exe\"\n",
    "else:\n",
    "    cadet_path = cadet_bin_path / \"cadet-cli\"\n",
    "    lwe_path = cadet_bin_path / \"createLWE\"\n",
    "\n",
    "if cadet_path.exists() and lwe_path.exists():\n",
    "    print(\"CADET was found. Continue to the next step.\")\n",
    "    Cadet.cadet_path = cadet_path.as_posix()\n",
    "elif cadet_path.exists() and not lwe_path.exists():\n",
    "    print(\"CADET was found but createLWE.exe was not found. Please make sure that none of the files have been moved.\")\n",
    "else:\n",
    "    print(\"CADET could not be found. Please check the bin path\")"
   ]
  },
  {
   "cell_type": "markdown",
   "metadata": {},
   "source": [
    "## Create lesson folders and create lesson variables\n",
    "\n",
    "This will create all the lesson folders we need and make it easier to refer to previous lessons"
   ]
  },
  {
   "cell_type": "code",
   "execution_count": 4,
   "metadata": {
    "ExecuteTime": {
     "end_time": "2019-10-11T13:04:17.177588Z",
     "start_time": "2019-10-11T13:04:17.166586Z"
    }
   },
   "outputs": [],
   "source": [
    "#set this to a directory on your computer where the cadet tutorial files can be saved\n",
    "lesson_dir = Path.home() / \"CADET\" / \"lessons\"\n",
    "install = lesson_dir / \"lesson_0\"\n",
    "lesson_1 = lesson_dir / \"lesson_1\"\n",
    "lesson_2 = lesson_dir / \"lesson_2\"\n",
    "lesson_3 = lesson_dir / \"lesson_3\"\n",
    "lesson_4 = lesson_dir / \"lesson_4\"\n",
    "lesson_5 = lesson_dir / \"lesson_5\"\n",
    "lesson_6 = lesson_dir / \"lesson_6\"\n",
    "lesson_7 = lesson_dir / \"lesson_7\"\n",
    "lesson_8 = lesson_dir / \"lesson_8\"\n",
    "\n",
    "install.mkdir(exist_ok = True, parents=True)\n",
    "lesson_1.mkdir(exist_ok = True, parents=True)\n",
    "lesson_2.mkdir(exist_ok = True, parents=True)\n",
    "lesson_3.mkdir(exist_ok = True, parents=True)\n",
    "lesson_4.mkdir(exist_ok = True, parents=True)\n",
    "lesson_5.mkdir(exist_ok = True, parents=True)\n",
    "lesson_6.mkdir(exist_ok = True, parents=True)\n",
    "lesson_7.mkdir(exist_ok = True, parents=True)\n",
    "lesson_8.mkdir(exist_ok = True, parents=True)"
   ]
  },
  {
   "cell_type": "markdown",
   "metadata": {},
   "source": [
    "## Create a function to set numeric defaults for simulations"
   ]
  },
  {
   "cell_type": "code",
   "execution_count": 7,
   "metadata": {
    "ExecuteTime": {
     "end_time": "2019-10-11T14:59:21.438307Z",
     "start_time": "2019-10-11T14:59:21.431732Z"
    }
   },
   "outputs": [],
   "source": [
    "def numeric_default(sim):\n",
    "    \"This sets some default numeric options, these should not be changed unless you know what you are doing\"\n",
    "    #basic solver settings, these values should rarely be changed\n",
    "    columns = {'GENERAL_RATE_MODEL', 'LUMPED_RATE_MODEL_WITH_PORES', 'LUMPED_RATE_MODEL_WITHOUT_PORES'}\n",
    "    \n",
    "    sim.root.input.model.solver.gs_type = 1\n",
    "    sim.root.input.model.solver.max_krylov = 0\n",
    "    sim.root.input.model.solver.max_restarts = 10\n",
    "    sim.root.input.model.solver.schur_safety  = 1e-8\n",
    "    \n",
    "    for unit_name, unit in sim.root.input.model.items():\n",
    "        if 'unit_' in unit_name and unit.unit_type in columns:\n",
    "            unit.discretization.par_disc_type = 'EQUIDISTANT_PAR'    \n",
    "            unit.discretization.reconstruction = 'WENO'\n",
    "            unit.discretization.gs_type = 1\n",
    "            unit.discretization.max_krylov = 0\n",
    "            unit.discretization.max_restarts = 10\n",
    "            unit.discretization.schur_safety = 1.0e-8\n",
    "\n",
    "            unit.discretization.weno.boundary_model = 0\n",
    "            unit.discretization.weno.weno_eps = 1e-10\n",
    "            unit.discretization.weno.weno_order = 3"
   ]
  },
  {
   "cell_type": "markdown",
   "metadata": {},
   "source": [
    "## Create some support functions to make life a little easier"
   ]
  },
  {
   "cell_type": "code",
   "execution_count": 16,
   "metadata": {
    "ExecuteTime": {
     "end_time": "2019-10-14T12:14:20.394220Z",
     "start_time": "2019-10-14T12:14:20.384254Z"
    }
   },
   "outputs": [],
   "source": [
    "#This is just a support function to make running the examples a bit easier later\n",
    "def deleteResultDir(path, match, match_file):\n",
    "    #This is to try and make sure that only an actual result directory can be removed\n",
    "    #And only if no other files have been added to the directory, just in case\n",
    "    if not path.exists():\n",
    "        return\n",
    "    allowed = {'evo', 'grad', 'log', 'mcmc', 'meta', 'misc', 'progress', \n",
    "               'space', 'error.csv', 'result.h5', 'progress.csv'}\n",
    "    \n",
    "    if 'csv' in match:\n",
    "        allowed.add(match.csv)\n",
    "    else:\n",
    "        allowed.add('results.csv')\n",
    "    \n",
    "    allowed.add(match_file.name)\n",
    "    okayToRemove = False\n",
    "    for child in path.iterdir():\n",
    "        if child.name not in allowed:\n",
    "            break\n",
    "    else:\n",
    "        okayToRemove = True\n",
    "    if okayToRemove:\n",
    "        import shutil\n",
    "        shutil.rmtree(path)\n",
    "        \n",
    "def fractionate(start_seq, stop_seq, times, values):\n",
    "    temp = []\n",
    "    for (start, stop) in zip(start_seq, stop_seq):\n",
    "        selected = (times >= start) & (times <= stop)\n",
    "        local_times = times[selected]\n",
    "        local_values = values[selected]\n",
    "        \n",
    "        stop = local_times[-1]\n",
    "        start = local_times[0]\n",
    "\n",
    "        temp.append(numpy.trapz(local_values, local_times)/ (stop - start))\n",
    "    return numpy.array(temp)\n",
    "\n",
    "def run_match(match_obj, match_file, true_values, delete):\n",
    "    \"create the matching object, run it and then look at output\"\n",
    "    match = Match(match_file.as_posix())\n",
    "\n",
    "    resultDir = Path(match_obj.baseDir) / match_obj.resultsDir\n",
    "    print(\"Your results are located at\", resultDir.as_posix(), '\\n\\n')\n",
    "\n",
    "    #If you want to delete the fitting process to start over remove the # from the next line and re-run this cell\\\n",
    "    if delete:\n",
    "        deleteResultDir(resultDir, match_obj, match_file)\n",
    "\n",
    "    match.start_sim()\n",
    "\n",
    "    match.plot_best()\n",
    "    best ,score, best_score = match.get_best()\n",
    "    for key,value in best_score.items():\n",
    "        print(\"Method: %s\" % key)\n",
    "        for name, val, true_value in zip(match.cache.parameter_headers, value, true_values):\n",
    "            print(\"%s = %.2e  true_value = %.2e error: %.2g%%\" % (name, val, true_value, numpy.abs(val-true_value)/val*100))\n",
    "        print('\\n')\n",
    "    return match\n",
    "\n",
    "def simple_run_match(match_obj, match_file, delete):\n",
    "    \"create the matching object, run it and then look at output\"\n",
    "    import matplotlib\n",
    "    \n",
    "    match = Match(match_file.as_posix())\n",
    "    \n",
    "    resultDir = Path(match_obj.baseDir) / match_obj.resultsDir\n",
    "\n",
    "    #If you want to delete the fitting process to start over remove the # from the next line and re-run this cell\\\n",
    "    if delete:\n",
    "        deleteResultDir(resultDir, match_obj, match_file)\n",
    "\n",
    "    match.start_sim()\n",
    "    \n",
    "    return match"
   ]
  },
  {
   "cell_type": "code",
   "execution_count": null,
   "metadata": {},
   "outputs": [],
   "source": []
  }
 ],
 "metadata": {
  "kernelspec": {
   "display_name": "Python 3",
   "language": "python",
   "name": "python3"
  },
  "language_info": {
   "codemirror_mode": {
    "name": "ipython",
    "version": 3
   },
   "file_extension": ".py",
   "mimetype": "text/x-python",
   "name": "python",
   "nbconvert_exporter": "python",
   "pygments_lexer": "ipython3",
   "version": "3.7.3"
  },
  "toc": {
   "base_numbering": 1,
   "nav_menu": {},
   "number_sections": true,
   "sideBar": true,
   "skip_h1_title": false,
   "title_cell": "Table of Contents",
   "title_sidebar": "Contents",
   "toc_cell": false,
   "toc_position": {},
   "toc_section_display": true,
   "toc_window_display": false
  }
 },
 "nbformat": 4,
 "nbformat_minor": 2
}
