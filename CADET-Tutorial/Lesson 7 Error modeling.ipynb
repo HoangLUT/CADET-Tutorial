{
 "cells": [
  {
   "cell_type": "markdown",
   "metadata": {},
   "source": [
    "# Error modeling\n",
    "\n",
    "The matching operation in this workbook takes a long time to run. You can run these cells later but please don't run them now since they will take hours to run.\n",
    "\n",
    "We will run two experiments for error modeling.\n",
    "\n",
    "1. Bypass experiment\n",
    "2. Dextran pulse experiment\n",
    "\n",
    "We will see how to setup a basic error model and how to carry the error from the bypass experiment over to the dextran pulse experiment.\n",
    "\n",
    "## Standard imports"
   ]
  },
  {
   "cell_type": "code",
   "execution_count": 1,
   "metadata": {
    "ExecuteTime": {
     "end_time": "2019-10-02T09:12:02.293343Z",
     "start_time": "2019-10-02T09:12:00.117314Z"
    }
   },
   "outputs": [
    {
     "data": {
      "text/html": [
       "<style>.container { width:100% !important; }</style>"
      ],
      "text/plain": [
       "<IPython.core.display.HTML object>"
      ]
     },
     "metadata": {},
     "output_type": "display_data"
    }
   ],
   "source": [
    "#from IPython.core.display import display, HTML\n",
    "from IPython.display import display, HTML, clear_output\n",
    "display(HTML(\"<style>.container { width:100% !important; }</style>\"))\n",
    "\n",
    "#Python path library support\n",
    "from pathlib import Path\n",
    "\n",
    "#python numeric library\n",
    "import numpy\n",
    "\n",
    "#python math library\n",
    "import math\n",
    "\n",
    "#scientific library for python\n",
    "import scipy\n",
    "\n",
    "#pandas is python library for data analysis\n",
    "import pandas\n",
    "\n",
    "#addict is a library that makes it easier to create nested dictionaries\n",
    "from addict import Dict\n",
    "\n",
    "#json is a standard text based format and it used in CADETMatch for the configuration file\n",
    "import json\n",
    "\n",
    "#python plotting library\n",
    "import matplotlib.pyplot as plt\n",
    "\n",
    "#cadet python interface\n",
    "from cadet import Cadet\n",
    "\n",
    "#jupyter widget support\n",
    "from ipywidgets import interact\n",
    "import ipywidgets as widgets\n",
    "\n",
    "from CADETMatch.jupyter import Match\n",
    "\n",
    "#This is just a support function to make running the examples a bit easier later\n",
    "def deleteResultDir(path):\n",
    "    #This is to try and make sure that only an actual result directory can be removed\n",
    "    #And only if no other files have been added to the directory, just in case\n",
    "    if not path.exists():\n",
    "        return\n",
    "    allowed = {'evo', 'grad', 'log', 'mcmc', 'meta', 'misc', 'progress', \n",
    "               'space', 'error.csv', 'result.h5', 'progress.csv'}\n",
    "    allowed.add(match.csv)\n",
    "    allowed.add(match_file.name)\n",
    "    okayToRemove = False\n",
    "    for child in path.iterdir():\n",
    "        if child.name not in allowed:\n",
    "            break\n",
    "    else:\n",
    "        okayToRemove = True\n",
    "    if okayToRemove:\n",
    "        import shutil\n",
    "        shutil.rmtree(path)\n",
    "        \n",
    "def run_match(match_obj, match_file, true_values, delete):\n",
    "    \"create the matching object, run it and then look at output\"\n",
    "    match = Match(match_file.as_posix())\n",
    "\n",
    "    resultDir = Path(match_obj.baseDir) / match_obj.resultsDir\n",
    "    print(\"Your results are located at\", resultDir.as_posix(), '\\n\\n')\n",
    "\n",
    "    #If you want to delete the fitting process to start over remove the # from the next line and re-run this cell\\\n",
    "    if delete:\n",
    "        deleteResultDir(resultDir)\n",
    "\n",
    "    match.start_sim()\n",
    "\n",
    "    match.plot_best()\n",
    "    best ,score, best_score = match.get_best()\n",
    "    for key,value in best_score.items():\n",
    "        print(\"Method: %s\" % key)\n",
    "        for name, val, true_value in zip(match.cache.parameter_headers, value, true_values):\n",
    "            print(\"%s = %.2e  true_value = %.2e error: %.2g%%\" % (name, val, true_value, numpy.abs(val-true_value)/val*100))\n",
    "        print('\\n')\n",
    "    return match"
   ]
  },
  {
   "cell_type": "markdown",
   "metadata": {},
   "source": [
    "## Setup CADET path\n",
    "\n",
    "In order to run examples we need to specify where CADET is.\n",
    "\n",
    "On Windows just change the cadet_bin_path to the bin directory of CADET\n",
    "\n",
    "On Linux you need to change the cadet_bin_path and also change cadet-cli.exe to cadet-cli on the following line."
   ]
  },
  {
   "cell_type": "code",
   "execution_count": 2,
   "metadata": {
    "ExecuteTime": {
     "end_time": "2019-10-02T09:12:07.908546Z",
     "start_time": "2019-10-02T09:12:07.898522Z"
    }
   },
   "outputs": [
    {
     "name": "stdout",
     "output_type": "stream",
     "text": [
      "CADET was found. Continue to the next step.\n",
      "C:/Users/kosh_000/cadet_build/CADET/VCPKG/bin/cadet-cli.exe\n"
     ]
    }
   ],
   "source": [
    "#put in the path to the bin folder\n",
    "cadet_bin_path = Path(r\"C:\\Users\\kosh_000\\cadet_build\\CADET\\VCPKG\\bin\")\n",
    "\n",
    "cadet_path = cadet_bin_path / \"cadet-cli.exe\"\n",
    "\n",
    "if cadet_path.exists():\n",
    "    print(\"CADET was found. Continue to the next step.\")\n",
    "    Cadet.cadet_path = cadet_path.as_posix()\n",
    "else:\n",
    "    print('CADET could not be found. Please check the bin path')\n",
    "    \n",
    "print(cadet_path.as_posix())"
   ]
  },
  {
   "cell_type": "markdown",
   "metadata": {},
   "source": [
    "## Create lesson folders and create lesson variables\n",
    "\n",
    "This will create all the lesson folders we need and make it easier to refer to previous lessons"
   ]
  },
  {
   "cell_type": "code",
   "execution_count": 3,
   "metadata": {
    "ExecuteTime": {
     "end_time": "2019-10-02T09:12:17.759433Z",
     "start_time": "2019-10-02T09:12:17.755461Z"
    }
   },
   "outputs": [],
   "source": [
    "#set this to a directory on your computer where the cadet tutorial files can be saved\n",
    "cadet_tutorial = Path('F:/temp/cadet_tutorial')\n",
    "lesson_1 = cadet_tutorial / \"lesson_1\"\n",
    "lesson_2 = cadet_tutorial / \"lesson_2\"\n",
    "lesson_3 = cadet_tutorial / \"lesson_3\"\n",
    "lesson_4 = cadet_tutorial / \"lesson_4\"\n",
    "lesson_5 = cadet_tutorial / \"lesson_5\"\n",
    "lesson_6 = cadet_tutorial / \"lesson_6\"\n",
    "lesson_6.mkdir(exist_ok = True, parents=True)"
   ]
  },
  {
   "cell_type": "markdown",
   "metadata": {},
   "source": [
    "# Create Bypass experiment"
   ]
  },
  {
   "cell_type": "code",
   "execution_count": null,
   "metadata": {},
   "outputs": [],
   "source": []
  },
  {
   "cell_type": "markdown",
   "metadata": {},
   "source": [
    "## Create configuration file"
   ]
  },
  {
   "cell_type": "code",
   "execution_count": null,
   "metadata": {},
   "outputs": [],
   "source": []
  },
  {
   "cell_type": "markdown",
   "metadata": {},
   "source": [
    "## Run match"
   ]
  },
  {
   "cell_type": "code",
   "execution_count": null,
   "metadata": {},
   "outputs": [],
   "source": []
  },
  {
   "cell_type": "markdown",
   "metadata": {},
   "source": [
    "## View results"
   ]
  },
  {
   "cell_type": "code",
   "execution_count": null,
   "metadata": {},
   "outputs": [],
   "source": []
  },
  {
   "cell_type": "markdown",
   "metadata": {},
   "source": [
    "# Create Dextran experiment"
   ]
  },
  {
   "cell_type": "code",
   "execution_count": null,
   "metadata": {},
   "outputs": [],
   "source": []
  },
  {
   "cell_type": "markdown",
   "metadata": {},
   "source": [
    "## Create configuration file"
   ]
  },
  {
   "cell_type": "code",
   "execution_count": null,
   "metadata": {},
   "outputs": [],
   "source": []
  },
  {
   "cell_type": "markdown",
   "metadata": {},
   "source": [
    "## Run match"
   ]
  },
  {
   "cell_type": "code",
   "execution_count": null,
   "metadata": {},
   "outputs": [],
   "source": []
  },
  {
   "cell_type": "markdown",
   "metadata": {},
   "source": [
    "## View results"
   ]
  },
  {
   "cell_type": "code",
   "execution_count": null,
   "metadata": {},
   "outputs": [],
   "source": []
  }
 ],
 "metadata": {
  "kernelspec": {
   "display_name": "Python 3",
   "language": "python",
   "name": "python3"
  },
  "language_info": {
   "codemirror_mode": {
    "name": "ipython",
    "version": 3
   },
   "file_extension": ".py",
   "mimetype": "text/x-python",
   "name": "python",
   "nbconvert_exporter": "python",
   "pygments_lexer": "ipython3",
   "version": "3.7.3"
  },
  "toc": {
   "base_numbering": 1,
   "nav_menu": {
    "height": "396.997px",
    "width": "556.997px"
   },
   "number_sections": true,
   "sideBar": true,
   "skip_h1_title": false,
   "title_cell": "Table of Contents",
   "title_sidebar": "Contents",
   "toc_cell": false,
   "toc_position": {},
   "toc_section_display": true,
   "toc_window_display": false
  }
 },
 "nbformat": 4,
 "nbformat_minor": 2
}
