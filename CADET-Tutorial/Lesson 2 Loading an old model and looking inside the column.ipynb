{
 "cells": [
  {
   "cell_type": "code",
   "execution_count": 38,
   "metadata": {
    "ExecuteTime": {
     "end_time": "2019-09-26T12:16:27.784968Z",
     "start_time": "2019-09-26T12:16:27.777459Z"
    }
   },
   "outputs": [
    {
     "data": {
      "text/html": [
       "<style>.container { width:100% !important; }</style>"
      ],
      "text/plain": [
       "<IPython.core.display.HTML object>"
      ]
     },
     "metadata": {},
     "output_type": "display_data"
    }
   ],
   "source": [
    "#from IPython.core.display import display, HTML\n",
    "from IPython.display import display, HTML, clear_output\n",
    "display(HTML(\"<style>.container { width:100% !important; }</style>\"))\n",
    "\n",
    "#Python path library support\n",
    "from pathlib import Path\n",
    "\n",
    "#python numeric library\n",
    "import numpy\n",
    "\n",
    "#scientific library for python\n",
    "import scipy\n",
    "\n",
    "#pandas is python library for data analysis\n",
    "import pandas\n",
    "\n",
    "#make the plots interactive\n",
    "#%matplotlib inline\n",
    "\n",
    "#python plotting library\n",
    "import matplotlib.pyplot as plt\n",
    "\n",
    "#cadet python interface\n",
    "from cadet import Cadet\n",
    "\n",
    "#jupyter widget support\n",
    "from ipywidgets import interact\n",
    "import ipywidgets as widgets"
   ]
  },
  {
   "cell_type": "code",
   "execution_count": 2,
   "metadata": {
    "ExecuteTime": {
     "end_time": "2019-09-26T11:30:02.902102Z",
     "start_time": "2019-09-26T11:30:02.894014Z"
    }
   },
   "outputs": [
    {
     "name": "stdout",
     "output_type": "stream",
     "text": [
      "CADET was found. Continue to the next step.\n"
     ]
    }
   ],
   "source": [
    "#put in the path to the bin folder\n",
    "cadet_bin_path = Path(r\"C:\\Users\\kosh_000\\cadet_build\\CADET\\VCPKG\\bin\")\n",
    "\n",
    "cadet_path = cadet_bin_path / \"cadet-cli.exe\"\n",
    "\n",
    "if cadet_path.exists():\n",
    "    print(\"CADET was found. Continue to the next step.\")\n",
    "    Cadet.cadet_path = cadet_path.as_posix()\n",
    "else:\n",
    "    print('CADET could not be found. Please check the bin path')"
   ]
  },
  {
   "cell_type": "code",
   "execution_count": 3,
   "metadata": {
    "ExecuteTime": {
     "end_time": "2019-09-26T11:30:02.919016Z",
     "start_time": "2019-09-26T11:30:02.903986Z"
    }
   },
   "outputs": [],
   "source": [
    "#set this to a directory on your computer where the cadet tutorial files can be saved\n",
    "cadet_tutorial = Path('F:/temp/cadet_tutorial')\n",
    "lesson_1 = cadet_tutorial / \"lesson_1\"\n",
    "lesson_2 = cadet_tutorial / \"lesson_2\"\n",
    "lesson_2.mkdir(exist_ok = True, parents=True)"
   ]
  },
  {
   "cell_type": "code",
   "execution_count": 48,
   "metadata": {
    "ExecuteTime": {
     "end_time": "2019-09-26T13:33:05.926344Z",
     "start_time": "2019-09-26T13:33:04.997345Z"
    }
   },
   "outputs": [
    {
     "name": "stdout",
     "output_type": "stream",
     "text": [
      "CompletedProcess(args=['C:/Users/kosh_000/cadet_build/CADET/VCPKG/bin/cadet-cli.exe', 'F:/temp/cadet_tutorial/lesson_2/grm_example/example.h5'], returncode=0, stdout=b'', stderr=b'')\n",
      "Simulation completed successfully\n"
     ]
    },
    {
     "data": {
      "image/png": "[encoded data removed]",
      "text/plain": [
       "<Figure size 720x720 with 1 Axes>"
      ]
     },
     "metadata": {
      "needs_background": "light"
     },
     "output_type": "display_data"
    }
   ],
   "source": [
    "#simple_grm model\n",
    "grm_example = lesson_2 / \"grm_example\"\n",
    "grm_example.mkdir(exist_ok = True)\n",
    "\n",
    "simple_grm = Cadet()\n",
    "\n",
    "#load a previous simulation to use as the base for the new one\n",
    "simple_grm.filename = (lesson_1 / \"simple_example\" / 'example.h5').as_posix()\n",
    "simple_grm.load()\n",
    "\n",
    "#give a filename for where the simulation should be saved\n",
    "simple_grm.filename = (grm_example / 'example.h5').as_posix()\n",
    "\n",
    "#take the original simulation and change just the parts we need\n",
    "\n",
    "#create a column\n",
    "simple_grm.root.input.model.unit_001.unit_type = 'GENERAL_RATE_MODEL'\n",
    "simple_grm.root.input.model.unit_001.film_diffusion = [2e-7,]\n",
    "simple_grm.root.input.model.unit_001.par_diffusion = [1e-11,]\n",
    "simple_grm.root.input.model.unit_001.par_surfdiffusion = [0.0,]\n",
    "\n",
    "#discretization column settings\n",
    "simple_grm.root.input.model.unit_001.discretization.npar = 10\n",
    "simple_grm.root.input.model.unit_001.discretization.par_disc_type = 'EQUIDISTANT_PAR'\n",
    "\n",
    "#set what values get saved\n",
    "simple_grm.root.input['return'].unit_000.write_solution_bulk = 1\n",
    "simple_grm.root.input['return'].unit_000.write_solution_flux = 0\n",
    "simple_grm.root.input['return'].unit_000.write_solution_inlet = 1\n",
    "simple_grm.root.input['return'].unit_000.write_solution_outlet = 1\n",
    "simple_grm.root.input['return'].unit_000.write_solution_particle = 1\n",
    "\n",
    "simple_grm.root.input['return'].unit_001 = simple_grm.root.input['return'].unit_000\n",
    "simple_grm.root.input['return'].unit_002 = simple_grm.root.input['return'].unit_000\n",
    "\n",
    "#set the times that the simulator writes out data for\n",
    "simple_grm.root.input.solver.user_solution_times = numpy.linspace(0, 1400, 1401)\n",
    "\n",
    "#solver settings\n",
    "simple_grm.root.input.solver.sections.section_times = [0.0, 50.0, 1400.0]\n",
    "\n",
    "#save the simulation\n",
    "simple_grm.save()\n",
    "\n",
    "#run the simulation\n",
    "data = simple_grm.run()\n",
    "\n",
    "print(data)\n",
    "\n",
    "if data.returncode == 0:\n",
    "    print(\"Simulation completed successfully\")\n",
    "    \n",
    "    #load the data from the simulation so we can view the results\n",
    "    simple_grm.load()\n",
    "    \n",
    "    #plot the simulation\n",
    "    plt.figure(figsize=[10,10])\n",
    "    plt.plot(simple_grm.root.output.solution.solution_times,\n",
    "        simple_grm.root.output.solution.unit_001.solution_outlet_comp_000)\n",
    "    \n",
    "    #write the chromatogram data out to a csv file\n",
    "    data = pandas.DataFrame([simple_grm.root.output.solution.solution_times,\n",
    "                        simple_grm.root.output.solution.unit_001.solution_outlet_comp_000]).transpose()\n",
    "    data.to_csv((grm_example / 'example.csv').as_posix(), index=False, header=False)\n",
    "    \n",
    "else:\n",
    "    print(\"Simulation failed\")"
   ]
  },
  {
   "cell_type": "code",
   "execution_count": 49,
   "metadata": {
    "ExecuteTime": {
     "end_time": "2019-09-26T13:33:10.411675Z",
     "start_time": "2019-09-26T13:33:10.408706Z"
    }
   },
   "outputs": [
    {
     "name": "stdout",
     "output_type": "stream",
     "text": [
      "(1401, 100, 1)\n"
     ]
    }
   ],
   "source": [
    "shape = simple_grm.root.output.solution.unit_001.solution_bulk.shape\n",
    "print(shape)"
   ]
  },
  {
   "cell_type": "code",
   "execution_count": 50,
   "metadata": {
    "ExecuteTime": {
     "end_time": "2019-09-26T13:33:11.636829Z",
     "start_time": "2019-09-26T13:33:11.513800Z"
    }
   },
   "outputs": [
    {
     "data": {
      "application/vnd.jupyter.widget-view+json": {
       "model_id": "4726634640274591ba23a4da29ae0c07",
       "version_major": 2,
       "version_minor": 0
      },
      "text/plain": [
       "interactive(children=(IntSlider(value=0, description='time', layout=Layout(width='800px'), max=1400, step=10),…"
      ]
     },
     "metadata": {},
     "output_type": "display_data"
    },
    {
     "data": {
      "text/plain": [
       "<function __main__.graph_column(time=0)>"
      ]
     },
     "execution_count": 50,
     "metadata": {},
     "output_type": "execute_result"
    }
   ],
   "source": [
    "ymax = numpy.max(simple_grm.root.output.solution.unit_001.solution_bulk[:])\n",
    "\n",
    "def graph_column(time=0):\n",
    "    position = list(range(simple_grm.root.input.model.unit_001.discretization.ncol))\n",
    "    values = simple_grm.root.output.solution.unit_001.solution_bulk[time, :, 0]\n",
    "    plt.figure(figsize=[15,5])\n",
    "    plt.plot(position, values)\n",
    "    plt.ylim(0, ymax)\n",
    "\n",
    "interact(graph_column, time=widgets.IntSlider(min=0, max=len(simple_grm.root.output.solution.solution_times) -1, step=10, value=0, layout={'width': '800px'}))"
   ]
  },
  {
   "cell_type": "code",
   "execution_count": 51,
   "metadata": {
    "ExecuteTime": {
     "end_time": "2019-09-26T13:33:18.995405Z",
     "start_time": "2019-09-26T13:33:18.991380Z"
    }
   },
   "outputs": [
    {
     "name": "stdout",
     "output_type": "stream",
     "text": [
      "(1401, 100, 10, 1)\n"
     ]
    }
   ],
   "source": [
    "shape = simple_grm.root.output.solution.unit_001.solution_particle.shape\n",
    "print(shape)"
   ]
  },
  {
   "cell_type": "code",
   "execution_count": 52,
   "metadata": {
    "ExecuteTime": {
     "end_time": "2019-09-26T13:33:19.167438Z",
     "start_time": "2019-09-26T13:33:18.997405Z"
    }
   },
   "outputs": [
    {
     "data": {
      "application/vnd.jupyter.widget-view+json": {
       "model_id": "bc1c1cf3bb99474fbd7db989b78ce716",
       "version_major": 2,
       "version_minor": 0
      },
      "text/plain": [
       "interactive(children=(IntSlider(value=0, description='time', layout=Layout(width='800px'), max=1400, step=10),…"
      ]
     },
     "metadata": {},
     "output_type": "display_data"
    },
    {
     "data": {
      "text/plain": [
       "<function __main__.graph_particle(time=0, par=0)>"
      ]
     },
     "execution_count": 52,
     "metadata": {},
     "output_type": "execute_result"
    }
   ],
   "source": [
    "ymax = numpy.max(simple_grm.root.output.solution.unit_001.solution_particle[:])\n",
    "\n",
    "def graph_particle(time=0, par=0):\n",
    "    plt.figure(figsize=(15,10))\n",
    "    position = list(range(simple_grm.root.input.model.unit_001.discretization.ncol))\n",
    "    values = simple_grm.root.output.solution.unit_001.solution_particle[time, :, par, 0]\n",
    "    plt.plot(position, values)\n",
    "    plt.ylim(0, ymax)\n",
    "\n",
    "interact(graph_particle, time=widgets.IntSlider(min=0, max=len(simple_grm.root.output.solution.solution_times) -1, step=10, value=0, layout={'width': '800px'}),\n",
    "         par=widgets.IntSlider(min=0, max=simple_grm.root.input.model.unit_001.discretization.npar - 1, step=1, value=0, layout={'width': '800px'}))"
   ]
  },
  {
   "cell_type": "code",
   "execution_count": null,
   "metadata": {},
   "outputs": [],
   "source": []
  }
 ],
 "metadata": {
  "kernelspec": {
   "display_name": "Python 3",
   "language": "python",
   "name": "python3"
  },
  "language_info": {
   "codemirror_mode": {
    "name": "ipython",
    "version": 3
   },
   "file_extension": ".py",
   "mimetype": "text/x-python",
   "name": "python",
   "nbconvert_exporter": "python",
   "pygments_lexer": "ipython3",
   "version": "3.7.3"
  },
  "toc": {
   "base_numbering": 1,
   "nav_menu": {},
   "number_sections": true,
   "sideBar": true,
   "skip_h1_title": false,
   "title_cell": "Table of Contents",
   "title_sidebar": "Contents",
   "toc_cell": false,
   "toc_position": {},
   "toc_section_display": true,
   "toc_window_display": false
  }
 },
 "nbformat": 4,
 "nbformat_minor": 2
}
