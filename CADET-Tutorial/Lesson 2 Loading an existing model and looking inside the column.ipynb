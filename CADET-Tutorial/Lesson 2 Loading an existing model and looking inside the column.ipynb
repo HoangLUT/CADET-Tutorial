{
 "cells": [
  {
   "cell_type": "markdown",
   "metadata": {},
   "source": [
    "# Lesson 2\n",
    "\n",
    "## Purpose\n",
    "\n",
    "In this lesson we will learn how to load an existing model and look inside the column.\n",
    "\n",
    "## Change langmuir, bound and looks at beads\n",
    "\n",
    "## Standard imports"
   ]
  },
  {
   "cell_type": "code",
   "execution_count": 1,
   "metadata": {
    "ExecuteTime": {
     "end_time": "2019-10-09T13:00:17.402694Z",
     "start_time": "2019-10-09T13:00:16.808641Z"
    }
   },
   "outputs": [
    {
     "data": {
      "text/html": [
       "<style>.container { width:100% !important; }</style>"
      ],
      "text/plain": [
       "<IPython.core.display.HTML object>"
      ]
     },
     "metadata": {},
     "output_type": "display_data"
    }
   ],
   "source": [
    "#from IPython.core.display import display, HTML\n",
    "from IPython.display import display, HTML, clear_output\n",
    "display(HTML(\"<style>.container { width:100% !important; }</style>\"))\n",
    "\n",
    "#Python path library support\n",
    "from pathlib import Path\n",
    "\n",
    "#python numeric library\n",
    "import numpy\n",
    "\n",
    "#scientific library for python\n",
    "import scipy\n",
    "\n",
    "#pandas is python library for data analysis\n",
    "import pandas\n",
    "\n",
    "#make the plots interactive\n",
    "#%matplotlib inline\n",
    "\n",
    "#python plotting library\n",
    "import matplotlib.pyplot as plt\n",
    "\n",
    "#cadet python interface\n",
    "from cadet import Cadet\n",
    "\n",
    "#jupyter widget support\n",
    "from ipywidgets import interact\n",
    "import ipywidgets as widgets"
   ]
  },
  {
   "cell_type": "markdown",
   "metadata": {},
   "source": [
    "## Setup CADET path\n",
    "\n",
    "In order to run examples we need to specify where CADET is.\n",
    "\n",
    "On Windows just change the cadet_bin_path to the bin directory of CADET\n",
    "\n",
    "On Linux you need to change the cadet_bin_path and also change cadet-cli.exe to cadet-cli on the following line."
   ]
  },
  {
   "cell_type": "code",
   "execution_count": 2,
   "metadata": {
    "ExecuteTime": {
     "end_time": "2019-10-09T13:00:17.412643Z",
     "start_time": "2019-10-09T13:00:17.404643Z"
    }
   },
   "outputs": [
    {
     "name": "stdout",
     "output_type": "stream",
     "text": [
      "CADET was found. Continue to the next step.\n"
     ]
    }
   ],
   "source": [
    "#put in the path to the bin folder\n",
    "cadet_bin_path = Path(r\"C:\\Users\\kosh_000\\cadet_build\\CADET\\VCPKG\\bin\")\n",
    "\n",
    "cadet_path = cadet_bin_path / \"cadet-cli.exe\"\n",
    "\n",
    "if cadet_path.exists():\n",
    "    print(\"CADET was found. Continue to the next step.\")\n",
    "    Cadet.cadet_path = cadet_path.as_posix()\n",
    "else:\n",
    "    print('CADET could not be found. Please check the bin path')"
   ]
  },
  {
   "cell_type": "markdown",
   "metadata": {
    "ExecuteTime": {
     "end_time": "2019-10-02T10:26:08.117630Z",
     "start_time": "2019-10-02T10:26:08.112629Z"
    }
   },
   "source": [
    "## Create lesson folders and create lesson variables\n",
    "\n",
    "This will create all the lesson folders we need and make it easier to refer to previous lessons"
   ]
  },
  {
   "cell_type": "code",
   "execution_count": 3,
   "metadata": {
    "ExecuteTime": {
     "end_time": "2019-10-09T13:00:17.429668Z",
     "start_time": "2019-10-09T13:00:17.414640Z"
    }
   },
   "outputs": [],
   "source": [
    "#set this to a directory on your computer where the cadet tutorial files can be saved\n",
    "cadet_tutorial = Path('F:/temp/cadet_tutorial')\n",
    "lesson_1 = cadet_tutorial / \"lesson_1\"\n",
    "lesson_2 = cadet_tutorial / \"lesson_2\"\n",
    "lesson_2.mkdir(exist_ok = True, parents=True)"
   ]
  },
  {
   "cell_type": "markdown",
   "metadata": {},
   "source": [
    "## Load an existing model and modify it\n",
    "\n",
    "In this example we will load the model from Lesson 1 and then change it from LUMPED_RATE_MODEL_WITH_PORES to GENERAL_RATE_MODEL so that we can look inside the particles"
   ]
  },
  {
   "cell_type": "code",
   "execution_count": 4,
   "metadata": {
    "ExecuteTime": {
     "end_time": "2019-10-09T13:00:18.422670Z",
     "start_time": "2019-10-09T13:00:17.431640Z"
    }
   },
   "outputs": [
    {
     "name": "stdout",
     "output_type": "stream",
     "text": [
      "CompletedProcess(args=['C:/Users/kosh_000/cadet_build/CADET/VCPKG/bin/cadet-cli.exe', 'F:/temp/cadet_tutorial/lesson_2/grm_example/example.h5'], returncode=0, stdout=b'', stderr=b'')\n",
      "Simulation completed successfully\n"
     ]
    },
    {
     "data": {
      "image/png": "[encoded data removed]",
      "text/plain": [
       "<Figure size 720x720 with 1 Axes>"
      ]
     },
     "metadata": {
      "needs_background": "light"
     },
     "output_type": "display_data"
    }
   ],
   "source": [
    "#simple_grm model\n",
    "grm_example = lesson_2 / \"grm_example\"\n",
    "grm_example.mkdir(exist_ok = True)\n",
    "\n",
    "simple_grm = Cadet()\n",
    "\n",
    "#load a previous simulation to use as the base for the new one\n",
    "simple_grm.filename = (lesson_1 / \"simple_example\" / 'example.h5').as_posix()\n",
    "simple_grm.load()\n",
    "\n",
    "#give a filename for where the simulation should be saved\n",
    "simple_grm.filename = (grm_example / 'example.h5').as_posix()\n",
    "\n",
    "#take the original simulation and change just the parts we need\n",
    "\n",
    "#create a column\n",
    "simple_grm.root.input.model.unit_001.unit_type = 'GENERAL_RATE_MODEL'\n",
    "simple_grm.root.input.model.unit_001.film_diffusion = [2e-7,]\n",
    "simple_grm.root.input.model.unit_001.par_diffusion = [1e-11,]\n",
    "simple_grm.root.input.model.unit_001.par_surfdiffusion = [0.0,]\n",
    "\n",
    "#discretization column settings\n",
    "simple_grm.root.input.model.unit_001.discretization.npar = 10\n",
    "simple_grm.root.input.model.unit_001.discretization.par_disc_type = 'EQUIDISTANT_PAR'\n",
    "\n",
    "#set what values get saved\n",
    "simple_grm.root.input['return'].unit_000.write_solution_bulk = 1\n",
    "simple_grm.root.input['return'].unit_000.write_solution_flux = 0\n",
    "simple_grm.root.input['return'].unit_000.write_solution_inlet = 1\n",
    "simple_grm.root.input['return'].unit_000.write_solution_outlet = 1\n",
    "simple_grm.root.input['return'].unit_000.write_solution_particle = 1\n",
    "\n",
    "simple_grm.root.input['return'].unit_001 = simple_grm.root.input['return'].unit_000\n",
    "simple_grm.root.input['return'].unit_002 = simple_grm.root.input['return'].unit_000\n",
    "\n",
    "#set the times that the simulator writes out data for\n",
    "simple_grm.root.input.solver.user_solution_times = numpy.linspace(0, 1400, 1401)\n",
    "\n",
    "#solver settings\n",
    "simple_grm.root.input.solver.sections.section_times = [0.0, 50.0, 1400.0]\n",
    "\n",
    "#save the simulation\n",
    "simple_grm.save()\n",
    "\n",
    "#run the simulation\n",
    "data = simple_grm.run()\n",
    "\n",
    "print(data)\n",
    "\n",
    "if data.returncode == 0:\n",
    "    print(\"Simulation completed successfully\")\n",
    "    \n",
    "    #load the data from the simulation so we can view the results\n",
    "    simple_grm.load()\n",
    "    \n",
    "    #plot the simulation\n",
    "    plt.figure(figsize=[10,10])\n",
    "    plt.plot(simple_grm.root.output.solution.solution_times,\n",
    "        simple_grm.root.output.solution.unit_001.solution_outlet_comp_000)\n",
    "    plt.xlabel('Time(s)')\n",
    "    plt.ylabel('Concentration (mM)')\n",
    "    \n",
    "    #write the chromatogram data out to a csv file\n",
    "    data = pandas.DataFrame([simple_grm.root.output.solution.solution_times,\n",
    "                        simple_grm.root.output.solution.unit_001.solution_outlet_comp_000]).transpose()\n",
    "    data.to_csv((grm_example / 'example.csv').as_posix(), index=False, header=False)\n",
    "    \n",
    "else:\n",
    "    print(\"Simulation failed\")"
   ]
  },
  {
   "cell_type": "markdown",
   "metadata": {},
   "source": [
    "## Look at the bulk concentration inside the column over time\n",
    "\n",
    "Set write_solution_bulk = 1 to write out the liquid phase concentration between the particles along the entire column at all time points.\n",
    "\n",
    "You can read this using\n",
    "\n",
    "```python\n",
    "solution_bulk[time, axial position, component]\n",
    "```\n"
   ]
  },
  {
   "cell_type": "code",
   "execution_count": 5,
   "metadata": {
    "ExecuteTime": {
     "end_time": "2019-10-09T13:00:18.552644Z",
     "start_time": "2019-10-09T13:00:18.424641Z"
    }
   },
   "outputs": [
    {
     "data": {
      "application/vnd.jupyter.widget-view+json": {
       "model_id": "2514a287eba9423a91ac5d001f27d264",
       "version_major": 2,
       "version_minor": 0
      },
      "text/plain": [
       "interactive(children=(IntSlider(value=0, description='time', layout=Layout(width='800px'), max=1400, step=10),…"
      ]
     },
     "metadata": {},
     "output_type": "display_data"
    },
    {
     "data": {
      "text/plain": [
       "<function __main__.graph_column(time=0)>"
      ]
     },
     "execution_count": 5,
     "metadata": {},
     "output_type": "execute_result"
    }
   ],
   "source": [
    "ymax = numpy.max(simple_grm.root.output.solution.unit_001.solution_bulk[:])\n",
    "\n",
    "def graph_column(time=0):\n",
    "    position = list(range(simple_grm.root.input.model.unit_001.discretization.ncol))\n",
    "    values = simple_grm.root.output.solution.unit_001.solution_bulk[time, :, 0]\n",
    "    plt.figure(figsize=[15,5])\n",
    "    plt.plot(position, values)\n",
    "    plt.ylim(0, ymax)\n",
    "    plt.xlabel('Column Length')\n",
    "    plt.ylabel('Concentration (mM)')\n",
    "\n",
    "interact(graph_column, time=widgets.IntSlider(min=0, max=len(simple_grm.root.output.solution.solution_times) -1, step=10, value=0, layout={'width': '800px'}))"
   ]
  },
  {
   "cell_type": "markdown",
   "metadata": {
    "ExecuteTime": {
     "end_time": "2019-10-02T11:02:01.004175Z",
     "start_time": "2019-10-02T11:02:00.999205Z"
    }
   },
   "source": [
    "## Look inside the particles\n",
    "\n",
    "Set write_solution_particle = 1 to write out the liquid phase concentration within the particles at each particle shell along the entire column at all time points.\n",
    "\n",
    "You can read this using\n",
    "\n",
    "```python\n",
    "solution_particle[time, axial position, particle position, component]\n",
    "```\n",
    "\n",
    "\n",
    "If you want to look at the solid phase concentration then set write_solution_solid = 1 to write out the bound phase concentration within the particles at each particle shell along the entire column at all time points.\n",
    "\n",
    "```python\n",
    "solution_solid[time, axial position, particle position, component]\n",
    "```"
   ]
  },
  {
   "cell_type": "code",
   "execution_count": 9,
   "metadata": {
    "ExecuteTime": {
     "end_time": "2019-10-09T13:07:40.366369Z",
     "start_time": "2019-10-09T13:07:40.160369Z"
    }
   },
   "outputs": [
    {
     "data": {
      "application/vnd.jupyter.widget-view+json": {
       "model_id": "8589418059924dc19470e94ede2c4485",
       "version_major": 2,
       "version_minor": 0
      },
      "text/plain": [
       "interactive(children=(IntSlider(value=0, description='time', layout=Layout(width='800px'), max=1400, step=10),…"
      ]
     },
     "metadata": {},
     "output_type": "display_data"
    },
    {
     "data": {
      "text/plain": [
       "<function __main__.graph_particle(time=0, col_pos=0)>"
      ]
     },
     "execution_count": 9,
     "metadata": {},
     "output_type": "execute_result"
    }
   ],
   "source": [
    "ymax = numpy.max(simple_grm.root.output.solution.unit_001.solution_particle[:])\n",
    "\n",
    "def graph_particle(time=0, col_pos=0):\n",
    "    plt.figure(figsize=(15,10))\n",
    "    position = list(range(simple_grm.root.input.model.unit_001.discretization.npar))\n",
    "    values = simple_grm.root.output.solution.unit_001.solution_particle[time, col_pos, :, 0]\n",
    "    plt.plot(position, values)\n",
    "    plt.ylim(0, ymax)\n",
    "    plt.xlabel('Particle Radius (0 = center)')\n",
    "    plt.ylabel('Concentration (mM)')\n",
    "\n",
    "interact(graph_particle, time=widgets.IntSlider(min=0, max=len(simple_grm.root.output.solution.solution_times) -1, step=10, value=0, layout={'width': '800px'}),\n",
    "         col_pos=widgets.IntSlider(min=0, max=simple_grm.root.input.model.unit_001.discretization.ncol - 1, step=1, value=0, layout={'width': '800px'}))"
   ]
  },
  {
   "cell_type": "code",
   "execution_count": null,
   "metadata": {},
   "outputs": [],
   "source": []
  }
 ],
 "metadata": {
  "kernelspec": {
   "display_name": "Python 3",
   "language": "python",
   "name": "python3"
  },
  "language_info": {
   "codemirror_mode": {
    "name": "ipython",
    "version": 3
   },
   "file_extension": ".py",
   "mimetype": "text/x-python",
   "name": "python",
   "nbconvert_exporter": "python",
   "pygments_lexer": "ipython3",
   "version": "3.7.3"
  },
  "toc": {
   "base_numbering": 1,
   "nav_menu": {},
   "number_sections": true,
   "sideBar": true,
   "skip_h1_title": false,
   "title_cell": "Table of Contents",
   "title_sidebar": "Contents",
   "toc_cell": false,
   "toc_position": {},
   "toc_section_display": true,
   "toc_window_display": false
  }
 },
 "nbformat": 4,
 "nbformat_minor": 2
}
