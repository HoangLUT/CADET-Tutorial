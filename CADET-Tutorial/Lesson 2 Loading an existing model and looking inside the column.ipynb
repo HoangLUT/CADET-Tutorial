{
 "cells": [
  {
   "cell_type": "markdown",
   "metadata": {},
   "source": [
    "# Lesson 2\n",
    "\n",
    "## Purpose\n",
    "\n",
    "In this lesson we will learn how to load an existing model and look inside the column.\n",
    "\n",
    "## Load CADETSettings\n",
    "\n",
    "This imports all the standard libraries, finds CADET and find and creates all the lesson folders."
   ]
  },
  {
   "cell_type": "code",
   "execution_count": 1,
   "metadata": {
    "ExecuteTime": {
     "end_time": "2019-10-11T15:01:03.257983Z",
     "start_time": "2019-10-11T15:01:02.427817Z"
    }
   },
   "outputs": [
    {
     "data": {
      "text/html": [
       "<style>.container { width:100% !important; }</style>"
      ],
      "text/plain": [
       "<IPython.core.display.HTML object>"
      ]
     },
     "metadata": {},
     "output_type": "display_data"
    },
    {
     "name": "stdout",
     "output_type": "stream",
     "text": [
      "CADET was found. Continue to the next step.\n"
     ]
    }
   ],
   "source": [
    "%run CADETSettings.ipynb"
   ]
  },
  {
   "cell_type": "markdown",
   "metadata": {},
   "source": [
    "## Load an existing model and modify it\n",
    "\n",
    "In this example we will load the model from Lesson 1 and modify it\n",
    "\n",
    "* LUMPED_RATE_MODEL_WITH_PORES to GENERAL_RATE_MODEL\n",
    "* Change adsorption to LANGMUIR\n",
    "\n",
    "This way we can look inside the beads and at binding."
   ]
  },
  {
   "cell_type": "code",
   "execution_count": 2,
   "metadata": {
    "ExecuteTime": {
     "end_time": "2019-10-11T15:01:43.037873Z",
     "start_time": "2019-10-11T15:01:03.260013Z"
    }
   },
   "outputs": [
    {
     "name": "stdout",
     "output_type": "stream",
     "text": [
      "CompletedProcess(args=['C:/Users/kosh_000/CADET/cadet/bin/cadet-cli.exe', 'C:/Users/kosh_000/CADET/lessons/lesson_2/example_0/example.h5'], returncode=0, stdout=b'', stderr=b'')\n",
      "Simulation completed successfully\n"
     ]
    },
    {
     "data": {
      "image/png": "[encoded data removed]",
      "text/plain": [
       "<Figure size 720x720 with 1 Axes>"
      ]
     },
     "metadata": {
      "needs_background": "light"
     },
     "output_type": "display_data"
    }
   ],
   "source": [
    "#simple_grm model\n",
    "example_dir_0 = lesson_2 / \"example_0\"\n",
    "example_dir_0.mkdir(exist_ok = True)\n",
    "\n",
    "example0 = Cadet()\n",
    "\n",
    "#load a previous simulation to use as the base for the new one\n",
    "example0.filename = (lesson_1 / \"example_0\" / 'example.h5').as_posix()\n",
    "example0.load()\n",
    "\n",
    "#give a filename for where the simulation should be saved\n",
    "example0.filename = (example_dir_0 / 'example.h5').as_posix()\n",
    "\n",
    "#take the original simulation and change just the parts we need\n",
    "\n",
    "#create a column\n",
    "example0.root.input.model.unit_001.unit_type = 'GENERAL_RATE_MODEL'\n",
    "example0.root.input.model.unit_001.film_diffusion = [2e-7,]\n",
    "example0.root.input.model.unit_001.par_diffusion = [5e-11,]\n",
    "example0.root.input.model.unit_001.par_surfdiffusion = [0.0,]\n",
    "\n",
    "example0.root.input.model.unit_001.adsorption_model = 'MULTI_COMPONENT_LANGMUIR'\n",
    "example0.root.input.model.unit_001.adsorption.mcl_ka = [2.0,]\n",
    "example0.root.input.model.unit_001.adsorption.mcl_kd = [1.0,]\n",
    "example0.root.input.model.unit_001.adsorption.mcl_qmax = [10.0,]\n",
    "example0.root.input.model.unit_001.adsorption.is_kinetic = 1\n",
    "\n",
    "\n",
    "#discretization column settings\n",
    "example0.root.input.model.unit_001.discretization.npar = 10\n",
    "example0.root.input.model.unit_001.discretization.nbound = [1,]\n",
    "example0.root.input.model.unit_001.discretization.par_disc_type = 'EQUIDISTANT_PAR'\n",
    "\n",
    "#set what values get saved\n",
    "example0.root.input['return'].unit_000.write_solution_inlet = 1\n",
    "\n",
    "example0.root.input['return'].unit_001.write_solution_particle = 1\n",
    "example0.root.input['return'].unit_001.write_solution_solid = 1\n",
    "example0.root.input['return'].unit_001.write_solution_bulk = 1\n",
    "\n",
    "example0.root.input['return'].unit_002.write_solution_outlet = 1\n",
    "\n",
    "#set the times that the simulator writes out data for\n",
    "example0.root.input.solver.user_solution_times = numpy.linspace(0, 16000, 16001)\n",
    "\n",
    "#solver settings\n",
    "example0.root.input.solver.sections.section_times = [0.0, 7000.0, 16000.0]\n",
    "\n",
    "#save the simulation\n",
    "example0.save()\n",
    "\n",
    "#run the simulation\n",
    "data = example0.run()\n",
    "\n",
    "print(data)\n",
    "\n",
    "if data.returncode == 0:\n",
    "    print(\"Simulation completed successfully\")\n",
    "    \n",
    "    #load the data from the simulation so we can view the results\n",
    "    example0.load()\n",
    "    \n",
    "    #plot the simulation\n",
    "    plt.figure(figsize=[10,10])\n",
    "    plt.plot(example0.root.output.solution.solution_times,\n",
    "        example0.root.output.solution.unit_002.solution_outlet_comp_000)\n",
    "    plt.xlabel('Time(s)')\n",
    "    plt.ylabel('Concentration (mM)')\n",
    "    \n",
    "    #write the chromatogram data out to a csv file\n",
    "    data = pandas.DataFrame([example0.root.output.solution.solution_times,\n",
    "                        example0.root.output.solution.unit_002.solution_outlet_comp_000]).transpose()\n",
    "    data.to_csv((example_dir_0 / 'example.csv').as_posix(), index=False, header=False)\n",
    "    \n",
    "else:\n",
    "    print(\"Simulation failed\")"
   ]
  },
  {
   "cell_type": "markdown",
   "metadata": {},
   "source": [
    "## Look at the bulk concentration inside the column over time\n",
    "\n",
    "Set write_solution_bulk = 1 to write out the liquid phase concentration between the particles along the entire column at all time points.\n",
    "\n",
    "You can read this using\n",
    "\n",
    "```python\n",
    "solution_bulk[time, axial position, component]\n",
    "```\n"
   ]
  },
  {
   "cell_type": "code",
   "execution_count": 3,
   "metadata": {
    "ExecuteTime": {
     "end_time": "2019-10-11T15:01:43.160896Z",
     "start_time": "2019-10-11T15:01:43.039874Z"
    }
   },
   "outputs": [
    {
     "data": {
      "application/vnd.jupyter.widget-view+json": {
       "model_id": "1e0ad01aa82f4e078a3739fa911b5102",
       "version_major": 2,
       "version_minor": 0
      },
      "text/plain": [
       "interactive(children=(IntSlider(value=0, description='time', layout=Layout(width='800px'), max=16000, step=10)…"
      ]
     },
     "metadata": {},
     "output_type": "display_data"
    },
    {
     "data": {
      "text/plain": [
       "<function __main__.graph_column(time=0)>"
      ]
     },
     "execution_count": 3,
     "metadata": {},
     "output_type": "execute_result"
    }
   ],
   "source": [
    "ymax = numpy.max(example0.root.output.solution.unit_001.solution_bulk[:]) * 1.1\n",
    "\n",
    "def graph_column(time=0):\n",
    "    position = list(range(example0.root.input.model.unit_001.discretization.ncol))\n",
    "    values = example0.root.output.solution.unit_001.solution_bulk[time, :, 0]\n",
    "    plt.figure(figsize=[15,5])\n",
    "    plt.plot(position, values)\n",
    "    plt.ylim(0, ymax)\n",
    "    plt.xlabel('Column Length')\n",
    "    plt.ylabel('Concentration (mM)')\n",
    "\n",
    "interact(graph_column, time=widgets.IntSlider(min=0, max=len(example0.root.output.solution.solution_times) -1, step=10, value=0, layout={'width': '800px'}))"
   ]
  },
  {
   "cell_type": "markdown",
   "metadata": {
    "ExecuteTime": {
     "end_time": "2019-10-02T11:02:01.004175Z",
     "start_time": "2019-10-02T11:02:00.999205Z"
    }
   },
   "source": [
    "## Look inside the particles\n",
    "\n",
    "Set write_solution_particle = 1 to write out the liquid phase concentration within the particles at each particle shell along the entire column at all time points.\n",
    "\n",
    "You can read this using\n",
    "\n",
    "```python\n",
    "solution_particle[time, axial position, particle position, component]\n",
    "```\n",
    "\n",
    "\n",
    "If you want to look at the solid phase concentration then set write_solution_solid = 1 to write out the bound phase concentration within the particles at each particle shell along the entire column at all time points.\n",
    "\n",
    "```python\n",
    "solution_solid[time, axial position, particle position, component]\n",
    "```"
   ]
  },
  {
   "cell_type": "code",
   "execution_count": 4,
   "metadata": {
    "ExecuteTime": {
     "end_time": "2019-10-11T15:01:43.322900Z",
     "start_time": "2019-10-11T15:01:43.162875Z"
    }
   },
   "outputs": [
    {
     "data": {
      "application/vnd.jupyter.widget-view+json": {
       "model_id": "32d8f721bc204750a19e21d54256c2db",
       "version_major": 2,
       "version_minor": 0
      },
      "text/plain": [
       "interactive(children=(IntSlider(value=0, description='time', layout=Layout(width='800px'), max=16000, step=10)…"
      ]
     },
     "metadata": {},
     "output_type": "display_data"
    },
    {
     "data": {
      "text/plain": [
       "<function __main__.graph_particle(time=0, col_pos=0)>"
      ]
     },
     "execution_count": 4,
     "metadata": {},
     "output_type": "execute_result"
    }
   ],
   "source": [
    "ymax = numpy.max(example0.root.output.solution.unit_001.solution_particle[:]) * 1.1\n",
    "\n",
    "def graph_particle(time=0, col_pos=0):\n",
    "    plt.figure(figsize=(15,10))\n",
    "    position = list(range(example0.root.input.model.unit_001.discretization.npar))\n",
    "    values = example0.root.output.solution.unit_001.solution_particle[time, col_pos, :, 0]\n",
    "    plt.plot(position, values)\n",
    "    plt.ylim(0, ymax)\n",
    "    plt.xlabel('Particle Radius (0 = center)')\n",
    "    plt.ylabel('Concentration (mM)')\n",
    "\n",
    "interact(graph_particle, time=widgets.IntSlider(min=0, max=len(example0.root.output.solution.solution_times) -1, step=10, value=0, layout={'width': '800px'}),\n",
    "         col_pos=widgets.IntSlider(min=0, max=example0.root.input.model.unit_001.discretization.ncol - 1, step=1, value=0, layout={'width': '800px'}))"
   ]
  },
  {
   "cell_type": "code",
   "execution_count": 5,
   "metadata": {
    "ExecuteTime": {
     "end_time": "2019-10-11T15:01:43.487901Z",
     "start_time": "2019-10-11T15:01:43.324900Z"
    }
   },
   "outputs": [
    {
     "data": {
      "application/vnd.jupyter.widget-view+json": {
       "model_id": "52096c49ec7d4673a72acaf88d2bbef8",
       "version_major": 2,
       "version_minor": 0
      },
      "text/plain": [
       "interactive(children=(IntSlider(value=0, description='time', layout=Layout(width='800px'), max=16000, step=10)…"
      ]
     },
     "metadata": {},
     "output_type": "display_data"
    },
    {
     "data": {
      "text/plain": [
       "<function __main__.graph_particle(time=0, col_pos=0)>"
      ]
     },
     "execution_count": 5,
     "metadata": {},
     "output_type": "execute_result"
    }
   ],
   "source": [
    "ymax = numpy.max(example0.root.output.solution.unit_001.solution_solid[:]) * 1.1\n",
    "\n",
    "def graph_particle(time=0, col_pos=0):\n",
    "    plt.figure(figsize=(15,10))\n",
    "    position = list(range(example0.root.input.model.unit_001.discretization.npar))\n",
    "    values = example0.root.output.solution.unit_001.solution_solid[time, col_pos, :, 0]\n",
    "    plt.plot(position, values)\n",
    "    plt.ylim(0, ymax)\n",
    "    plt.xlabel('Particle Radius (0 = center)')\n",
    "    plt.ylabel('Concentration (mM)')\n",
    "\n",
    "interact(graph_particle, time=widgets.IntSlider(min=0, max=len(example0.root.output.solution.solution_times) -1, step=10, value=0, layout={'width': '800px'}),\n",
    "         col_pos=widgets.IntSlider(min=0, max=example0.root.input.model.unit_001.discretization.ncol - 1, step=1, value=0, layout={'width': '800px'}))"
   ]
  },
  {
   "cell_type": "code",
   "execution_count": null,
   "metadata": {},
   "outputs": [],
   "source": []
  }
 ],
 "metadata": {
  "kernelspec": {
   "display_name": "Python 3",
   "language": "python",
   "name": "python3"
  },
  "language_info": {
   "codemirror_mode": {
    "name": "ipython",
    "version": 3
   },
   "file_extension": ".py",
   "mimetype": "text/x-python",
   "name": "python",
   "nbconvert_exporter": "python",
   "pygments_lexer": "ipython3",
   "version": "3.7.3"
  },
  "toc": {
   "base_numbering": 1,
   "nav_menu": {},
   "number_sections": true,
   "sideBar": true,
   "skip_h1_title": false,
   "title_cell": "Table of Contents",
   "title_sidebar": "Contents",
   "toc_cell": false,
   "toc_position": {},
   "toc_section_display": true,
   "toc_window_display": false
  }
 },
 "nbformat": 4,
 "nbformat_minor": 2
}
