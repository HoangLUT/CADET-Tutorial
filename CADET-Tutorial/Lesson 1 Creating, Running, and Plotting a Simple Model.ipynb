{
 "cells": [
  {
   "cell_type": "markdown",
   "metadata": {},
   "source": [
    "# Lesson 1\n",
    "\n",
    "## Purpose\n",
    "\n",
    "In this lesson we will learn how to create a simple model, run it and graph it.\n",
    "\n",
    "## Standard imports"
   ]
  },
  {
   "cell_type": "code",
   "execution_count": 9,
   "metadata": {
    "ExecuteTime": {
     "end_time": "2019-10-02T10:50:25.412001Z",
     "start_time": "2019-10-02T10:50:25.395031Z"
    }
   },
   "outputs": [
    {
     "data": {
      "text/html": [
       "<style>.container { width:100% !important; }</style>"
      ],
      "text/plain": [
       "<IPython.core.display.HTML object>"
      ]
     },
     "metadata": {},
     "output_type": "display_data"
    }
   ],
   "source": [
    "from IPython.core.display import display, HTML\n",
    "display(HTML(\"<style>.container { width:100% !important; }</style>\"))\n",
    "\n",
    "#Python path library support\n",
    "from pathlib import Path\n",
    "\n",
    "#python numeric library\n",
    "import numpy\n",
    "\n",
    "#scientific library for python\n",
    "import scipy\n",
    "\n",
    "#pandas is python library for data analysis\n",
    "import pandas\n",
    "\n",
    "#make the plots interactive\n",
    "%matplotlib inline\n",
    "\n",
    "#python plotting library\n",
    "import matplotlib.pyplot as plt\n",
    "\n",
    "#cadet python interface\n",
    "from cadet import Cadet\n",
    "\n",
    "#jupyter widget support\n",
    "from ipywidgets import interact\n",
    "import ipywidgets as widgets"
   ]
  },
  {
   "cell_type": "markdown",
   "metadata": {},
   "source": [
    "## Setup CADET path\n",
    "\n",
    "In order to run examples we need to specify where CADET is.\n",
    "\n",
    "On Windows just change the cadet_bin_path to the bin directory of CADET\n",
    "\n",
    "On Linux you need to change the cadet_bin_path and also change cadet-cli.exe to cadet-cli on the following line."
   ]
  },
  {
   "cell_type": "code",
   "execution_count": 2,
   "metadata": {
    "ExecuteTime": {
     "end_time": "2019-10-02T10:49:14.978418Z",
     "start_time": "2019-10-02T10:49:14.963421Z"
    }
   },
   "outputs": [
    {
     "name": "stdout",
     "output_type": "stream",
     "text": [
      "CADET was found. Continue to the next step.\n"
     ]
    }
   ],
   "source": [
    "#put in the path to the bin folder\n",
    "cadet_bin_path = Path(r\"C:\\Users\\kosh_000\\cadet_build\\CADET\\VCPKG\\bin\")\n",
    "\n",
    "cadet_path = cadet_bin_path / \"cadet-cli.exe\"\n",
    "\n",
    "if cadet_path.exists():\n",
    "    print(\"CADET was found. Continue to the next step.\")\n",
    "    Cadet.cadet_path = cadet_path.as_posix()\n",
    "else:\n",
    "    print('CADET could not be found. Please check the bin path')"
   ]
  },
  {
   "cell_type": "markdown",
   "metadata": {},
   "source": [
    "## Create lesson folders and create lesson variables\n",
    "\n",
    "This will create all the lesson folders we need and make it easier to refer to previous lessons"
   ]
  },
  {
   "cell_type": "code",
   "execution_count": 3,
   "metadata": {
    "ExecuteTime": {
     "end_time": "2019-10-02T10:49:14.990416Z",
     "start_time": "2019-10-02T10:49:14.980417Z"
    }
   },
   "outputs": [],
   "source": [
    "#set this to a directory on your computer where the cadet tutorial files can be saved\n",
    "cadet_tutorial = Path('F:/temp/cadet_tutorial')\n",
    "lesson_1 = cadet_tutorial / \"lesson_1\"\n",
    "lesson_1.mkdir(exist_ok = True, parents=True)"
   ]
  },
  {
   "cell_type": "markdown",
   "metadata": {},
   "source": [
    "# CADET documentation\n",
    "CADET documentation is available in PDF form in the Windows build in the zip file and can be downloaded from https://cadet-web.de/static/simulation/cadet_3_1_2.pdf . During this workshop you might want to open the pdf in a new tab or in something like Acrobat. I have embedded this in the notebook but for general usage it is easier to have it open separately."
   ]
  },
  {
   "cell_type": "code",
   "execution_count": 4,
   "metadata": {
    "ExecuteTime": {
     "end_time": "2019-10-02T10:49:15.009417Z",
     "start_time": "2019-10-02T10:49:14.992417Z"
    },
    "scrolled": false
   },
   "outputs": [
    {
     "data": {
      "text/html": [
       "\n",
       "        <iframe\n",
       "            width=\"100%\"\n",
       "            height=\"800\"\n",
       "            src=\"https://cadet-web.de/static/simulation/cadet_3_1_2.pdf\"\n",
       "            frameborder=\"0\"\n",
       "            allowfullscreen\n",
       "        ></iframe>\n",
       "        "
      ],
      "text/plain": [
       "<IPython.lib.display.IFrame at 0x213257dc1d0>"
      ]
     },
     "execution_count": 4,
     "metadata": {},
     "output_type": "execute_result"
    }
   ],
   "source": [
    "from IPython.display import IFrame\n",
    "IFrame(\"https://cadet-web.de/static/simulation/cadet_3_1_2.pdf\", width=\"100%\", height=\"800\")"
   ]
  },
  {
   "cell_type": "markdown",
   "metadata": {},
   "source": [
    "## Creating a simple model\n",
    "\n",
    "This is the same example that was used in the installation instructions and will now be looked at in more detail.\n",
    "\n",
    "It is helpful to split the screen here and put the documentation on one side and the model on the other."
   ]
  },
  {
   "cell_type": "code",
   "execution_count": 15,
   "metadata": {
    "ExecuteTime": {
     "end_time": "2019-10-02T10:53:20.049256Z",
     "start_time": "2019-10-02T10:53:19.716257Z"
    },
    "cell_style": "split"
   },
   "outputs": [
    {
     "name": "stdout",
     "output_type": "stream",
     "text": [
      "CompletedProcess(args=['C:/Users/kosh_000/cadet_build/CADET/VCPKG/bin/cadet-cli.exe', 'F:/temp/cadet_tutorial/lesson_1/simple_example/example.h5'], returncode=0, stdout=b'', stderr=b'')\n",
      "Simulation completed successfully\n"
     ]
    },
    {
     "data": {
      "image/png": "[encoded data removed]",
      "text/plain": [
       "<Figure size 720x720 with 1 Axes>"
      ]
     },
     "metadata": {
      "needs_background": "light"
     },
     "output_type": "display_data"
    }
   ],
   "source": [
    "#simple model\n",
    "simple_example = lesson_1 / \"simple_example\"\n",
    "simple_example.mkdir(exist_ok = True)\n",
    "\n",
    "simple = Cadet()\n",
    "\n",
    "#give a filename for where the simulation should be saved\n",
    "simple.filename = (simple_example / 'example.h5').as_posix()\n",
    "\n",
    "#set the number of unit operations\n",
    "simple.root.input.model.nunits = 3\n",
    "\n",
    "#nswitches is the number of different ways the units are connected in this simulation\n",
    "#This is important for cyclic system and more complex setups\n",
    "simple.root.input.model.connections.nswitches = 1\n",
    "\n",
    "simple.root.input.model.connections.switch_000.section = 0\n",
    "\n",
    "#this connects unit 0 to unit 1 and unit 1 to unit 2 with 2.88e-8 m^3/s with all components\n",
    "simple.root.input.model.connections.switch_000.connections = [0, 1, -1, -1, 2.88e-8,\n",
    "                                                              1, 2, -1, -1, 2.88e-8]\n",
    "\n",
    "#create an inlet\n",
    "simple.root.input.model.unit_000.unit_type = 'INLET'\n",
    "simple.root.input.model.unit_000.ncomp = 1\n",
    "simple.root.input.model.unit_000.inlet_type = 'PIECEWISE_CUBIC_POLY'\n",
    "\n",
    "#const_coeff + lin_coeff*t + quad_coeff*t^2 + cube_coeff*t^3\n",
    "simple.root.input.model.unit_000.sec_000.const_coeff = [1.0,]\n",
    "simple.root.input.model.unit_000.sec_000.lin_coeff = [0.0,]\n",
    "simple.root.input.model.unit_000.sec_000.quad_coeff = [0.0,]\n",
    "simple.root.input.model.unit_000.sec_000.cube_coeff = [0.0,]\n",
    "\n",
    "simple.root.input.model.unit_000.sec_001.const_coeff = [0.0,]\n",
    "simple.root.input.model.unit_000.sec_001.lin_coeff = [0.0,]\n",
    "simple.root.input.model.unit_000.sec_001.quad_coeff = [0.0,]\n",
    "simple.root.input.model.unit_000.sec_001.cube_coeff = [0.0,]\n",
    "\n",
    "#create an outlet\n",
    "simple.root.input.model.unit_002.ncomp = 1\n",
    "simple.root.input.model.unit_002.unit_type = 'OUTLET'\n",
    "\n",
    "#create a column\n",
    "simple.root.input.model.unit_001.unit_type = 'LUMPED_RATE_MODEL_WITH_PORES'\n",
    "simple.root.input.model.unit_001.ncomp = 1\n",
    "simple.root.input.model.unit_001.adsorption_model = 'NONE'\n",
    "simple.root.input.model.unit_001.init_c = [0.0,]\n",
    "simple.root.input.model.unit_001.init_q = [0.0,]\n",
    "simple.root.input.model.unit_001.col_dispersion = 2.0e-7\n",
    "simple.root.input.model.unit_001.col_length = 0.25\n",
    "simple.root.input.model.unit_001.col_porosity = 0.37\n",
    "simple.root.input.model.unit_001.film_diffusion = [0.0,]\n",
    "simple.root.input.model.unit_001.par_porosity = 0.33\n",
    "simple.root.input.model.unit_001.par_radius = 4.5e-5\n",
    "simple.root.input.model.unit_001.velocity = 1\n",
    "simple.root.input.model.unit_001.cross_section_area = 1.0386890710931253E-4\n",
    "\n",
    "#discretization column settings\n",
    "simple.root.input.model.unit_001.discretization.ncol = 100\n",
    "simple.root.input.model.unit_001.discretization.nbound = [0,]\n",
    "simple.root.input.model.unit_001.discretization.use_analytic_jacobian = 1\n",
    "simple.root.input.model.unit_001.discretization.reconstruction = 'WENO'\n",
    "simple.root.input.model.unit_001.discretization.gs_type = 1\n",
    "simple.root.input.model.unit_001.discretization.max_krylov = 0\n",
    "simple.root.input.model.unit_001.discretization.max_restarts = 10\n",
    "simple.root.input.model.unit_001.discretization.schur_safety = 1.0e-8\n",
    "\n",
    "simple.root.input.model.unit_001.discretization.weno.boundary_model = 0\n",
    "simple.root.input.model.unit_001.discretization.weno.weno_eps = 1e-10\n",
    "simple.root.input.model.unit_001.discretization.weno.weno_order = 3\n",
    "\n",
    "#set what values get saved\n",
    "simple.root.input['return'].unit_000.write_solution_bulk = 0\n",
    "simple.root.input['return'].unit_000.write_solution_flux = 0\n",
    "simple.root.input['return'].unit_000.write_solution_inlet = 1\n",
    "simple.root.input['return'].unit_000.write_solution_outlet = 1\n",
    "simple.root.input['return'].unit_000.write_solution_particle = 0\n",
    "\n",
    "simple.root.input['return'].unit_001 = simple.root.input['return'].unit_000\n",
    "simple.root.input['return'].unit_002 = simple.root.input['return'].unit_000\n",
    "\n",
    "#automatically run the simulation in parallel\n",
    "simple.root.input.solver.nthreads = 0\n",
    "\n",
    "#set the times that the simulator writes out data for\n",
    "simple.root.input.solver.user_solution_times = numpy.linspace(0, 600, 601)\n",
    "\n",
    "#set all the tolerances for the time integrator\n",
    "simple.root.input.solver.time_integrator.abstol = 1e-6\n",
    "simple.root.input.solver.time_integrator.algtol = 1e-10\n",
    "simple.root.input.solver.time_integrator.reltol = 1e-6\n",
    "simple.root.input.solver.time_integrator.init_step_size = 1e-6\n",
    "simple.root.input.solver.time_integrator.max_steps = 1000000\n",
    "\n",
    "#solver settings\n",
    "simple.root.input.solver.sections.nsec = 2\n",
    "simple.root.input.solver.sections.section_times = [0.0, 50.0, 600.0]\n",
    "simple.root.input.solver.sections.section_continuity = [0,]\n",
    "\n",
    "#basic solver settings, these values should rarely be changed\n",
    "simple.root.input.model.solver.gs_type = 1\n",
    "simple.root.input.model.solver.max_krylov = 0\n",
    "simple.root.input.model.solver.max_restarts = 10\n",
    "simple.root.input.model.solver.schur_safety  = 1e-8\n",
    "\n",
    "#save the simulation\n",
    "simple.save()\n",
    "\n",
    "#run the simulation\n",
    "data = simple.run()\n",
    "\n",
    "print(data)\n",
    "\n",
    "if data.returncode == 0:\n",
    "    print(\"Simulation completed successfully\")\n",
    "    \n",
    "    #load the data from the simulation so we can view the results\n",
    "    simple.load()\n",
    "    \n",
    "    #plot the simulation\n",
    "    plt.figure(figsize=[10,10])\n",
    "    plt.plot(simple.root.output.solution.solution_times,\n",
    "        simple.root.output.solution.unit_002.solution_outlet_comp_000)\n",
    "    plt.xlabel('Time(s)')\n",
    "    plt.ylabel('Concentration (mM)')\n",
    "    \n",
    "    #write the chromatogram data out to a csv file\n",
    "    data = pandas.DataFrame([simple.root.output.solution.solution_times,\n",
    "                        simple.root.output.solution.unit_001.solution_outlet_comp_000]).transpose()\n",
    "    data.to_csv((simple_example / 'example.csv').as_posix(), index=False, header=False)\n",
    "    \n",
    "else:\n",
    "    print(\"Simulation failed\")"
   ]
  },
  {
   "cell_type": "markdown",
   "metadata": {},
   "source": [
    "## Modify our previous model\n",
    "\n",
    "Once we have a working model we can create a new model that inherits all the settings from the previous model. This allows us to make a new model that changes just the parts we need to change and leave the rest intact. In this case we are inheriting from our previous model and modifying the simulation to write out more information in the solution than just the inlet and outlet."
   ]
  },
  {
   "cell_type": "code",
   "execution_count": 13,
   "metadata": {
    "ExecuteTime": {
     "end_time": "2019-10-02T10:52:52.843896Z",
     "start_time": "2019-10-02T10:52:52.491180Z"
    }
   },
   "outputs": [
    {
     "name": "stdout",
     "output_type": "stream",
     "text": [
      "Simulation completed successfully\n"
     ]
    },
    {
     "data": {
      "image/png": "[encoded data removed]",
      "text/plain": [
       "<Figure size 720x720 with 1 Axes>"
      ]
     },
     "metadata": {
      "needs_background": "light"
     },
     "output_type": "display_data"
    }
   ],
   "source": [
    "#simple model\n",
    "simple_example_return = lesson_1 / \"simple_example_return\"\n",
    "simple_example_return.mkdir(exist_ok = True)\n",
    "\n",
    "simple_return = Cadet(simple.root)\n",
    "\n",
    "#give a filename for where the simulation should be saved\n",
    "simple_return.filename = (simple_example_return / 'example.h5').as_posix()\n",
    "\n",
    "#set what values get saved\n",
    "simple_return.root.input['return'].unit_000.write_solution_bulk = 1\n",
    "simple_return.root.input['return'].unit_000.write_solution_flux = 0\n",
    "simple_return.root.input['return'].unit_000.write_solution_inlet = 1\n",
    "simple_return.root.input['return'].unit_000.write_solution_outlet = 1\n",
    "simple_return.root.input['return'].unit_000.write_solution_particle = 0\n",
    "\n",
    "simple_return.root.input['return'].unit_001 = simple_return.root.input['return'].unit_000\n",
    "simple_return.root.input['return'].unit_002 = simple_return.root.input['return'].unit_000\n",
    "\n",
    "simple_return.save()\n",
    "\n",
    "\n",
    "#run the simulation\n",
    "data = simple_return.run()\n",
    "\n",
    "if data.returncode == 0:\n",
    "    print(\"Simulation completed successfully\")\n",
    "    \n",
    "    #load the data from the simulation so we can view the results\n",
    "    simple_return.load()\n",
    "    \n",
    "    #plot the simulation\n",
    "    plt.figure(figsize=[10,10])\n",
    "    plt.plot(simple_return.root.output.solution.solution_times,\n",
    "        simple_return.root.output.solution.unit_002.solution_outlet_comp_000)\n",
    "    plt.xlabel('Time(s)')\n",
    "    plt.ylabel('Concentration (mM)')\n",
    "    \n",
    "    #write the chromatogram data out to a csv file\n",
    "    data = pandas.DataFrame([simple_return.root.output.solution.solution_times,\n",
    "                        simple_return.root.output.solution.unit_001.solution_outlet_comp_000]).transpose()\n",
    "    data.to_csv((simple_example_return / 'example.csv').as_posix(), index=False, header=False)\n",
    "    \n",
    "else:\n",
    "    print(\"Simulation failed\")"
   ]
  },
  {
   "cell_type": "markdown",
   "metadata": {},
   "source": [
    "## Looking inside the column\n",
    "\n",
    "CADET can also save everything that happened inside the column during a simulation. Depending on what internal data you save this can be a lot of data so only save it if you need it. \n",
    "\n",
    "Once you have this data you can look at how your molecule moved through the column and even inside the beads."
   ]
  },
  {
   "cell_type": "code",
   "execution_count": 14,
   "metadata": {
    "ExecuteTime": {
     "end_time": "2019-10-02T10:53:11.941280Z",
     "start_time": "2019-10-02T10:53:11.812278Z"
    }
   },
   "outputs": [
    {
     "data": {
      "application/vnd.jupyter.widget-view+json": {
       "model_id": "6e30fed89c8c4bc384101c36ee54d74c",
       "version_major": 2,
       "version_minor": 0
      },
      "text/plain": [
       "interactive(children=(IntSlider(value=0, description='time', layout=Layout(width='800px'), max=600, step=10), …"
      ]
     },
     "metadata": {},
     "output_type": "display_data"
    },
    {
     "data": {
      "text/plain": [
       "<function __main__.graph_column(time=0)>"
      ]
     },
     "execution_count": 14,
     "metadata": {},
     "output_type": "execute_result"
    }
   ],
   "source": [
    "ymax = numpy.max(simple_return.root.output.solution.unit_001.solution_bulk[:])\n",
    "\n",
    "def graph_column(time=0):\n",
    "    position = list(range(simple_return.root.input.model.unit_001.discretization.ncol))\n",
    "    values = simple_return.root.output.solution.unit_001.solution_bulk[time, :, 0]\n",
    "    plt.figure(figsize=[15,5])\n",
    "    plt.plot(position, values)\n",
    "    plt.ylim(0, ymax)\n",
    "    plt.xlabel('Column Length')\n",
    "    plt.ylabel('Concentration (mM)')\n",
    "\n",
    "interact(graph_column, time=widgets.IntSlider(min=0, max=len(simple_return.root.output.solution.solution_times) -1, step=10, layout={'width': '800px'}))"
   ]
  },
  {
   "cell_type": "code",
   "execution_count": null,
   "metadata": {},
   "outputs": [],
   "source": []
  }
 ],
 "metadata": {
  "kernelspec": {
   "display_name": "Python 3",
   "language": "python",
   "name": "python3"
  },
  "language_info": {
   "codemirror_mode": {
    "name": "ipython",
    "version": 3
   },
   "file_extension": ".py",
   "mimetype": "text/x-python",
   "name": "python",
   "nbconvert_exporter": "python",
   "pygments_lexer": "ipython3",
   "version": "3.7.3"
  },
  "toc": {
   "base_numbering": 1,
   "nav_menu": {},
   "number_sections": true,
   "sideBar": true,
   "skip_h1_title": false,
   "title_cell": "Table of Contents",
   "title_sidebar": "Contents",
   "toc_cell": false,
   "toc_position": {},
   "toc_section_display": true,
   "toc_window_display": false
  }
 },
 "nbformat": 4,
 "nbformat_minor": 2
}
