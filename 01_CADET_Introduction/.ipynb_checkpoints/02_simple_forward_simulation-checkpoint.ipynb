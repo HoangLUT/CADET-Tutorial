{
 "cells": [
  {
   "cell_type": "markdown",
   "metadata": {},
   "source": [
    "# CADET Introduction\n",
    "\n"
   ]
  },
  {
   "cell_type": "markdown",
   "metadata": {},
   "source": [
    "In this tutorial we will build a simple forward simulation with a breakthrough of one component.\n",
    "For this purpose, we use `CADET-Python`.\n",
    "\n",
    "Performing a forward simulation comprises several steps:\n",
    "* Setting up the model including all parameters\n",
    "* Setting up the discretization\n",
    "* Setting up the simulator\n",
    "* Running the simulation"
   ]
  },
  {
   "cell_type": "markdown",
   "metadata": {},
   "source": [
    "## 0. Preliminary steps\n",
    "First, we need to import some libraries and specify the location of the `cadet-cli`.\n",
    "It is located in the `bin` folder where CADET was installed."
   ]
  },
  {
   "cell_type": "code",
   "execution_count": 19,
   "metadata": {},
   "outputs": [],
   "source": [
    "import numpy as np\n",
    "import matplotlib.pyplot as plt\n",
    "\n",
    "from cadet import Cadet\n",
    "Cadet.cadet_path = '/path/to/cadet-cli'\n",
    "Cadet.cadet_path = '/home/jo/code/cadet/cadet_jugit/bin/cadet-cli'"
   ]
  },
  {
   "cell_type": "markdown",
   "metadata": {},
   "source": [
    "To create the model and specify its parameters, we create an instance of the `Cadet` class.\n",
    "In this object, the parameter structure is defined as described in the [manual](https://cadet.github.io/file_format/introduction.html).\n",
    "It is implemented as a `Dict` of the `addict` package (see [here](https://github.com/mewwts/addict)). \n",
    "This allows for creating arbitrary nested dictionaries using dot-notation."
   ]
  },
  {
   "cell_type": "code",
   "execution_count": 20,
   "metadata": {},
   "outputs": [],
   "source": [
    "model = Cadet()"
   ]
  },
  {
   "cell_type": "markdown",
   "metadata": {},
   "source": [
    "## 1. Setting up the models\n",
    "\n",
    "Although the order of the parameter specification does not matter, it is reasonable to first specify the number of unit operations before we select the models and define the parameters."
   ]
  },
  {
   "cell_type": "code",
   "execution_count": 21,
   "metadata": {},
   "outputs": [],
   "source": [
    "model.root.input.model.nunits = 3"
   ]
  },
  {
   "attachments": {
    "44e31eec-2e9e-47e8-9da6-798f4866bc4e.png": {
     "image/png": "[encoded data removed]"
    }
   },
   "cell_type": "markdown",
   "metadata": {},
   "source": [
    "The available models are listed in the [unit operation chapter](https://cadet.github.io/modelling/unit_operations) of the manual.\n",
    "The units for the different fields and quantities are given in the [file format chapter](https://cadet.github.io/file_format/unit_operations).\n",
    "\n",
    "In this case, we want to model the following system:\n",
    "\n",
    "![simple.png](attachment:44e31eec-2e9e-47e8-9da6-798f4866bc4e.png)"
   ]
  },
  {
   "cell_type": "markdown",
   "metadata": {},
   "source": [
    "### Inlet\n",
    "In CADET, the `INLET` pseudo unit operation serves as source for the system and is used to create arbitary concentration profiles as boundary conditions.\n",
    "First, we define an `Inlet` as the first unit operation by adding the field `unit_000` in the `/input/model/` group.\n",
    "The concentration profile is described using a third degree piecewise polynomial (spline in the continuous case) for each component, where the pieces are given by the sections.\n",
    "Later, we will define the polynomials, when we look at sections."
   ]
  },
  {
   "cell_type": "code",
   "execution_count": 22,
   "metadata": {},
   "outputs": [],
   "source": [
    "model.root.input.model.unit_000.unit_type = 'INLET'\n",
    "model.root.input.model.unit_000.ncomp = 1\n",
    "model.root.input.model.unit_000.inlet_type = 'PIECEWISE_CUBIC_POLY'"
   ]
  },
  {
   "cell_type": "markdown",
   "metadata": {},
   "source": [
    "### General Rate Model\n",
    "We now add a second unit operation for the column model. \n",
    "For the general rate model model, we set the `unit_type` parameter of the corresponding unit operation model to `GENERAL_RATE_MODEL`. \n",
    "In it, we set the parameters related with transport and column geometry.\n",
    "For a more detailed description of the parameters and theis units, see also the [manual](https://cadet.github.io/file_format/unit_operations/general_rate_model)."
   ]
  },
  {
   "cell_type": "code",
   "execution_count": 23,
   "metadata": {},
   "outputs": [],
   "source": [
    "model.root.input.model.unit_001.unit_type = 'GENERAL_RATE_MODEL'\n",
    "model.root.input.model.unit_001.ncomp = 1\n",
    "\n",
    "### Geometry\n",
    "model.root.input.model.unit_001.col_length = 0.1                # m\n",
    "model.root.input.model.unit_001.cross_section_area = 0.01       # m\n",
    "model.root.input.model.unit_001.col_porosity = 0.37             # -\n",
    "model.root.input.model.unit_001.par_porosity = 0.33             # -\n",
    "model.root.input.model.unit_001.par_radius = 1e-6               # m\n",
    "                                                                \n",
    "### Transport\n",
    "model.root.input.model.unit_001.col_dispersion = 1e-8           # m^2 / s (interstitial volume)\n",
    "model.root.input.model.unit_001.film_diffusion = [1e-5]         # m / s\n",
    "model.root.input.model.unit_001.par_diffusion = [1e-10,]        # m^2 / s (mobile phase)  \n",
    "model.root.input.model.unit_001.par_surfdiffusion = [0.0,]      # m^2 / s (solid phase)"
   ]
  },
  {
   "cell_type": "markdown",
   "metadata": {},
   "source": [
    "Note that film, particle, and surface diffusion are all component-specific, i.e., they are vectors of length `n_components`."
   ]
  },
  {
   "cell_type": "markdown",
   "metadata": {},
   "source": [
    "#### Adsorption Model\n",
    "\n",
    "Every unit operation can be associated with an adsorption model. \n",
    "The available models are listed in the [bindings chapter](https://cadet.github.io/modelling/binding) of the manual.\n",
    "\n",
    "For the Langmuir model, we set the `adsorption_model` parameter of the corresponding unit operation model to `MULTI_COMPONENT_LANGMUIR`. \n",
    "Then, we decide if we want to use the rapid-equilibrium assumption in the binding model (`is_kinetic = False`), which is not the case here (dynamic binding).\n",
    "Finally, the parameters of the binding models have to be set for each component (they are vectors of length `n_components`). \n",
    "They are described in the chapter on [file format specifications](https://cadet.github.io/modelling/binding) in the manual.\n",
    "In case of the Langmuir model, we have to specify the parameters `kA`, `kD`, and `qMAX`."
   ]
  },
  {
   "cell_type": "code",
   "execution_count": 24,
   "metadata": {},
   "outputs": [],
   "source": [
    "model.root.input.model.unit_001.adsorption_model = 'MULTI_COMPONENT_LANGMUIR'\n",
    "model.root.input.model.unit_001.adsorption.is_kinetic = True    # Kinetic binding\n",
    "model.root.input.model.unit_001.adsorption.mcl_ka = [1.0,]      # m^3 / (mol * s)   (mobile phase)\n",
    "model.root.input.model.unit_001.adsorption.mcl_kd = [1.0,]      # 1 / s (desorption)\n",
    "model.root.input.model.unit_001.adsorption.mcl_qmax = [100.0,]  # mol / m^3   (solid phase)"
   ]
  },
  {
   "cell_type": "markdown",
   "metadata": {},
   "source": [
    "#### Initial conditions\n",
    "Next, we specify the initial conditions (concentration of the components in the mobile and stationary phases) for the column.\n",
    "These concentrations are entered as vectors where each entry gives the concentration for the corresponding component."
   ]
  },
  {
   "cell_type": "code",
   "execution_count": 25,
   "metadata": {},
   "outputs": [],
   "source": [
    "model.root.input.model.unit_001.init_c = [0.0,]\n",
    "model.root.input.model.unit_001.init_q = [0.0,]"
   ]
  },
  {
   "cell_type": "markdown",
   "metadata": {},
   "source": [
    "#### Setting up the discretization\n",
    "\n",
    "There are some options for adapting the discretization.\n",
    "However, the two most important ones are the number of grid cells in the column and the particles, which are also set in this examples.\n",
    "For this purpose, the number of grid cells in the column `ncol` is set to `20` and the number of cells in the particle `npar` to `5`.\n",
    "These are rather low values to make the examples run faster, since they are only for educational purposes.\n",
    "In practice, much higher values are expected (say 100-200 column cells and 16-32 particle cells).\n",
    "Note that the used WENO method reduces the required amount of cells drastically compared to an upwind scheme.\n",
    "Moreover, we have to specify the number of bound states for each component.\n",
    "Finally, we set some other options for the discretization which usually do not need to be changed."
   ]
  },
  {
   "cell_type": "code",
   "execution_count": 26,
   "metadata": {},
   "outputs": [],
   "source": [
    "### Grid cells\n",
    "model.root.input.model.unit_001.discretization.ncol = 20\n",
    "model.root.input.model.unit_001.discretization.npar = 5\n",
    "\n",
    "### Bound states\n",
    "model.root.input.model.unit_001.discretization.nbound = [1]\n",
    "\n",
    "### Other options\n",
    "model.root.input.model.unit_001.discretization.par_disc_type = 'EQUIDISTANT_PAR'    \n",
    "model.root.input.model.unit_001.discretization.use_analytic_jacobian = 1\n",
    "model.root.input.model.unit_001.discretization.reconstruction = 'WENO'\n",
    "model.root.input.model.unit_001.discretization.gs_type = 1\n",
    "model.root.input.model.unit_001.discretization.max_krylov = 0\n",
    "model.root.input.model.unit_001.discretization.max_restarts = 10\n",
    "model.root.input.model.unit_001.discretization.schur_safety = 1.0e-8\n",
    "\n",
    "model.root.input.model.unit_001.discretization.weno.boundary_model = 0\n",
    "model.root.input.model.unit_001.discretization.weno.weno_eps = 1e-10\n",
    "model.root.input.model.unit_001.discretization.weno.weno_order = 3"
   ]
  },
  {
   "cell_type": "markdown",
   "metadata": {},
   "source": [
    "### Outlet\n",
    "The `OUTLET` is another psuedo unit operation that serves as sink for the system."
   ]
  },
  {
   "cell_type": "code",
   "execution_count": 27,
   "metadata": {},
   "outputs": [],
   "source": [
    "model.root.input.model.unit_002.unit_type = 'OUTLET'\n",
    "model.root.input.model.unit_002.ncomp = 1"
   ]
  },
  {
   "cell_type": "markdown",
   "metadata": {},
   "source": [
    "## 2. Setting up Sections and Connections"
   ]
  },
  {
   "cell_type": "markdown",
   "metadata": {},
   "source": [
    "[Sections](https://cadet.github.io/simulation/index.html#time-sections-and-transitions) are used to specify changes of parameter values during the simulation.\n",
    "A section typically corresponds to an operating step (load, wash, elute etc.), but can also be used to indicate changes in connectivity, or even discontinuities of [model parameters](https://cadet.github.io/file_format/introduction.html#section-dependent-model-parameters). \n",
    "\n",
    "`nsec` denotes the number of sections.\n",
    "The start and end times of a section are given in the `section_times` vector.\n",
    "It should always start at `0` and contains `nsec + 1` values, i.e., the `i`th section goes from `section_times[i])` to `section_times[i+1]`.\n",
    "\n",
    "The `section_continuity` indicates whether a transition from one section to the next is continuous in both the inlet and the parameters.\n",
    "It has `nsec - 1` number of values, since there is one less transition than there are sections.\n",
    "The continuity is used in CADET's time integrator which needs to decide whether to restart on entering a new section.\n",
    "If the transition is continuous, the time integrator can try to step over the transition without restarting, thus saving some computation time (since the restart is costly).\n",
    "If you are unsure about the continuity, just leave it at `0`."
   ]
  },
  {
   "cell_type": "code",
   "execution_count": 28,
   "metadata": {},
   "outputs": [],
   "source": [
    "model.root.input.solver.sections.nsec = 1\n",
    "model.root.input.solver.sections.section_times = [0.0, 1200,]   # s\n",
    "model.root.input.solver.sections.section_continuity = []"
   ]
  },
  {
   "cell_type": "markdown",
   "metadata": {},
   "source": [
    "As mentioned earlier, we now define the `INLET` profile using a third degree piecewise polynomial.\n",
    "On each section $[ t_i,  t_{i+1} ]$ a cubic polynomial $p_i$ is defined:\n",
    "$$\n",
    "p_i( t ) = d * (t - t_i)^3 + c * (t - t_i)^2 + b * (t - t_i) + a,\n",
    "$$\n",
    "\n",
    "where the coefficients of the polynomial are `const_coeff` (a), `lin_coeff` (b), `quad_coeff` (c), and `cube_coeff` (d).\n",
    "Note that the constant coefficient `const_coeff` determines the starting concentration on each section. \n",
    "The stopping concentration is given by $p_i( t_{i+1} )$ or $p_{i+1}( t_{i+1} )$ in case of a continuous profile.\n",
    "In this example, which has only one section, we define its coefficients by adding the field `sec_000` to the inlet unit (`unit_000`).\n",
    "Since the column should be constantly fed with $1.0 \\cdot 10^{-3} mol / m^3$ all the time, we set `const_coeff` to `[1e-3]` and all other cofficients to `[0.0]`.\n",
    "Note that for more components, a vector of coefficients needs to be specified."
   ]
  },
  {
   "cell_type": "code",
   "execution_count": 29,
   "metadata": {},
   "outputs": [],
   "source": [
    "model.root.input.model.unit_000.sec_000.const_coeff = [1.0e-3,] # mol / m^3\n",
    "model.root.input.model.unit_000.sec_000.lin_coeff = [0.0,]\n",
    "model.root.input.model.unit_000.sec_000.quad_coeff = [0.0,]\n",
    "model.root.input.model.unit_000.sec_000.cube_coeff = [0.0,]"
   ]
  },
  {
   "cell_type": "markdown",
   "metadata": {},
   "source": [
    "In order to specify the [connectivity of the network](https://cadet.github.io/modelling/networks.html), we have to provide a matrix with list of connections in row-major storage.\n",
    "Moreover, we have to specify the section in which the specified connectiviy should be applied.\n",
    "\n",
    "The columns are: \n",
    "\n",
    "    [UnitOpID from, UnitOpID to, Component from, Component to, volumetric flow rate]\n",
    "    \n",
    "Usually, `Component from` and `Component to` can be set to `-1`, which will connect all components from the origin and destination unit operations.\n",
    "Since CADET version 4.1, the flow rates can also be defined with piecewise cubic polynomials. Also for the 2D General rate model, inlet ports need to be speciefied. For more information on the parameters, see [here](https://cadet.github.io/file_format/system.html#group-input-model-connections)."
   ]
  },
  {
   "cell_type": "code",
   "execution_count": 30,
   "metadata": {},
   "outputs": [],
   "source": [
    "model.root.input.model.connections.nswitches = 1\n",
    "model.root.input.model.connections.switch_000.section = 0\n",
    "model.root.input.model.connections.switch_000.connections = [0, 1, -1, -1, 60/1e6,  # [unit_000, unit_001, all components, all components, Q/ m^3*s^-1 \n",
    "                                                             1, 2, -1, -1, 60/1e6]      # [unit_001, unit_002, all components, all components, Q/ m^3*s^-1 "
   ]
  },
  {
   "cell_type": "markdown",
   "metadata": {},
   "source": [
    "## 3. Setting up the simulator and running the simulation\n",
    "Before we can start the simulation, we have to specify some settings for the simulator.\n",
    "\n",
    "First, we set define settings for the solver and the time integrator. \n",
    "Usually, these only need to be adapted in special cases."
   ]
  },
  {
   "cell_type": "code",
   "execution_count": 31,
   "metadata": {},
   "outputs": [],
   "source": [
    "# Solver settings\n",
    "model.root.input.model.solver.gs_type = 1\n",
    "model.root.input.model.solver.max_krylov = 0\n",
    "model.root.input.model.solver.max_restarts = 10\n",
    "model.root.input.model.solver.schur_safety = 1e-8\n",
    "\n",
    "# Number of cores for parallel simulation\n",
    "model.root.input.solver.nthreads = 1\n",
    "\n",
    "# Tolerances for the time integrator\n",
    "model.root.input.solver.time_integrator.abstol = 1e-6\n",
    "model.root.input.solver.time_integrator.algtol = 1e-10\n",
    "model.root.input.solver.time_integrator.reltol = 1e-6\n",
    "model.root.input.solver.time_integrator.init_step_size = 1e-6\n",
    "model.root.input.solver.time_integrator.max_steps = 1000000"
   ]
  },
  {
   "cell_type": "markdown",
   "metadata": {},
   "source": [
    "Then, we have to specify which results should be written to the file after the simulation.\n",
    "For this, we have to specify the `/input/return/` branch. For more information, check the [manual](https://cadet.github.io//file_format/return_data.html).\n",
    "\n",
    "Note, because `return` is a reserved keyword in Python, we cannot use dot-notation but have to use the 'proper' dictionary indexing."
   ]
  },
  {
   "cell_type": "code",
   "execution_count": 32,
   "metadata": {},
   "outputs": [],
   "source": [
    "model.root.input['return'].split_components_data = 0\n",
    "model.root.input['return'].split_ports_data = 0\n",
    "model.root.input['return'].unit_000.write_solution_bulk = 1\n",
    "model.root.input['return'].unit_000.write_solution_flux = 1\n",
    "model.root.input['return'].unit_000.write_solution_inlet = 1\n",
    "model.root.input['return'].unit_000.write_solution_outlet = 1\n",
    "model.root.input['return'].unit_000.write_solution_particle = 1\n",
    "\n",
    "# Copy settings to the other unit operations\n",
    "model.root.input['return'].unit_001 = model.root.input['return'].unit_000\n",
    "model.root.input['return'].unit_002 = model.root.input['return'].unit_000"
   ]
  },
  {
   "cell_type": "markdown",
   "metadata": {},
   "source": [
    "Finally, we have to set the time points at which we want to evaluate the solution.\n",
    "Note that the end time must not exceed the last section time specified in the model.\n",
    "If the time points are not set explicitly, the time integrator outputs the solution at arbitrary time points between `0` and `section_times[-1]`."
   ]
  },
  {
   "cell_type": "code",
   "execution_count": 33,
   "metadata": {},
   "outputs": [],
   "source": [
    "model.root.input.solver.user_solution_times = np.linspace(0, 1200, 1001)"
   ]
  },
  {
   "cell_type": "markdown",
   "metadata": {},
   "source": [
    "The last remaining step is to actually run the simulation.\n",
    "For this, we have to specify a filename, save the configuration to `H5`-format and call call the `model`'s `run()` function.\n",
    "We check if the simulation has completed successfully and load the results."
   ]
  },
  {
   "cell_type": "code",
   "execution_count": 34,
   "metadata": {},
   "outputs": [
    {
     "name": "stdout",
     "output_type": "stream",
     "text": [
      "Simulation completed successfully\n"
     ]
    }
   ],
   "source": [
    "# save the simulation\n",
    "model.filename = 'model.h5'\n",
    "model.save()\n",
    "\n",
    "data = model.run()\n",
    "\n",
    "# run the simulation\n",
    "if data.returncode == 0:\n",
    "    print(\"Simulation completed successfully\")\n",
    "    model.load()   \n",
    "else:\n",
    "    print(data)\n",
    "    raise Exception(\"Simulation failed\")"
   ]
  },
  {
   "cell_type": "markdown",
   "metadata": {},
   "source": [
    "## 4. Plotting the results\n",
    "The data is stored in the `/output/` branch of the Cadet object.\n",
    "For more information, check the corresponding chapter in the [manual](https://cadet.github.io/file_format/output_group.html).\n",
    "\n",
    "We then create a figure, plotting the outlet of the column over the simulation times."
   ]
  },
  {
   "cell_type": "code",
   "execution_count": 41,
   "metadata": {},
   "outputs": [
    {
     "data": {
      "image/png": "[encoded data removed]",
      "text/plain": [
       "<Figure size 432x288 with 1 Axes>"
      ]
     },
     "metadata": {
      "needs_background": "light"
     },
     "output_type": "display_data"
    }
   ],
   "source": [
    "plt.figure()\n",
    "\n",
    "time = model.root.output.solution.solution_times\n",
    "c = model.root.output.solution.unit_001.solution_outlet\n",
    "plt.plot(time/60, c)\n",
    "plt.xlabel('$time~/~min$')\n",
    "plt.ylabel('$Outlet~concentration~/~mol \\cdot m^{-3} $')\n",
    "plt.show()"
   ]
  }
 ],
 "metadata": {
  "kernelspec": {
   "display_name": "Python 3",
   "language": "python",
   "name": "python3"
  },
  "language_info": {
   "codemirror_mode": {
    "name": "ipython",
    "version": 3
   },
   "file_extension": ".py",
   "mimetype": "text/x-python",
   "name": "python",
   "nbconvert_exporter": "python",
   "pygments_lexer": "ipython3",
   "version": "3.7.9"
  }
 },
 "nbformat": 4,
 "nbformat_minor": 4
}
