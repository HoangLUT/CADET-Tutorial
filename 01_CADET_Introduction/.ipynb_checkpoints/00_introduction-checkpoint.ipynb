{
 "cells": [
  {
   "cell_type": "markdown",
   "metadata": {},
   "source": [
    "# Interface specifications\n",
    "\n",
    "Performing a simulation with CADET comprises several steps:\n",
    "- Setting up the model including all parameters and discretization options\n",
    "- Defining sections and switches\n",
    "- Setting up the simulator and actually running the simulation\n",
    "- Evaluating results (e.g., plotting)\n",
    "\n",
    "\n",
    "https://cadet.github.io/interface/\n",
    "\n"
   ]
  },
  {
   "cell_type": "markdown",
   "metadata": {},
   "source": [
    "## Units in CADET"
   ]
  },
  {
   "cell_type": "markdown",
   "metadata": {},
   "source": [
    "## CADET-Python\n",
    "In this tutorial, we will use CADET-Python to interface CADET. It is a file based frontend for CADET which almost exactly maps to the documented CADET file format. The package includes a Cadet class which serves as a generic HDF5 frontend.\n",
    "\n",
    "As an example, we consider setting the external porosity for the column model (unit_001). From file format, the path for this is /input/model/unit_001/COL_POROSITY. In the Python frontend, this becomes:\n",
    "\n",
    "```\n",
    "sim = Cadet()\n",
    "sim.root.input.model.unit_001.col_porosity = 0.33\n",
    "```\n",
    "\n",
    "\n",
    "<div class=\"alert alert-danger\">\n",
    "\n",
    "**Warning:** \n",
    "\n",
    "Note, that the Cadet class does not provide any sanity checks. If parameters are misspelled or have the wrong dimensions, they are simply ignored. This can cause problems later on, when the simulator is run.\n",
    "\n",
    "</div>\n"
   ]
  },
  {
   "cell_type": "markdown",
   "metadata": {},
   "source": [
    "## Utility funcitons for this workshop"
   ]
  }
 ],
 "metadata": {
  "kernelspec": {
   "display_name": "Python 3",
   "language": "python",
   "name": "python3"
  },
  "language_info": {
   "codemirror_mode": {
    "name": "ipython",
    "version": 3
   },
   "file_extension": ".py",
   "mimetype": "text/x-python",
   "name": "python",
   "nbconvert_exporter": "python",
   "pygments_lexer": "ipython3",
   "version": "3.7.9"
  }
 },
 "nbformat": 4,
 "nbformat_minor": 4
}
