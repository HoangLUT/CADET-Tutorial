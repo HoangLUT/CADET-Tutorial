{
 "cells": [
  {
   "cell_type": "markdown",
   "metadata": {},
   "source": [
    "# Lesson 3: Chemical reactions\n",
    "\n",
    "Since version 4.0, CADET also supports chemical reactions which can be used in all unit operations. In this lesson, we will learn how to:\n",
    "- Model different reaction systems\n",
    "- Associate reactions with different unit operations\n",
    "\n",
    "<div class=\"alert alert-info\">\n",
    "\n",
    "**Note:** \n",
    "    \n",
    "Currently, CADET does not support reactions in rapid equilibrium. \n",
    "Assuming $k_{eq} = \\frac{k_{fwd}}{k_{bwd}}$, this can be approximated by keeping the ratio of both constants constant and scaling them up by a large factor.\n",
    "    \n",
    "</div>"
   ]
  },
  {
   "cell_type": "markdown",
   "metadata": {},
   "source": [
    "## Load CADETSettings\n",
    "\n",
    "This imports all the standard libraries and provides some helper functions."
   ]
  },
  {
   "cell_type": "code",
   "execution_count": null,
   "metadata": {},
   "outputs": [],
   "source": [
    "%run ../utils.ipynb"
   ]
  },
  {
   "cell_type": "markdown",
   "metadata": {},
   "source": [
    "## Example 1: Forward reaction\n",
    "\n",
    "Let us consider the following batch reaction in a `CSTR` (without ingoing or outgoing streams):\n",
    "\n",
    "$\\require{mhchem}$\n",
    "$$\\ce{1 A ->[k_{AB}] 1 B}$$\n",
    "\n",
    "For modelling reactions, we need to provide the following information (see also [reaction modelling](https://cadet.github.io/modelling/reactions), and [reaction config](https://cadet.github.io/interface/reactions)).\n",
    "\n",
    "- Stoichiometric matrix: coefficients of the forward reactions as $n_{components} \\times n_{reactions}$.\n",
    "- Reaction rates\n",
    "    - kfwd: Rate constant for forward reactions\n",
    "    - kbwd: Rate constant for backward reactions\n",
    "\n",
    "In this case, the stoichiometric coefficients are $-1$ for $\\left[A \\right]$, because $1~mol$ of it is being depleted, and $+1$ for $\\left[B \\right]$, because $1~mol$ of it is being created.\n",
    "The stoichiometric matrix can hence be written as \n",
    "$\\left[ \\begin{array}{rrr} \n",
    "-1 \\\\ \n",
    " 1 \\\\ \n",
    "\\end{array}\\right]$\n",
    "\n",
    "The forward rate of the reaction `kfwd` is $k_{AB}$ and because no backwards reaction is assumed, the backwards `kbwd` rate can be set to $0$."
   ]
  },
  {
   "cell_type": "code",
   "execution_count": null,
   "metadata": {},
   "outputs": [],
   "source": [
    "# Auxiliary variables\n",
    "t_cycle = 100\n",
    "\n",
    "init_c = [1.0, 0.0]\n",
    "V = 1e-6\n",
    "\n",
    "kfwd = [0.1]\n",
    "kbwd = [0.0]\n",
    "\n",
    "stoich = [-1, \n",
    "           1]"
   ]
  },
  {
   "cell_type": "markdown",
   "metadata": {},
   "source": [
    "We then procede configuring the CADET model.\n",
    "Note that it is generally possible to specify different reactions in different phases (i.e. bulk phase, particle liquid phase, particle solid phase). Since the `CSTR` supports particles, we have to specify the reaction in the `input/model/unit_xxx/reaction_bulk` group."
   ]
  },
  {
   "cell_type": "code",
   "execution_count": null,
   "metadata": {},
   "outputs": [],
   "source": [
    "model = get_cadet_template(n_units=1)\n",
    "\n",
    "n_comp = len(init_c)\n",
    "\n",
    "# CSTR\n",
    "model.root.input.model.unit_000.unit_type = 'CSTR'\n",
    "model.root.input.model.unit_000.ncomp = n_comp\n",
    "model.root.input.model.unit_000.init_volume = V\n",
    "model.root.input.model.unit_000.init_c = init_c\n",
    "\n",
    "model.root.input.model.unit_000.adsorption_model = 'NONE'\n",
    "\n",
    "# Reaction\n",
    "model.root.input.model.unit_000.reaction_model = 'MASS_ACTION_LAW'\n",
    "model.root.input.model.unit_000.reaction_bulk.mal_kfwd_bulk = kfwd\n",
    "model.root.input.model.unit_000.reaction_bulk.mal_kbwd_bulk = kbwd\n",
    "model.root.input.model.unit_000.reaction_bulk.mal_stoichiometry_bulk = stoich \n",
    "\n",
    "# Sections and Switches\n",
    "model.root.input.solver.sections.nsec = 1\n",
    "model.root.input.solver.sections.section_times = [0.0, t_cycle]\n",
    "\n",
    "model.root.input.model.connections.nswitches = 1\n",
    "model.root.input.model.connections.switch_000.section = 0\n",
    "model.root.input.model.connections.switch_000.connections = []\n",
    "\n",
    "\n",
    "# Run simulation and plot results\n",
    "run_simulation(model)\n",
    "\n",
    "time = model.root.output.solution.solution_times\n",
    "solution_outlet = model.root.output.solution.unit_000.solution_outlet\n",
    "plt.plot(time, solution_outlet)"
   ]
  },
  {
   "cell_type": "markdown",
   "metadata": {},
   "source": [
    "## Example 2: Equilibrium reaction\n",
    "\n",
    "We will consider again consider a batch reaction in a `CSTR` but this time, we will also account for the backward reaction:\n",
    "\n",
    "$\\require{mhchem}$\n",
    "$$\\ce{ 2 A <=>[k_{AB}][k_{BA}] B}$$"
   ]
  },
  {
   "cell_type": "code",
   "execution_count": null,
   "metadata": {},
   "outputs": [],
   "source": [
    "# Auxiliary variables\n",
    "t_cycle = 100\n",
    "\n",
    "init_c = [1.0, 0.0]\n",
    "V = 1e-6\n",
    "\n",
    "kfwd = [0.1]\n",
    "kbwd = [0.01]\n",
    "\n",
    "stoich = [-2, \n",
    "           1]"
   ]
  },
  {
   "cell_type": "markdown",
   "metadata": {},
   "source": [
    "The rest of the setup is equivalent to Example 1"
   ]
  },
  {
   "cell_type": "code",
   "execution_count": null,
   "metadata": {},
   "outputs": [],
   "source": [
    "model = get_cadet_template(n_units=1)\n",
    "\n",
    "n_comp = len(init_c)\n",
    "\n",
    "# CSTR\n",
    "model.root.input.model.unit_000.unit_type = 'CSTR'\n",
    "model.root.input.model.unit_000.ncomp = 2\n",
    "model.root.input.model.unit_000.init_volume = V\n",
    "model.root.input.model.unit_000.init_c = init_c\n",
    "\n",
    "model.root.input.model.unit_000.adsorption_model = 'NONE'\n",
    "\n",
    "# Reaction\n",
    "model.root.input.model.unit_000.reaction_model = 'MASS_ACTION_LAW'\n",
    "model.root.input.model.unit_000.reaction_bulk.mal_kfwd_bulk = kfwd\n",
    "model.root.input.model.unit_000.reaction_bulk.mal_kbwd_bulk = kbwd\n",
    "model.root.input.model.unit_000.reaction_bulk.mal_stoichiometry_bulk = stoich \n",
    "\n",
    "# Sections and Switches\n",
    "model.root.input.solver.sections.nsec = 1\n",
    "model.root.input.solver.sections.section_times = [0.0, t_cycle]\n",
    "\n",
    "model.root.input.model.connections.nswitches = 1\n",
    "model.root.input.model.connections.switch_000.section = 0\n",
    "model.root.input.model.connections.switch_000.connections = []\n",
    "\n",
    "\n",
    "# Run simulation and plot results\n",
    "run_simulation(model)\n",
    "\n",
    "time = model.root.output.solution.solution_times\n",
    "solution_outlet = model.root.output.solution.unit_000.solution_outlet\n",
    "plt.plot(time, solution_outlet)"
   ]
  },
  {
   "cell_type": "markdown",
   "metadata": {},
   "source": [
    "## Example 3\n",
    "In this example, we will again consider the equilbrium reaction from Example 2, but this time we will implement it as a reaction in a column with length $0.5~m$ and cross section area $0.1~m^2$ that is fed with a concentration of $c_A = 1.0~g/L, c_B = 0.0~g/L$ and a flow rate of $1~L/min$."
   ]
  },
  {
   "cell_type": "code",
   "execution_count": null,
   "metadata": {},
   "outputs": [],
   "source": [
    "# Auxiliary variables\n",
    "t_cycle = 100\n",
    "\n",
    "c_feed = [1.0, 0.0]\n",
    "Q = 1e-3\n",
    "\n",
    "kfwd = [0.1]\n",
    "kbwd = [0.01]\n",
    "\n",
    "stoich = [-2, \n",
    "           1]"
   ]
  },
  {
   "cell_type": "markdown",
   "metadata": {},
   "source": [
    "For the column, we will use the 'LUMPED_RATE_MODEL_WITH_PORES'.\n",
    "In order to save us some typing, the `discretization` parameters can be set with another utils function."
   ]
  },
  {
   "cell_type": "code",
   "execution_count": null,
   "metadata": {},
   "outputs": [],
   "source": [
    "n_comp = len(c_feed)\n",
    "\n",
    "model = get_cadet_template(n_units=3)\n",
    "\n",
    "# Unit Operations\n",
    "## Inlet\n",
    "model.root.input.model.unit_000.unit_type = 'INLET'\n",
    "model.root.input.model.unit_000.ncomp = n_comp\n",
    "model.root.input.model.unit_000.inlet_type = 'PIECEWISE_CUBIC_POLY'\n",
    "\n",
    "model.root.input.model.unit_000.sec_000.const_coeff = c_feed\n",
    "model.root.input.model.unit_000.sec_000.lin_coeff = n_comp*[0.0]\n",
    "model.root.input.model.unit_000.sec_000.quad_coeff = n_comp*[0.0]\n",
    "model.root.input.model.unit_000.sec_000.cube_coeff = n_comp*[0.0]\n",
    "\n",
    "# Tubular reactor\n",
    "model.root.input.model.unit_001.unit_type = 'LUMPED_RATE_MODEL_WITH_PORES'\n",
    "model.root.input.model.unit_001.ncomp = n_comp\n",
    "model.root.input.model.unit_001.col_length = 0.5\n",
    "model.root.input.model.unit_001.cross_section_area = 0.1\n",
    "model.root.input.model.unit_001.col_porosity = 1\n",
    "model.root.input.model.unit_001.par_porosity = 1\n",
    "model.root.input.model.unit_001.par_radius = 1e-6\n",
    "model.root.input.model.unit_001.col_dispersion = 0\n",
    "model.root.input.model.unit_001.film_diffusion = n_comp * [0]\n",
    "model.root.input.model.unit_001.init_c = n_comp * [0]\n",
    "\n",
    "### Adsorption\n",
    "model.root.input.model.unit_001.adsorption_model = 'NONE'\n",
    "\n",
    "### Reaction\n",
    "model.root.input.model.unit_001.reaction_model = 'MASS_ACTION_LAW'\n",
    "model.root.input.model.unit_001.reaction_bulk.mal_kfwd_bulk = kfwd\n",
    "model.root.input.model.unit_001.reaction_bulk.mal_kbwd_bulk = kbwd\n",
    "model.root.input.model.unit_001.reaction_bulk.mal_stoichiometry_bulk = stoich\n",
    "\n",
    "set_discretization(model)\n",
    "\n",
    "## Outlet\n",
    "model.root.input.model.unit_002.unit_type = 'OUTLET'\n",
    "model.root.input.model.unit_002.ncomp = n_comp\n",
    "\n",
    "\n",
    "## Sections and Switches\n",
    "model.root.input.solver.sections.nsec = 1\n",
    "model.root.input.solver.sections.section_times = [0.0, t_cycle]\n",
    "model.root.input.solver.sections.section_continuity = []\n",
    "\n",
    "model.root.input.model.connections.nswitches = 1\n",
    "model.root.input.model.connections.switch_000.section = 0\n",
    "model.root.input.model.connections.switch_000.connections = [0, 1, -1, -1, Q,\n",
    "                                                             1, 2, -1, -1, Q]\n",
    "\n",
    "\n",
    "# Run simulation and plot results\n",
    "run_simulation(model)\n",
    "\n",
    "plt.figure()\n",
    "time = model.root.output.solution.solution_times\n",
    "solution_outlet = model.root.output.solution.unit_001.solution_outlet\n",
    "plt.plot(time, solution_outlet)\n",
    "plt.title('Column (Outlet)')"
   ]
  },
  {
   "cell_type": "markdown",
   "metadata": {},
   "source": [
    "Additionally to the solution at the inlet and outlet of a unit operation, we can also take a look inside the column to see how the concentration profiles change over the length of the column.\n",
    "\n",
    "We find the solution of the liquid phase in the `/output/solution/unit_XXX/solution_bulk` group. \n",
    "The coordinates of a column are stored in `/output/coordinates/unit_XXX/axial_coordinates`."
   ]
  },
  {
   "cell_type": "code",
   "execution_count": null,
   "metadata": {},
   "outputs": [],
   "source": [
    "z = model.root.output.coordinates.unit_001.axial_coordinates\n",
    "c = model.root.output.solution.unit_001.solution_bulk[-1,:,:]\n",
    "plt.figure()\n",
    "plt.plot(z, c)\n",
    "plt.title('Column (Bulk)')\n",
    "plt.xlabel('$z~/~m$')\n",
    "plt.ylabel('$concentration~/~mol \\cdot L^{-1} $')\n",
    "plt.show()\n"
   ]
  }
 ],
 "metadata": {
  "kernelspec": {
   "display_name": "Python 3",
   "language": "python",
   "name": "python3"
  },
  "language_info": {
   "codemirror_mode": {
    "name": "ipython",
    "version": 3
   },
   "file_extension": ".py",
   "mimetype": "text/x-python",
   "name": "python",
   "nbconvert_exporter": "python",
   "pygments_lexer": "ipython3",
   "version": "3.7.8"
  }
 },
 "nbformat": 4,
 "nbformat_minor": 4
}
