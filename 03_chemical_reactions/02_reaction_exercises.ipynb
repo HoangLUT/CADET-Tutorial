{
 "cells": [
  {
   "cell_type": "markdown",
   "metadata": {},
   "source": [
    "# Lesson 3: Exercises"
   ]
  },
  {
   "cell_type": "markdown",
   "metadata": {},
   "source": [
    "## Load CADETSettings\n",
    "\n",
    "This imports all the standard libraries and provides some helper functions."
   ]
  },
  {
   "cell_type": "code",
   "execution_count": null,
   "metadata": {},
   "outputs": [],
   "source": [
    "%run ../utils.ipynb"
   ]
  },
  {
   "cell_type": "markdown",
   "metadata": {},
   "source": [
    "## Model templates\n",
    "\n",
    "Again, we start with defining a function that creates a pre-configured model model to reduce the amount of required typing."
   ]
  },
  {
   "cell_type": "code",
   "execution_count": null,
   "metadata": {},
   "outputs": [],
   "source": [
    "# Do not delete!\n",
    "def create_cstr_template(kfwd, kbwd, stoich, V, init_c, t_cycle):\n",
    "    n_comp = len(init_c)\n",
    "    \n",
    "    model = get_cadet_template(n_units=1)\n",
    "\n",
    "    # CSTR\n",
    "    model.root.input.model.unit_000.unit_type = 'CSTR'\n",
    "    model.root.input.model.unit_000.ncomp = n_comp\n",
    "    model.root.input.model.unit_000.init_volume = V\n",
    "    model.root.input.model.unit_000.init_c = init_c\n",
    "\n",
    "    model.root.input.model.unit_000.adsorption_model = 'NONE'\n",
    "\n",
    "    # Reaction\n",
    "    model.root.input.model.unit_000.reaction_model = 'MASS_ACTION_LAW'\n",
    "    model.root.input.model.unit_000.reaction_bulk.mal_kfwd_bulk = kfwd\n",
    "    model.root.input.model.unit_000.reaction_bulk.mal_kbwd_bulk = kbwd\n",
    "    model.root.input.model.unit_000.reaction_bulk.mal_stoichiometry_bulk = stoich \n",
    "\n",
    "    # Sections and Switches\n",
    "    model.root.input.solver.sections.nsec = 1\n",
    "    model.root.input.solver.sections.section_times = [0.0, t_cycle]\n",
    "\n",
    "    model.root.input.model.connections.nswitches = 1\n",
    "    model.root.input.model.connections.switch_000.section = 0\n",
    "    model.root.input.model.connections.switch_000.connections = []\n",
    "\n",
    "    \n",
    "    return model\n",
    "\n",
    "\n",
    "def plot_cstr_results(model):\n",
    "    time = model.root.output.solution.solution_times\n",
    "    c = model.root.output.solution.unit_000.solution_bulk\n",
    "    \n",
    "    plt.plot(time, c)\n",
    "    plt.title('CSTR (Bulk)')\n",
    "    plt.xlabel('$time~/~min$')\n",
    "    plt.ylabel('$concentration~/~mol \\cdot L^{-1} $')\n",
    "    plt.show()"
   ]
  },
  {
   "cell_type": "code",
   "execution_count": null,
   "metadata": {},
   "outputs": [],
   "source": [
    "# Do not delete!\n",
    "def create_column_template(kfwd, kbwd, stoich, Q, c_feed, t_cycle):\n",
    "    n_comp = len(c_feed)\n",
    "    \n",
    "    model = get_cadet_template(n_units=3)\n",
    "    \n",
    "    # Unit Operations\n",
    "    ## Inlet\n",
    "    model.root.input.model.unit_000.unit_type = 'INLET'\n",
    "    model.root.input.model.unit_000.ncomp = n_comp\n",
    "    model.root.input.model.unit_000.inlet_type = 'PIECEWISE_CUBIC_POLY'\n",
    "\n",
    "    model.root.input.model.unit_000.sec_000.const_coeff = c_feed\n",
    "    model.root.input.model.unit_000.sec_000.lin_coeff = n_comp*[0.0]\n",
    "    model.root.input.model.unit_000.sec_000.quad_coeff = n_comp*[0.0]\n",
    "    model.root.input.model.unit_000.sec_000.cube_coeff = n_comp*[0.0]\n",
    "\n",
    "    # Tubular reactor\n",
    "    model.root.input.model.unit_001.unit_type = 'LUMPED_RATE_MODEL_WITH_PORES'\n",
    "    model.root.input.model.unit_001.ncomp = n_comp\n",
    "    model.root.input.model.unit_001.col_length = 0.5\n",
    "    model.root.input.model.unit_001.cross_section_area = 0.1\n",
    "    model.root.input.model.unit_001.col_porosity = 1\n",
    "    model.root.input.model.unit_001.par_porosity = 1\n",
    "    model.root.input.model.unit_001.par_radius = 1e-6\n",
    "    model.root.input.model.unit_001.col_dispersion = 0\n",
    "    model.root.input.model.unit_001.film_diffusion = n_comp * [0]\n",
    "    model.root.input.model.unit_001.init_c = n_comp * [0]\n",
    "    \n",
    "    ### Adsorption\n",
    "    model.root.input.model.unit_001.adsorption_model = 'NONE'\n",
    "\n",
    "    ### Reaction\n",
    "    model.root.input.model.unit_001.reaction_model = 'MASS_ACTION_LAW'\n",
    "    model.root.input.model.unit_001.reaction_bulk.mal_kfwd_bulk = kfwd\n",
    "    model.root.input.model.unit_001.reaction_bulk.mal_kbwd_bulk = kbwd\n",
    "    model.root.input.model.unit_001.reaction_bulk.mal_stoichiometry_bulk = stoich\n",
    "    \n",
    "    ### Discretization\n",
    "    set_discretization(model)\n",
    "\n",
    "    ## Outlet\n",
    "    model.root.input.model.unit_002.unit_type = 'OUTLET'\n",
    "    model.root.input.model.unit_002.ncomp = n_comp\n",
    "\n",
    "\n",
    "    ## Sections and Switches\n",
    "    model.root.input.solver.sections.nsec = 1\n",
    "    model.root.input.solver.sections.section_times = [0.0, t_cycle]\n",
    "    model.root.input.solver.sections.section_continuity = []\n",
    "\n",
    "    model.root.input.model.connections.nswitches = 1\n",
    "    model.root.input.model.connections.switch_000.section = 0\n",
    "    model.root.input.model.connections.switch_000.connections = [0, 1, -1, -1, Q,\n",
    "                                                                 1, 2, -1, -1, Q]\n",
    "    \n",
    "    return model\n",
    "\n",
    "\n",
    "def plot_column_results(model):\n",
    "    time = model.root.output.solution.solution_times\n",
    "    c = model.root.output.solution.unit_001.solution_outlet\n",
    "    \n",
    "    plt.figure()\n",
    "    plt.plot(time, c)\n",
    "    plt.title('Column (Outlet)')\n",
    "    plt.xlabel('$time~/~min$')\n",
    "    plt.ylabel('$concentration~/~mol \\cdot L^{-1} $')\n",
    "    plt.show()\n",
    "    \n",
    "    z = model.root.output.coordinates.unit_001.axial_coordinates\n",
    "    c = model.root.output.solution.unit_001.solution_bulk[-1,:,:]\n",
    "    plt.figure()\n",
    "    plt.plot(z, c)\n",
    "    plt.title('Column (Bulk)')\n",
    "    plt.xlabel('$z~/~m$')\n",
    "    plt.ylabel('$concentration~/~mol \\cdot L^{-1} $')\n",
    "    plt.show()\n",
    "    "
   ]
  },
  {
   "cell_type": "markdown",
   "metadata": {},
   "source": [
    "## Exercise 1: Equilibrium reaction with intermediate state\n",
    "\n",
    "We will consider again consider a batch reaction in a `CSTR` but this time, we will also account for an intermediate state:\n",
    "\n",
    "$\\require{mhchem}$\n",
    "$$\\ce{A <=>[k_{AB}][k_{BA}] B <=>[k_{BC}][k_{CB}] C}$$\n",
    "\n",
    "***Task:*** Implement the reaction and plot the results. Assume the following values for the rate constants:\n",
    "- $k_{AB} = 0.080~s^{-1}$\n",
    "- $k_{BA} = 0.0~s^{-1}$\n",
    "- $k_{BC} = 0.060~s^{-1}$\n",
    "- $k_{CB} = 0.0~s^{-1}$"
   ]
  },
  {
   "cell_type": "code",
   "execution_count": null,
   "metadata": {},
   "outputs": [],
   "source": []
  },
  {
   "cell_type": "markdown",
   "metadata": {},
   "source": [
    "## Exercise 2: Equilibrium reaction with intermediate state\n",
    "Again consider the reaction from Exercise 1. \n",
    "\n",
    "***Task:*** Implement the reaction in a tubular reactor and plot the results at the outlet, as well as over the length of the column for the last step.\n",
    "\n",
    "\n",
    "***Hint:*** The path for the coordinates of the column can be looked up [here](https://cadet.github.io/interface/output_group.html)."
   ]
  },
  {
   "cell_type": "code",
   "execution_count": null,
   "metadata": {},
   "outputs": [],
   "source": []
  },
  {
   "cell_type": "markdown",
   "metadata": {},
   "source": [
    "## Bonus Exercise\n",
    "\n",
    "Try implementing other reaction systems such as:\n",
    "\n",
    "$\\require{mhchem}$\n",
    "$$\\ce{A + B ->[k_{1}] C}$$\n",
    "$$\\ce{A + B <=>[k_{1}][k_{-1}] C ->[k_{2}] D}$$\n",
    "$$\\ce{A + B ->[k_{1}] C} \\quad \\text{and} \\quad \\ce{A + C ->[k_{2}] D}$$\n"
   ]
  }
 ],
 "metadata": {
  "kernelspec": {
   "display_name": "Python 3",
   "language": "python",
   "name": "python3"
  },
  "language_info": {
   "codemirror_mode": {
    "name": "ipython",
    "version": 3
   },
   "file_extension": ".py",
   "mimetype": "text/x-python",
   "name": "python",
   "nbconvert_exporter": "python",
   "pygments_lexer": "ipython3",
   "version": "3.7.8"
  }
 },
 "nbformat": 4,
 "nbformat_minor": 4
}
