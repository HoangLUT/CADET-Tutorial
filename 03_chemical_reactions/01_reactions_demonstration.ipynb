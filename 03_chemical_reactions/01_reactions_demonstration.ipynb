{
 "cells": [
  {
   "cell_type": "markdown",
   "metadata": {},
   "source": [
    "# Lesson 3: Chemical reactions\n",
    "\n",
    "Since version 4.0, CADET also supports chemical reactions which can be used in all unit operations. In this lesson, we will learn how to:\n",
    "- Model different reaction systems\n",
    "- Associate reactions with different unit operations\n",
    "\n",
    "<div class=\"alert alert-info\">\n",
    "\n",
    "**Note:** \n",
    "    \n",
    "Currently, CADET does not support reactions in rapid equilibrium. \n",
    "Assuming $k_{eq} = \\frac{k_{fwd}}{k_{bwd}}$, this can be approximated by keeping the ratio of both constants constant and scaling them up by a large factor.\n",
    "    \n",
    "</div>"
   ]
  },
  {
   "cell_type": "markdown",
   "metadata": {},
   "source": [
    "## Load CADETSettings\n",
    "\n",
    "This imports all the standard libraries and provides some helper functions."
   ]
  },
  {
   "cell_type": "code",
   "execution_count": null,
   "metadata": {},
   "outputs": [],
   "source": [
    "%run ../utils.ipynb"
   ]
  },
  {
   "cell_type": "markdown",
   "metadata": {},
   "source": [
    "## Example 1: Forward reaction\n",
    "\n",
    "Let us consider the following batch reaction in a `CSTR` (without ingoing or outgoing streams):\n",
    "\n",
    "$\\require{mhchem}$\n",
    "$$\\ce{1 A <=>[k_{AB}][k_{BA}] 1 B}$$\n",
    "\n",
    "For modelling reactions, we need to provide the following information (see also [reaction modelling](https://cadet.github.io/master/modelling/reactions), and [reaction config](https://cadet.github.io/master/interface/reactions)).:\n",
    "- Stoichiometric matrix: coefficients of the forward reactions as $n_{components} \\times n_{reactions}$.\n",
    "- Reaction rates\n",
    "    - kfwd: Rate constant for forward reactions\n",
    "    - kbwd: Rate constant for backward reactions\n",
    "\n",
    "In this case, the stoichiometric coefficients are $-1$ for $\\left[A \\right]$, because $1~mol$ of it is being depleted, and $+1$ for $\\left[B \\right]$, because $1~mol$ of it is being created.\n",
    "The stoichiometric matrix can hence be written as \n",
    "$\\left[ \\begin{array}{rrr} \n",
    "-1 \\\\ \n",
    " 1 \\\\ \n",
    "\\end{array}\\right]$\n",
    "\n",
    "The forward rate of the reaction `kfwd` is $k_{AB}$, and the backwards rate `kbwd` is $k_{BA}$."
   ]
  },
  {
   "cell_type": "code",
   "execution_count": null,
   "metadata": {},
   "outputs": [],
   "source": []
  },
  {
   "cell_type": "markdown",
   "metadata": {},
   "source": [
    "We then procede configuring the CADET model.\n",
    "Note that it is generally possible to specify different reactions in different phases (i.e. bulk phase, particle liquid phase, particle solid phase). Since the `CSTR` supports particles, we have to specify the reaction in the `input/model/unit_xxx/reaction_bulk` group."
   ]
  },
  {
   "cell_type": "code",
   "execution_count": null,
   "metadata": {},
   "outputs": [],
   "source": []
  },
  {
   "cell_type": "markdown",
   "metadata": {},
   "source": [
    "## Example 2: Equilibrium reaction\n",
    "\n",
    "We will consider again consider a batch reaction in a `CSTR` but this time, we will also account for the backward reaction:\n",
    "\n",
    "$\\require{mhchem}$\n",
    "$$\\ce{ 2 A <=>[k_{AB}][k_{BA}] B}$$"
   ]
  },
  {
   "cell_type": "code",
   "execution_count": null,
   "metadata": {},
   "outputs": [],
   "source": []
  },
  {
   "cell_type": "markdown",
   "metadata": {},
   "source": [
    "The rest of the setup is equivalent to Example 1"
   ]
  },
  {
   "cell_type": "code",
   "execution_count": null,
   "metadata": {},
   "outputs": [],
   "source": []
  },
  {
   "cell_type": "markdown",
   "metadata": {},
   "source": [
    "## Example 3\n",
    "In this example, we will again consider the equilbrium reaction from Example 2, but this time we will implement it as a reaction in a column with length $0.5~m$ and cross section area $0.1~m^2$ that is fed with a concentration of $c_A = 1.0~mM, c_B = 0.0~mM$ and a flow rate of $1~L/s$."
   ]
  },
  {
   "cell_type": "code",
   "execution_count": null,
   "metadata": {},
   "outputs": [],
   "source": []
  },
  {
   "cell_type": "markdown",
   "metadata": {},
   "source": [
    "For the column, we will use the `LUMPED_RATE_MODEL_WITH_PORES`.\n",
    "In order to save us some typing, the `discretization` parameters can be set with another utils function."
   ]
  },
  {
   "cell_type": "code",
   "execution_count": null,
   "metadata": {},
   "outputs": [],
   "source": []
  },
  {
   "cell_type": "markdown",
   "metadata": {},
   "source": [
    "Additionally to the solution at the inlet and outlet of a unit operation, we can also take a look inside the column to see how the concentration profiles change over the length of the column.\n",
    "\n",
    "We find the solution of the liquid phase in the `/output/solution/unit_XXX/solution_bulk` group. \n",
    "The coordinates of a column are stored in `/output/coordinates/unit_XXX/axial_coordinates`."
   ]
  },
  {
   "cell_type": "code",
   "execution_count": null,
   "metadata": {},
   "outputs": [],
   "source": []
  }
 ],
 "metadata": {
  "kernelspec": {
   "display_name": "Python 3 (ipykernel)",
   "language": "python",
   "name": "python3"
  },
  "language_info": {
   "codemirror_mode": {
    "name": "ipython",
    "version": 3
   },
   "file_extension": ".py",
   "mimetype": "text/x-python",
   "name": "python",
   "nbconvert_exporter": "python",
   "pygments_lexer": "ipython3",
   "version": "3.9.7"
  }
 },
 "nbformat": 4,
 "nbformat_minor": 4
}
