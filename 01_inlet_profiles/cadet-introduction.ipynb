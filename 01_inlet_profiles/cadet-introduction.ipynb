{
 "cells": [
  {
   "cell_type": "code",
   "execution_count": 140,
   "metadata": {},
   "outputs": [],
   "source": [
    "import numpy as np\n",
    "import matplotlib.pyplot as plt\n",
    "from cadet import Cadet\n",
    "Cadet.cadet_path = '/Users/hoangnguyen/cadet-core/cadet/bin/cadet-cli'"
   ]
  },
  {
   "cell_type": "markdown",
   "metadata": {},
   "source": [
    "# 1. Setting up the model"
   ]
  },
  {
   "cell_type": "code",
   "execution_count": 141,
   "metadata": {},
   "outputs": [],
   "source": [
    "model = Cadet()\n",
    "model.root.input.model.nunits = 3"
   ]
  },
  {
   "cell_type": "markdown",
   "metadata": {},
   "source": [
    "## Inlet model"
   ]
  },
  {
   "cell_type": "code",
   "execution_count": 142,
   "metadata": {},
   "outputs": [],
   "source": [
    "model.root.input.model.unit_000.unit_type = 'INLET'\n",
    "model.root.input.model.unit_000.ncomp = 1\n",
    "model.root.input.model.unit_000.inlet_type = 'PIECEWISE_CUBIC_POLY'"
   ]
  },
  {
   "cell_type": "markdown",
   "metadata": {},
   "source": [
    "## General Rate Model"
   ]
  },
  {
   "cell_type": "code",
   "execution_count": 143,
   "metadata": {},
   "outputs": [],
   "source": [
    "model.root.input.model.unit_001.unit_type = 'GENERAL_RATE_MODEL'\n",
    "model.root.input.model.unit_001.ncomp = 1\n",
    "\n",
    "## Geometry\n",
    "model.root.input.model.unit_001.col_length = 0.1                # m\n",
    "model.root.input.model.unit_001.cross_section_area = 0.01       # m\n",
    "model.root.input.model.unit_001.col_porosity = 0.37             # -\n",
    "model.root.input.model.unit_001.par_porosity = 0.33             # -\n",
    "model.root.input.model.unit_001.par_radius = 1e-6               # m\n",
    "                                                                \n",
    "## Transport\n",
    "model.root.input.model.unit_001.col_dispersion = 1e-8           # m^2 / s (interstitial volume)\n",
    "model.root.input.model.unit_001.film_diffusion = [1e-5]         # m / s\n",
    "model.root.input.model.unit_001.par_diffusion = [1e-10,]        # m^2 / s (mobile phase)  \n",
    "model.root.input.model.unit_001.par_surfdiffusion = [0.0,]      # m^2 / s (solid phase)"
   ]
  },
  {
   "cell_type": "markdown",
   "metadata": {},
   "source": [
    "### Adsorption model"
   ]
  },
  {
   "cell_type": "code",
   "execution_count": 144,
   "metadata": {},
   "outputs": [],
   "source": [
    "model.root.input.model.unit_001.adsorption_model = 'MULTI_COMPONENT_LANGMUIR'\n",
    "model.root.input.model.unit_001.adsorption.is_kinetic = True    # Kinetic binding\n",
    "model.root.input.model.unit_001.adsorption.mcl_ka = [1.0,]      # m^3 / (mol * s)   (mobile phase)\n",
    "model.root.input.model.unit_001.adsorption.mcl_kd = [1.0,]      # 1 / s (desorption)\n",
    "model.root.input.model.unit_001.adsorption.mcl_qmax = [100.0,]  # mol / m^3   (solid phase)"
   ]
  },
  {
   "cell_type": "markdown",
   "metadata": {},
   "source": [
    "### Initial conditions"
   ]
  },
  {
   "cell_type": "code",
   "execution_count": 145,
   "metadata": {},
   "outputs": [],
   "source": [
    "model.root.input.model.unit_001.init_c = [0.0,]\n",
    "model.root.input.model.unit_001.init_q = [0.0,]"
   ]
  },
  {
   "cell_type": "markdown",
   "metadata": {},
   "source": [
    "### Setting up the Discretization"
   ]
  },
  {
   "cell_type": "code",
   "execution_count": 146,
   "metadata": {},
   "outputs": [],
   "source": [
    "### Grid cells\n",
    "model.root.input.model.unit_001.discretization.ncol = 20\n",
    "model.root.input.model.unit_001.discretization.npar = 5\n",
    "\n",
    "### Bound states\n",
    "model.root.input.model.unit_001.discretization.nbound = [1]\n",
    "\n",
    "### Other options\n",
    "model.root.input.model.unit_001.discretization.par_disc_type = 'EQUIDISTANT_PAR'    \n",
    "model.root.input.model.unit_001.discretization.use_analytic_jacobian = 1\n",
    "model.root.input.model.unit_001.discretization.reconstruction = 'WENO'\n",
    "model.root.input.model.unit_001.discretization.gs_type = 1\n",
    "model.root.input.model.unit_001.discretization.max_krylov = 0\n",
    "model.root.input.model.unit_001.discretization.max_restarts = 10\n",
    "model.root.input.model.unit_001.discretization.schur_safety = 1.0e-8\n",
    "\n",
    "model.root.input.model.unit_001.discretization.weno.boundary_model = 0\n",
    "model.root.input.model.unit_001.discretization.weno.weno_eps = 1e-10\n",
    "model.root.input.model.unit_001.discretization.weno.weno_order = 3"
   ]
  },
  {
   "cell_type": "markdown",
   "metadata": {},
   "source": [
    "## Outlet model"
   ]
  },
  {
   "cell_type": "code",
   "execution_count": 147,
   "metadata": {},
   "outputs": [],
   "source": [
    "model.root.input.model.unit_002.unit_type = 'OUTLET'\n",
    "model.root.input.model.unit_002.ncomp = 1"
   ]
  },
  {
   "cell_type": "markdown",
   "metadata": {},
   "source": [
    "# 2. Setting up time sections and connections"
   ]
  },
  {
   "cell_type": "markdown",
   "metadata": {},
   "source": [
    "## Time sections"
   ]
  },
  {
   "cell_type": "code",
   "execution_count": 148,
   "metadata": {},
   "outputs": [],
   "source": [
    "model.root.input.solver.sections.nsec = 1\n",
    "model.root.input.solver.sections.section_times = [0.0, 1200,]   # s\n",
    "model.root.input.solver.sections.section_continuity = []"
   ]
  },
  {
   "cell_type": "code",
   "execution_count": 149,
   "metadata": {},
   "outputs": [],
   "source": [
    "model.root.input.model.unit_000.sec_000.const_coeff = [1.0e-3,] # mol / m^3\n",
    "model.root.input.model.unit_000.sec_000.lin_coeff = [0.0,]\n",
    "model.root.input.model.unit_000.sec_000.quad_coeff = [0.0,]\n",
    "model.root.input.model.unit_000.sec_000.cube_coeff = [0.0,]"
   ]
  },
  {
   "cell_type": "markdown",
   "metadata": {},
   "source": [
    "## System Connectivity"
   ]
  },
  {
   "cell_type": "code",
   "execution_count": 150,
   "metadata": {},
   "outputs": [],
   "source": [
    "model.root.input.model.connections.nswitches = 1\n",
    "model.root.input.model.connections.switch_000.section = 0\n",
    "model.root.input.model.connections.switch_000.connections = [\n",
    "    0, 1, -1, -1, 60/1e6,  # [unit_000, unit_001, all components, all components, Q/ m^3*s^-1] \n",
    "    1, 2, -1, -1, 60/1e6]  # [unit_001, unit_002, all components, all components, Q/ m^3*s^-1] "
   ]
  },
  {
   "cell_type": "markdown",
   "metadata": {},
   "source": [
    "# 3. Setting up the Simulator and running the simulation"
   ]
  },
  {
   "cell_type": "code",
   "execution_count": 151,
   "metadata": {},
   "outputs": [],
   "source": [
    "model.root.input.model.solver.gs_type = 1\n",
    "model.root.input.model.solver.max_krylov = 0\n",
    "model.root.input.model.solver.max_restarts = 10\n",
    "model.root.input.model.solver.schur_safety = 1e-8\n",
    "\n",
    "# Number of cores for parallel simulation\n",
    "model.root.input.solver.nthreads = 1\n",
    "\n",
    "# Tolerances for the time integrator\n",
    "model.root.input.solver.time_integrator.abstol = 1e-6\n",
    "model.root.input.solver.time_integrator.algtol = 1e-10\n",
    "model.root.input.solver.time_integrator.reltol = 1e-6\n",
    "model.root.input.solver.time_integrator.init_step_size = 1e-6\n",
    "model.root.input.solver.time_integrator.max_steps = 1000000"
   ]
  },
  {
   "cell_type": "code",
   "execution_count": 152,
   "metadata": {},
   "outputs": [],
   "source": [
    "# Return data\n",
    "model.root.input['return'].split_components_data = 0\n",
    "model.root.input['return'].split_ports_data = 0\n",
    "model.root.input['return'].unit_000.write_solution_bulk = 1\n",
    "model.root.input['return'].unit_000.write_solution_inlet = 1\n",
    "model.root.input['return'].unit_000.write_solution_outlet = 1\n",
    "\n",
    "# Copy settings to the other unit operations\n",
    "model.root.input['return'].unit_001 = model.root.input['return'].unit_000\n",
    "model.root.input['return'].unit_002 = model.root.input['return'].unit_000"
   ]
  },
  {
   "cell_type": "code",
   "execution_count": 153,
   "metadata": {},
   "outputs": [],
   "source": [
    "# Solution times\n",
    "model.root.input.solver.user_solution_times = np.linspace(0, 1200, 1001)\n"
   ]
  },
  {
   "cell_type": "code",
   "execution_count": 154,
   "metadata": {},
   "outputs": [
    {
     "name": "stdout",
     "output_type": "stream",
     "text": [
      "Simulation completed successfully\n"
     ]
    }
   ],
   "source": [
    "model.filename = 'cadet-introduction.h5'\n",
    "model.save()\n",
    "\n",
    "data = model.run()\n",
    "\n",
    "if data.returncode == 0:\n",
    "    print(\"Simulation completed successfully\")\n",
    "    model.load()\n",
    "else:\n",
    "    print(data)\n",
    "    raise Exception(\"Simulation failed\")"
   ]
  },
  {
   "cell_type": "code",
   "execution_count": 158,
   "metadata": {},
   "outputs": [
    {
     "data": {
      "image/png": "[encoded data removed]",
      "text/plain": [
       "<Figure size 640x480 with 1 Axes>"
      ]
     },
     "metadata": {},
     "output_type": "display_data"
    }
   ],
   "source": [
    "# 4. Plotting the results\n",
    "plt.figure()\n",
    "time = model.root.output.solution.solution_times\n",
    "c = model.root.output.solution.unit_001.solution_outlet\n",
    "plt.plot(time/60, c)\n",
    "plt.xlabel('$time~(min)$')\n",
    "plt.ylabel('$Outlet~concentration~(mol \\cdot m^{-3})$')\n",
    "plt.show()"
   ]
  },
  {
   "cell_type": "code",
   "execution_count": null,
   "metadata": {},
   "outputs": [],
   "source": []
  }
 ],
 "metadata": {
  "kernelspec": {
   "display_name": "Python 3.8.13",
   "language": "python",
   "name": "python3"
  },
  "language_info": {
   "codemirror_mode": {
    "name": "ipython",
    "version": 3
   },
   "file_extension": ".py",
   "mimetype": "text/x-python",
   "name": "python",
   "nbconvert_exporter": "python",
   "pygments_lexer": "ipython3",
   "version": "3.8.13"
  },
  "orig_nbformat": 4,
  "vscode": {
   "interpreter": {
    "hash": "525751f50e4ded4577caaeae091f12d958a9f2d0872428d29ec290a9d368db68"
   }
  }
 },
 "nbformat": 4,
 "nbformat_minor": 2
}
