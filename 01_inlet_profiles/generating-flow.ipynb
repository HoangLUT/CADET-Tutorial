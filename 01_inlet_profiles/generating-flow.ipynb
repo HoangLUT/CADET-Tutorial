{
 "cells": [
  {
   "cell_type": "code",
   "execution_count": 64,
   "metadata": {},
   "outputs": [],
   "source": [
    "# Importing packages\n",
    "import numpy as np\n",
    "import matplotlib.pyplot as plt\n",
    "from cadet import Cadet\n",
    "Cadet.cadet_path = '/Users/hoangnguyen/cadet-core/cadet/bin/cadet-cli'"
   ]
  },
  {
   "cell_type": "code",
   "execution_count": 65,
   "metadata": {},
   "outputs": [],
   "source": [
    "# Setting up the model\n",
    "model = Cadet()\n",
    "model.root.input.model.nunits = 2"
   ]
  },
  {
   "cell_type": "code",
   "execution_count": 66,
   "metadata": {},
   "outputs": [],
   "source": [
    "# Inlet\n",
    "model.root.input.model.unit_000.unit_type = 'INLET'\n",
    "model.root.input.model.unit_000.ncomp = 1\n",
    "model.root.input.model.unit_000.inlet_type = 'PIECEWISE_CUBIC_POLY'"
   ]
  },
  {
   "cell_type": "code",
   "execution_count": 67,
   "metadata": {},
   "outputs": [],
   "source": [
    "# Outlet\n",
    "model.root.input.model.unit_001.unit_type = 'OUTLET'\n",
    "model.root.input.model.unit_001.ncomp = 1"
   ]
  },
  {
   "cell_type": "code",
   "execution_count": 69,
   "metadata": {},
   "outputs": [],
   "source": [
    "model.root.input.solver.sections.nsec = 2\n",
    "model.root.input.solver.sections.section_times = [0.0, 60/2, 60]   # s\n",
    "model.root.input.solver.sections.section_continuity = [0]"
   ]
  },
  {
   "cell_type": "code",
   "execution_count": 70,
   "metadata": {},
   "outputs": [],
   "source": [
    "model.root.input.model.unit_000.sec_000.const_coeff = [1.0,] # mM\n",
    "model.root.input.model.unit_000.sec_000.lin_coeff = [0.0,]\n",
    "model.root.input.model.unit_000.sec_000.quad_coeff = [0.0,]\n",
    "model.root.input.model.unit_000.sec_000.cube_coeff = [0.0,]\n",
    "\n",
    "model.root.input.model.unit_000.sec_001.const_coeff = [0.0,] # mM\n",
    "model.root.input.model.unit_000.sec_001.lin_coeff = [0.0,]\n",
    "model.root.input.model.unit_000.sec_001.quad_coeff = [0.0,]\n",
    "model.root.input.model.unit_000.sec_001.cube_coeff = [0.0,]"
   ]
  },
  {
   "cell_type": "code",
   "execution_count": 71,
   "metadata": {},
   "outputs": [],
   "source": [
    "# System connectivity\n",
    "model.root.input.model.connections.nswitches = 1\n",
    "model.root.input.model.connections.switch_000.section = 0\n",
    "model.root.input.model.connections.switch_000.connections = [\n",
    "    0, 1, -1, -1, 1e-6, # unit_000, unit_001, all components, all components, Q/ m^3/s\n",
    "]  "
   ]
  },
  {
   "cell_type": "code",
   "execution_count": 72,
   "metadata": {},
   "outputs": [],
   "source": [
    "# Setting up the simulator and run simulation\n",
    "model.root.input.model.solver.gs_type = 1\n",
    "model.root.input.model.solver.max_krylov = 0\n",
    "model.root.input.model.solver.max_restarts = 10\n",
    "model.root.input.model.solver.schur_safety = 1e-8\n",
    "\n",
    "# Number of cores for parallel simulation\n",
    "model.root.input.solver.nthreads = 1\n",
    "\n",
    "# Tolerances for the time integrator\n",
    "model.root.input.solver.time_integrator.abstol = 1e-6\n",
    "model.root.input.solver.time_integrator.algtol = 1e-10\n",
    "model.root.input.solver.time_integrator.reltol = 1e-6\n",
    "model.root.input.solver.time_integrator.init_step_size = 1e-6\n",
    "model.root.input.solver.time_integrator.max_steps = 1000000"
   ]
  },
  {
   "cell_type": "code",
   "execution_count": 73,
   "metadata": {},
   "outputs": [],
   "source": [
    "# Solution times\n",
    "model.root.input.solver.user_solution_times = np.linspace(0, 60, 1001)"
   ]
  },
  {
   "cell_type": "code",
   "execution_count": 74,
   "metadata": {},
   "outputs": [],
   "source": [
    "# Return data\n",
    "model.root.input['return'].split_components_data = 0\n",
    "model.root.input['return'].split_ports_data = 0\n",
    "model.root.input['return'].unit_000.write_solution_bulk = 1\n",
    "model.root.input['return'].unit_000.write_solution_inlet = 1\n",
    "model.root.input['return'].unit_000.write_solution_outlet = 1\n",
    "\n",
    "# Copy settings to the other unit operations\n",
    "model.root.input['return'].unit_001 = model.root.input['return'].unit_000"
   ]
  },
  {
   "cell_type": "code",
   "execution_count": 75,
   "metadata": {},
   "outputs": [
    {
     "name": "stdout",
     "output_type": "stream",
     "text": [
      "Simulation completed successfully\n"
     ]
    }
   ],
   "source": [
    "# Running simulation\n",
    "model.filename = 'generating-flow.h5'\n",
    "model.save()\n",
    "\n",
    "data = model.run()\n",
    "\n",
    "if data.returncode == 0:\n",
    "    print(\"Simulation completed successfully\")\n",
    "    model.load()\n",
    "else:\n",
    "    print(data)\n",
    "    raise Exception(\"Simulation failed\")"
   ]
  },
  {
   "cell_type": "code",
   "execution_count": 76,
   "metadata": {},
   "outputs": [
    {
     "name": "stdout",
     "output_type": "stream",
     "text": [
      "[[1.]\n",
      " [1.]\n",
      " [1.]\n",
      " ...\n",
      " [0.]\n",
      " [0.]\n",
      " [0.]]\n"
     ]
    }
   ],
   "source": [
    "c = model.root.output.solution.unit_001.solution_inlet\n",
    "print(c)"
   ]
  },
  {
   "cell_type": "code",
   "execution_count": 77,
   "metadata": {},
   "outputs": [
    {
     "data": {
      "image/png": "[encoded data removed]",
      "text/plain": [
       "<Figure size 640x480 with 1 Axes>"
      ]
     },
     "metadata": {},
     "output_type": "display_data"
    }
   ],
   "source": [
    "# Plotting the results\n",
    "plt.figure()\n",
    "time = model.root.output.solution.solution_times\n",
    "c = model.root.output.solution.unit_001.solution_inlet\n",
    "plt.plot(time/60, c)\n",
    "plt.xlabel('$time~/~min$')\n",
    "plt.ylabel('$Outlet~concentration~/~mM$')\n",
    "plt.show()"
   ]
  },
  {
   "cell_type": "code",
   "execution_count": null,
   "metadata": {},
   "outputs": [],
   "source": []
  }
 ],
 "metadata": {
  "kernelspec": {
   "display_name": "Python 3.8.13",
   "language": "python",
   "name": "python3"
  },
  "language_info": {
   "codemirror_mode": {
    "name": "ipython",
    "version": 3
   },
   "file_extension": ".py",
   "mimetype": "text/x-python",
   "name": "python",
   "nbconvert_exporter": "python",
   "pygments_lexer": "ipython3",
   "version": "3.8.13"
  },
  "orig_nbformat": 4,
  "vscode": {
   "interpreter": {
    "hash": "525751f50e4ded4577caaeae091f12d958a9f2d0872428d29ec290a9d368db68"
   }
  }
 },
 "nbformat": 4,
 "nbformat_minor": 2
}
