{
 "cells": [
  {
   "cell_type": "markdown",
   "metadata": {},
   "source": [
    "Load CADETSettings\n",
    "\n",
    "This imports all the standard libraries, finds CADET and find and creates all the lesson folders.\n",
    "\n"
   ]
  },
  {
   "cell_type": "code",
   "execution_count": null,
   "metadata": {},
   "outputs": [],
   "source": [
    "import sys; sys.path.insert(0, '..')\n",
    "import utils\n",
    "import matplotlib.pyplot as plt\n",
    "\n",
    "def create_cstr_simulator(kfwd, kbwd, stoich, V, init_c, t_cycle):\n",
    "    n_comp = len(init_c)\n",
    "    \n",
    "    cadet = utils.get_cadet_template(n_units=1)\n",
    "    \n",
    "    # Unit Operations\n",
    "    ## CSTR\n",
    "    cadet.root.input.model.unit_000.unit_type = 'CSTR'\n",
    "    cadet.root.input.model.unit_000.ncomp = n_comp\n",
    "    cadet.root.input.model.unit_000.init_volume = V\n",
    "    cadet.root.input.model.unit_000.init_c = init_c\n",
    "\n",
    "    cadet.root.input.model.unit_000.adsorption_model = 'NONE'\n",
    "\n",
    "    # Reaction\n",
    "    cadet.root.input.model.unit_000.reaction_model = 'MASS_ACTION_LAW'\n",
    "    cadet.root.input.model.unit_000.reaction_bulk.mal_kfwd_bulk = kfwd\n",
    "    cadet.root.input.model.unit_000.reaction_bulk.mal_kbwd_bulk = kbwd\n",
    "    cadet.root.input.model.unit_000.reaction_bulk.mal_stoichiometry_bulk = stoich \n",
    "\n",
    "    # Sections and Switches\n",
    "    cadet.root.input.solver.sections.nsec = 1\n",
    "    cadet.root.input.solver.sections.section_times = [0.0, t_cycle]\n",
    "\n",
    "    cadet.root.input.model.connections.nswitches = 1\n",
    "    cadet.root.input.model.connections.switch_000.section = 0\n",
    "    cadet.root.input.model.connections.switch_000.connections = []\n",
    "    \n",
    "    \n",
    "    return cadet\n"
   ]
  },
  {
   "cell_type": "markdown",
   "metadata": {},
   "source": [
    "## Decay CSTR"
   ]
  },
  {
   "cell_type": "code",
   "execution_count": 1,
   "metadata": {},
   "outputs": [
    {
     "name": "stdout",
     "output_type": "stream",
     "text": [
      "Simulation completed successfully\n"
     ]
    },
    {
     "data": {
      "text/plain": [
       "[<matplotlib.lines.Line2D at 0x7fd5aff03f50>]"
      ]
     },
     "execution_count": 1,
     "metadata": {},
     "output_type": "execute_result"
    },
    {
     "data": {
      "image/png": "[encoded data removed]",
      "text/plain": [
       "<Figure size 432x288 with 1 Axes>"
      ]
     },
     "metadata": {
      "needs_background": "light"
     },
     "output_type": "display_data"
    }
   ],
   "source": [
    "import sys; sys.path.insert(0, '..')\n",
    "import utils\n",
    "\n",
    "# Auxiliary variables\n",
    "n_comp = 1 \n",
    "t_cycle = 600\n",
    "Q = 1e-6/60\n",
    "\n",
    "V = 1e-6\n",
    "init_c = [1.0,]\n",
    "\n",
    "cadet = utils.get_cadet_template(n_units=3)\n",
    "\n",
    "# Unit Operations\n",
    "## Inlet\n",
    "cadet.root.input.model.unit_000.unit_type = 'INLET'\n",
    "cadet.root.input.model.unit_000.ncomp = n_comp\n",
    "cadet.root.input.model.unit_000.inlet_type = 'PIECEWISE_CUBIC_POLY'\n",
    "\n",
    "cadet.root.input.model.unit_000.sec_000.const_coeff = n_comp*[0.0,]\n",
    "\n",
    "## CSTR\n",
    "cadet.root.input.model.unit_001.unit_type = 'CSTR'\n",
    "cadet.root.input.model.unit_001.ncomp = n_comp\n",
    "cadet.root.input.model.unit_001.init_volume = V\n",
    "cadet.root.input.model.unit_001.init_c = init_c\n",
    "\n",
    "cadet.root.input.model.unit_001.adsorption_model = 'NONE'\n",
    "\n",
    "## Outlet\n",
    "cadet.root.input.model.unit_002.unit_type = 'OUTLET'\n",
    "cadet.root.input.model.unit_002.ncomp = n_comp\n",
    "\n",
    "\n",
    "## Sections and Switches\n",
    "cadet.root.input.solver.sections.nsec = 1\n",
    "cadet.root.input.solver.sections.section_times = [0.0, t_cycle]\n",
    "cadet.root.input.solver.sections.section_continuity = []\n",
    "\n",
    "cadet.root.input.model.connections.nswitches = 1\n",
    "cadet.root.input.model.connections.switch_000.section = 0\n",
    "cadet.root.input.model.connections.switch_000.connections = [0, 1, -1, -1, Q,\n",
    "                                                             1, 2, -1, -1, Q]\n",
    "\n",
    "cadet = utils.run_simulation(cadet)\n",
    "\n",
    "import matplotlib.pyplot as plt\n",
    "\n",
    "time = cadet.root.output.solution.solution_times\n",
    "solution_outlet = cadet.root.output.solution.unit_001.solution_outlet\n",
    "plt.plot(time, solution_outlet)"
   ]
  },
  {
   "cell_type": "markdown",
   "metadata": {},
   "source": [
    "## Step CSTR"
   ]
  },
  {
   "cell_type": "code",
   "execution_count": 2,
   "metadata": {},
   "outputs": [
    {
     "name": "stdout",
     "output_type": "stream",
     "text": [
      "Simulation completed successfully\n"
     ]
    },
    {
     "data": {
      "text/plain": [
       "[<matplotlib.lines.Line2D at 0x7fd5afe29090>]"
      ]
     },
     "execution_count": 2,
     "metadata": {},
     "output_type": "execute_result"
    },
    {
     "data": {
      "image/png": "[encoded data removed]",
      "text/plain": [
       "<Figure size 432x288 with 1 Axes>"
      ]
     },
     "metadata": {
      "needs_background": "light"
     },
     "output_type": "display_data"
    }
   ],
   "source": [
    "# Auxiliary variables\n",
    "n_comp = 1 \n",
    "t_cycle = 600\n",
    "Q = 1e-6/60\n",
    "\n",
    "V = 1e-6\n",
    "c_step = [1.0,]\n",
    "init_c = [0.0,]\n",
    "\n",
    "cadet = utils.get_cadet_template(n_units=3)\n",
    "\n",
    "# Unit Operations\n",
    "## Inlet\n",
    "cadet.root.input.model.unit_000.unit_type = 'INLET'\n",
    "cadet.root.input.model.unit_000.ncomp = n_comp\n",
    "cadet.root.input.model.unit_000.inlet_type = 'PIECEWISE_CUBIC_POLY'\n",
    "\n",
    "cadet.root.input.model.unit_000.sec_000.const_coeff = c_step\n",
    "cadet.root.input.model.unit_000.sec_000.lin_coeff = n_comp*[0.0,]\n",
    "cadet.root.input.model.unit_000.sec_000.quad_coeff = n_comp*[0.0,]\n",
    "cadet.root.input.model.unit_000.sec_000.cube_coeff = n_comp*[0.0,]\n",
    "\n",
    "## CSTR\n",
    "cadet.root.input.model.unit_001.unit_type = 'CSTR'\n",
    "cadet.root.input.model.unit_001.ncomp = n_comp\n",
    "cadet.root.input.model.unit_001.init_volume = V\n",
    "cadet.root.input.model.unit_001.init_c = init_c\n",
    "\n",
    "cadet.root.input.model.unit_001.adsorption_model = 'NONE'\n",
    "\n",
    "## Outlet\n",
    "cadet.root.input.model.unit_002.unit_type = 'OUTLET'\n",
    "cadet.root.input.model.unit_002.ncomp = n_comp\n",
    "\n",
    "\n",
    "## Sections and Switches\n",
    "cadet.root.input.solver.sections.nsec = 1\n",
    "cadet.root.input.solver.sections.section_times = [0.0, t_cycle]\n",
    "cadet.root.input.solver.sections.section_continuity = []\n",
    "\n",
    "cadet.root.input.model.connections.nswitches = 1\n",
    "cadet.root.input.model.connections.switch_000.section = 0\n",
    "cadet.root.input.model.connections.switch_000.connections = [0, 1, -1, -1, Q,\n",
    "                                                             1, 2, -1, -1, Q]\n",
    "\n",
    "cadet = utils.run_simulation(cadet)\n",
    "\n",
    "import matplotlib.pyplot as plt\n",
    "\n",
    "time = cadet.root.output.solution.solution_times\n",
    "solution_outlet = cadet.root.output.solution.unit_001.solution_outlet\n",
    "plt.plot(time, solution_outlet)"
   ]
  },
  {
   "cell_type": "markdown",
   "metadata": {},
   "source": [
    "## Decay tubular reactor"
   ]
  },
  {
   "cell_type": "code",
   "execution_count": 3,
   "metadata": {},
   "outputs": [
    {
     "name": "stdout",
     "output_type": "stream",
     "text": [
      "Simulation completed successfully\n"
     ]
    },
    {
     "data": {
      "text/plain": [
       "[<matplotlib.lines.Line2D at 0x7fd5afd362d0>]"
      ]
     },
     "execution_count": 3,
     "metadata": {},
     "output_type": "execute_result"
    },
    {
     "data": {
      "image/png": "[encoded data removed]",
      "text/plain": [
       "<Figure size 432x288 with 1 Axes>"
      ]
     },
     "metadata": {
      "needs_background": "light"
     },
     "output_type": "display_data"
    }
   ],
   "source": [
    "# Auxiliary variables\n",
    "n_comp = 1 \n",
    "t_cycle = 6000\n",
    "Q = 1/60\n",
    "\n",
    "V = 10\n",
    "tau = V/Q\n",
    "c_step = [0.0,]\n",
    "init_c = [1.0,]\n",
    "\n",
    "cadet = utils.get_cadet_template(n_units=3)\n",
    "\n",
    "# Inlet\n",
    "cadet.root.input.model.unit_000.unit_type = 'INLET'\n",
    "cadet.root.input.model.unit_000.ncomp = n_comp\n",
    "cadet.root.input.model.unit_000.inlet_type = 'PIECEWISE_CUBIC_POLY'\n",
    "\n",
    "cadet.root.input.model.unit_000.sec_000.const_coeff = n_comp*[0.0,]\n",
    "cadet.root.input.model.unit_000.sec_000.lin_coeff = n_comp*[0.0]\n",
    "cadet.root.input.model.unit_000.sec_000.quad_coeff = n_comp*[0.0]\n",
    "cadet.root.input.model.unit_000.sec_000.cube_coeff = n_comp*[0.0]\n",
    "\n",
    "\n",
    "# Tubular reactor\n",
    "cadet.root.input.model.unit_001.unit_type = 'LUMPED_RATE_MODEL_WITHOUT_PORES'\n",
    "cadet.root.input.model.unit_001.ncomp = n_comp\n",
    "cadet.root.input.model.unit_001.col_length = tau*Q\n",
    "cadet.root.input.model.unit_001.cross_section_area = 1\n",
    "cadet.root.input.model.unit_001.col_dispersion = 0\n",
    "cadet.root.input.model.unit_001.total_porosity = 1\n",
    "\n",
    "cadet.root.input.model.unit_001.init_c = init_c\n",
    "cadet.root.input.model.unit_001.adsorption_model = 'NONE'\n",
    "\n",
    "# Column discretization\n",
    "cadet.root.input.model.unit_001.discretization.ncol = 10\n",
    "cadet.root.input.model.unit_001.discretization.nbound = n_comp*[0.0]\n",
    "cadet.root.input.model.unit_001.discretization.use_analytic_jacobian = 1\n",
    "cadet.root.input.model.unit_001.discretization.reconstruction = 'WENO'\n",
    "cadet.root.input.model.unit_001.discretization.gs_type = 1\n",
    "cadet.root.input.model.unit_001.discretization.max_krylov = 0\n",
    "cadet.root.input.model.unit_001.discretization.max_restarts = 10\n",
    "cadet.root.input.model.unit_001.discretization.schur_safety = 1.0e-8\n",
    "\n",
    "cadet.root.input.model.unit_001.discretization.weno.boundary_model = 0\n",
    "cadet.root.input.model.unit_001.discretization.weno.weno_eps = 1e-10\n",
    "cadet.root.input.model.unit_001.discretization.weno.weno_order = 3\n",
    "\n",
    "## Outlet\n",
    "cadet.root.input.model.unit_002.unit_type = 'OUTLET'\n",
    "cadet.root.input.model.unit_002.ncomp = n_comp\n",
    "\n",
    "\n",
    "## Sections and Switches\n",
    "cadet.root.input.solver.sections.nsec = 1\n",
    "cadet.root.input.solver.sections.section_times = [0.0, t_cycle]\n",
    "cadet.root.input.solver.sections.section_continuity = []\n",
    "\n",
    "cadet.root.input.model.connections.nswitches = 1\n",
    "cadet.root.input.model.connections.switch_000.section = 0\n",
    "cadet.root.input.model.connections.switch_000.connections = [0, 1, -1, -1, Q,\n",
    "                                                             1, 2, -1, -1, Q]\n",
    "\n",
    "cadet = utils.run_simulation(cadet)\n",
    "\n",
    "import matplotlib.pyplot as plt\n",
    "\n",
    "time = cadet.root.output.solution.solution_times\n",
    "solution_outlet = cadet.root.output.solution.unit_001.solution_outlet\n",
    "plt.plot(time, solution_outlet)"
   ]
  },
  {
   "cell_type": "markdown",
   "metadata": {},
   "source": [
    "## Step tubular reactor"
   ]
  },
  {
   "cell_type": "code",
   "execution_count": 4,
   "metadata": {},
   "outputs": [
    {
     "name": "stdout",
     "output_type": "stream",
     "text": [
      "Simulation completed successfully\n"
     ]
    },
    {
     "data": {
      "text/plain": [
       "[<matplotlib.lines.Line2D at 0x7fd5afd1e990>]"
      ]
     },
     "execution_count": 4,
     "metadata": {},
     "output_type": "execute_result"
    },
    {
     "data": {
      "image/png": "[encoded data removed]",
      "text/plain": [
       "<Figure size 432x288 with 1 Axes>"
      ]
     },
     "metadata": {
      "needs_background": "light"
     },
     "output_type": "display_data"
    }
   ],
   "source": [
    "# Auxiliary variables\n",
    "n_comp = 1 \n",
    "t_cycle = 6000\n",
    "Q = 1/60\n",
    "\n",
    "V = 10\n",
    "tau = V/Q\n",
    "c_step = [1.0,]\n",
    "init_c = [0.0,]\n",
    "\n",
    "cadet = utils.get_cadet_template(n_units=3)\n",
    "\n",
    "# Inlet\n",
    "cadet.root.input.model.unit_000.unit_type = 'INLET'\n",
    "cadet.root.input.model.unit_000.ncomp = n_comp\n",
    "cadet.root.input.model.unit_000.inlet_type = 'PIECEWISE_CUBIC_POLY'\n",
    "\n",
    "cadet.root.input.model.unit_000.sec_000.const_coeff = c_step\n",
    "\n",
    "# Tubular reactor\n",
    "cadet.root.input.model.unit_001.unit_type = 'LUMPED_RATE_MODEL_WITHOUT_PORES'\n",
    "cadet.root.input.model.unit_001.ncomp = n_comp\n",
    "cadet.root.input.model.unit_001.col_length = tau*Q\n",
    "cadet.root.input.model.unit_001.cross_section_area = 1\n",
    "cadet.root.input.model.unit_001.col_dispersion = 0\n",
    "cadet.root.input.model.unit_001.total_porosity = 1\n",
    "\n",
    "cadet.root.input.model.unit_001.init_c = init_c\n",
    "cadet.root.input.model.unit_001.adsorption_model = 'NONE'\n",
    "\n",
    "# Column discretization\n",
    "cadet.root.input.model.unit_001.discretization.ncol = 10\n",
    "cadet.root.input.model.unit_001.discretization.nbound = [0]\n",
    "cadet.root.input.model.unit_001.discretization.use_analytic_jacobian = 1\n",
    "cadet.root.input.model.unit_001.discretization.reconstruction = 'WENO'\n",
    "cadet.root.input.model.unit_001.discretization.gs_type = 1\n",
    "cadet.root.input.model.unit_001.discretization.max_krylov = 0\n",
    "cadet.root.input.model.unit_001.discretization.max_restarts = 10\n",
    "cadet.root.input.model.unit_001.discretization.schur_safety = 1.0e-8\n",
    "\n",
    "cadet.root.input.model.unit_001.discretization.weno.boundary_model = 0\n",
    "cadet.root.input.model.unit_001.discretization.weno.weno_eps = 1e-10\n",
    "cadet.root.input.model.unit_001.discretization.weno.weno_order = 3\n",
    "\n",
    "## Outlet\n",
    "cadet.root.input.model.unit_002.unit_type = 'OUTLET'\n",
    "cadet.root.input.model.unit_002.ncomp = n_comp\n",
    "\n",
    "\n",
    "## Sections and Switches\n",
    "cadet.root.input.solver.sections.nsec = 1\n",
    "cadet.root.input.solver.sections.section_times = [0.0, t_cycle]\n",
    "cadet.root.input.solver.sections.section_continuity = []\n",
    "\n",
    "cadet.root.input.model.connections.nswitches = 1\n",
    "cadet.root.input.model.connections.switch_000.section = 0\n",
    "cadet.root.input.model.connections.switch_000.connections = [0, 1, -1, -1, Q,\n",
    "                                                             1, 2, -1, -1, Q]\n",
    "\n",
    "cadet = utils.run_simulation(cadet)\n",
    "\n",
    "import matplotlib.pyplot as plt\n",
    "\n",
    "time = cadet.root.output.solution.solution_times\n",
    "solution_outlet = cadet.root.output.solution.unit_001.solution_outlet\n",
    "plt.plot(time, solution_outlet)"
   ]
  }
 ],
 "metadata": {
  "kernelspec": {
   "display_name": "Python 3",
   "language": "python",
   "name": "python3"
  },
  "language_info": {
   "codemirror_mode": {
    "name": "ipython",
    "version": 3
   },
   "file_extension": ".py",
   "mimetype": "text/x-python",
   "name": "python",
   "nbconvert_exporter": "python",
   "pygments_lexer": "ipython3",
   "version": "3.7.9"
  }
 },
 "nbformat": 4,
 "nbformat_minor": 4
}
