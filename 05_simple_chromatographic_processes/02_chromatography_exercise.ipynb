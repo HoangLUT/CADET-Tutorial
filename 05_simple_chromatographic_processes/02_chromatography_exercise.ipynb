{
 "cells": [
  {
   "cell_type": "markdown",
   "metadata": {},
   "source": [
    "# Lesson 5: Exercises"
   ]
  },
  {
   "cell_type": "markdown",
   "metadata": {},
   "source": [
    "## Load CADETSettings\n",
    "\n",
    "This imports all the standard libraries and provides some helper functions."
   ]
  },
  {
   "cell_type": "code",
   "execution_count": null,
   "metadata": {},
   "outputs": [],
   "source": [
    "%run ../utils.ipynb"
   ]
  },
  {
   "cell_type": "markdown",
   "metadata": {},
   "source": [
    "## Exercise 1: Combine nonbinding tracer with binding components\n",
    "\n",
    "From the tutorial, combine the dextran pulse with the langmuir experiment.\n",
    "Then, start modifying:\n",
    "- Feed concentrations\n",
    "- Adsorption parameters\n",
    "- Transport parameters\n",
    "- Flow Rates"
   ]
  },
  {
   "cell_type": "code",
   "execution_count": null,
   "metadata": {},
   "outputs": [],
   "source": []
  },
  {
   "cell_type": "markdown",
   "metadata": {},
   "source": [
    "## Exercise 2: Multiple injections\n",
    "\n",
    "For some processes, multiple injections onto a column in sequence.\n",
    "Take the previous example and create an inlet profile with three injections. \n",
    "Try finding the best interval (cycle time) s.t. the column is used most efficiently.\n",
    "\n",
    "***Hint:*** It might be advantageous to create a loop that handles the section times and inlet profiles.\n",
    "Also strings can be modified in loops.\n",
    "For example, the following snippet would create 'unit_000', 'unit_001', and 'unit_002'.\n",
    "```Python3\n",
    "for i in range(3):\n",
    "    'unit_{0:03}'.format(i)\n",
    "```"
   ]
  },
  {
   "cell_type": "code",
   "execution_count": null,
   "metadata": {},
   "outputs": [],
   "source": []
  },
  {
   "cell_type": "markdown",
   "metadata": {},
   "source": [
    "## Example 3: Load wash elute with three components\n",
    "\n",
    "Add a second protein component to the LWE example from the tutorial lesson.\n",
    "Assume that all parameters are the same as the first protein, only $k_a = 0.3~m^{3}_{MP}m^{-3}_{SP}s^{-1}$, and $\\nu = 5.0$\n"
   ]
  },
  {
   "cell_type": "code",
   "execution_count": null,
   "metadata": {},
   "outputs": [],
   "source": []
  }
 ],
 "metadata": {
  "kernelspec": {
   "display_name": "Python 3",
   "language": "python",
   "name": "python3"
  },
  "language_info": {
   "codemirror_mode": {
    "name": "ipython",
    "version": 3
   },
   "file_extension": ".py",
   "mimetype": "text/x-python",
   "name": "python",
   "nbconvert_exporter": "python",
   "pygments_lexer": "ipython3",
   "version": "3.7.8"
  }
 },
 "nbformat": 4,
 "nbformat_minor": 4
}
