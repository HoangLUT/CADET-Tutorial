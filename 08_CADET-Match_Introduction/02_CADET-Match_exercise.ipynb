{
 "cells": [
  {
   "cell_type": "markdown",
   "metadata": {},
   "source": [
    "# Lesson 8: Exercises"
   ]
  },
  {
   "cell_type": "markdown",
   "metadata": {},
   "source": [
    "## Load CADETSettings\n",
    "\n",
    "This imports all the standard libraries and provides some helper functions."
   ]
  },
  {
   "cell_type": "code",
   "execution_count": null,
   "metadata": {},
   "outputs": [],
   "source": [
    "%run ../utils.ipynb"
   ]
  },
  {
   "cell_type": "markdown",
   "metadata": {},
   "source": [
    "## Model templates"
   ]
  },
  {
   "cell_type": "code",
   "execution_count": null,
   "metadata": {},
   "outputs": [],
   "source": [
    "def get_reference_model():\n",
    "    reference_model = create_dextran_model()\n",
    "    \n",
    "    reference_model.root.input.model.unit_001.adsorption_model = 'MULTI_COMPONENT_LANGMUIR'\n",
    "\n",
    "    reference_model.root.input.model.unit_001.adsorption.is_kinetic = 1\n",
    "    reference_model.root.input.model.unit_001.adsorption.mcl_ka = [1.144,]\n",
    "    reference_model.root.input.model.unit_001.adsorption.mcl_kd = [2.0e-3,]\n",
    "    reference_model.root.input.model.unit_001.adsorption.mcl_qmax = [4.88,]\n",
    "\n",
    "    reference_model.root.input.model.unit_001.film_diffusion = [2.0E-7,]\n",
    "    reference_model.root.input.model.unit_001.par_diffusion = [1e-8,]\n",
    "    reference_model.root.input.model.unit_001.discretization.nbound = [1,]\n",
    "\n",
    "    #solver settings\n",
    "    reference_model.root.input.solver.sections.section_times = [0.0, 3000.0, 9500.0]\n",
    "\n",
    "    #set the times that the simulator writes out data for\n",
    "    reference_model.root.input.solver.user_solution_times = np.linspace(0, 9500, 9501)\n",
    "\n",
    "    run_simulation(reference_model, 'langmuir_reference.h5')"
   ]
  },
  {
   "cell_type": "markdown",
   "metadata": {},
   "source": [
    "## Exercise 1: \n",
    "\n",
    "Read experimental data from the `langmuir_experiment.csv` and try to determine the values for `mcl_ka`, `mcl_kd`, and `mcl_qmax`.\n",
    "\n",
    "***Task:*** Compare the gradient approach with different starting values `match.seeds = [(ka, kd, qmax), ]`. Also try setting up `NSGA3`.\n",
    "\n",
    "***Hint:*** The `get_reference_model()` function also creates the necessary `.h5` file."
   ]
  },
  {
   "cell_type": "code",
   "execution_count": null,
   "metadata": {},
   "outputs": [],
   "source": []
  },
  {
   "cell_type": "code",
   "execution_count": null,
   "metadata": {
    "scrolled": true
   },
   "outputs": [],
   "source": []
  },
  {
   "cell_type": "code",
   "execution_count": null,
   "metadata": {},
   "outputs": [],
   "source": [
    "from CADETMatch.jupyter import Match\n",
    "\n",
    "match_file = 'langmuir.json'\n",
    "\n",
    "with open(match_file, 'w') as json_file:\n",
    "    json.dump(match_config.to_dict(), json_file, indent='\\t')\n",
    "\n",
    "match = Match(match_file)\n",
    "match.start_sim()"
   ]
  },
  {
   "cell_type": "code",
   "execution_count": null,
   "metadata": {},
   "outputs": [],
   "source": [
    "match.plot_corner()"
   ]
  },
  {
   "cell_type": "code",
   "execution_count": null,
   "metadata": {},
   "outputs": [],
   "source": [
    "match.plot_best()"
   ]
  }
 ],
 "metadata": {
  "kernelspec": {
   "display_name": "Python 3",
   "language": "python",
   "name": "python3"
  },
  "language_info": {
   "codemirror_mode": {
    "name": "ipython",
    "version": 3
   },
   "file_extension": ".py",
   "mimetype": "text/x-python",
   "name": "python",
   "nbconvert_exporter": "python",
   "pygments_lexer": "ipython3",
   "version": "3.7.9"
  },
  "toc": {
   "base_numbering": 1,
   "nav_menu": {
    "height": "401.997px",
    "width": "424.983px"
   },
   "number_sections": true,
   "sideBar": true,
   "skip_h1_title": false,
   "title_cell": "Table of Contents",
   "title_sidebar": "Contents",
   "toc_cell": false,
   "toc_position": {},
   "toc_section_display": true,
   "toc_window_display": false
  }
 },
 "nbformat": 4,
 "nbformat_minor": 4
}
