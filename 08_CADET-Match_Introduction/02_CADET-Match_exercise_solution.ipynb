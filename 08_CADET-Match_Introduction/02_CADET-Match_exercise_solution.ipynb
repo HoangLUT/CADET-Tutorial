{
 "cells": [
  {
   "cell_type": "markdown",
   "metadata": {},
   "source": [
    "# Lesson 8: Exercises"
   ]
  },
  {
   "cell_type": "markdown",
   "metadata": {},
   "source": [
    "## Load CADETSettings\n",
    "\n",
    "This imports all the standard libraries and provides some helper functions."
   ]
  },
  {
   "cell_type": "code",
   "execution_count": null,
   "metadata": {},
   "outputs": [],
   "source": [
    "%run ../utils.ipynb"
   ]
  },
  {
   "cell_type": "markdown",
   "metadata": {},
   "source": [
    "## Model templates"
   ]
  },
  {
   "cell_type": "code",
   "execution_count": null,
   "metadata": {},
   "outputs": [],
   "source": [
    "def create_reference_model():\n",
    "    reference_model = create_dextran_model()\n",
    "    \n",
    "    reference_model.root.input.model.unit_001.adsorption_model = 'MULTI_COMPONENT_LANGMUIR'\n",
    "\n",
    "    reference_model.root.input.model.unit_001.adsorption.is_kinetic = 1\n",
    "    reference_model.root.input.model.unit_001.adsorption.mcl_ka = [1.144,]\n",
    "    reference_model.root.input.model.unit_001.adsorption.mcl_kd = [2.0e-3,]\n",
    "    reference_model.root.input.model.unit_001.adsorption.mcl_qmax = [4.88,]\n",
    "\n",
    "    reference_model.root.input.model.unit_001.film_diffusion = [2.0E-7,]\n",
    "    reference_model.root.input.model.unit_001.par_diffusion = [1e-8,]\n",
    "    reference_model.root.input.model.unit_001.discretization.nbound = [1,]\n",
    "\n",
    "    #solver settings\n",
    "    reference_model.root.input.solver.sections.section_times = [0.0, 3000.0, 9500.0]\n",
    "\n",
    "    #set the times that the simulator writes out data for\n",
    "    reference_model.root.input.solver.user_solution_times = np.linspace(0, 9500, 9501)\n",
    "\n",
    "    run_simulation(reference_model, 'langmuir_reference.h5')"
   ]
  },
  {
   "cell_type": "markdown",
   "metadata": {},
   "source": [
    "## Exercise 1: \n",
    "\n",
    "Read experimental data from the `langmuir_experiment.csv` and try to determine the values for `mcl_ka`, `mcl_kd`, and `mcl_qmax`.\n",
    "\n",
    "***Task:*** Compare the gradient approach with different starting values `match.seeds = [(ka, kd, qmax), ]`. \n",
    "Also try setting up the `NSGA3` optimizer.\n",
    "\n",
    "***Hint:*** The `create_reference_model()` function also creates the necessary `.h5` file."
   ]
  },
  {
   "cell_type": "code",
   "execution_count": null,
   "metadata": {},
   "outputs": [],
   "source": [
    "create_reference_model()"
   ]
  },
  {
   "cell_type": "code",
   "execution_count": null,
   "metadata": {
    "scrolled": true
   },
   "outputs": [],
   "source": [
    "base_dir = Path('./').absolute()\n",
    "match_config = Dict()\n",
    "match_config.CADETPath = Cadet.cadet_path\n",
    "match_config.baseDir = base_dir.as_posix()\n",
    "match_config.resultsDir = 'results_exercise'\n",
    "\n",
    "parameter1 = Dict()\n",
    "parameter1.transform = 'auto'\n",
    "parameter1.component = 0\n",
    "parameter1.bound = 0\n",
    "parameter1.location = '/input/model/unit_001/adsorption/MCL_KA'\n",
    "parameter1.min = 1e-5\n",
    "parameter1.max = 1e5\n",
    "\n",
    "parameter2 = Dict()\n",
    "parameter2.transform = 'auto'\n",
    "parameter2.component = 0\n",
    "parameter2.bound = 0\n",
    "parameter2.location = '/input/model/unit_001/adsorption/MCL_KD'\n",
    "parameter2.min = 1e-5\n",
    "parameter2.max = 1e5\n",
    "\n",
    "parameter3 = Dict()\n",
    "parameter3.transform = 'auto'\n",
    "parameter3.component = 0\n",
    "parameter3.bound = 0\n",
    "parameter3.location = '/input/model/unit_001/adsorption/MCL_QMAX'\n",
    "parameter3.min = 1\n",
    "parameter3.max = 20\n",
    "\n",
    "match_config.parameters = [parameter1, parameter2, parameter3]\n",
    "\n",
    "experiment1 = Dict()\n",
    "experiment1.csv = 'resources/langmuir_experiment.csv'\n",
    "experiment1.isotherm = '/output/solution/unit_002/SOLUTION_OUTLET_COMP_000'\n",
    "experiment1.HDF5 = 'langmuir_reference.h5'\n",
    "experiment1.name = 'main'\n",
    "\n",
    "feature1 = Dict()\n",
    "feature1.name = 'Pulse'\n",
    "feature1.type = 'SSE'\n",
    "\n",
    "experiment1.features = [feature1,]\n",
    "\n",
    "match_config.experiments = [experiment1,]\n",
    "\n",
    "match_config.searchMethod = 'NSGA3'\n",
    "match_config.population = 12\n",
    "match_config.stallGenerations = 10\n",
    "match_config.finalGradRefinement = True\n",
    "match_config.gradVector = True"
   ]
  },
  {
   "cell_type": "code",
   "execution_count": null,
   "metadata": {},
   "outputs": [],
   "source": [
    "from CADETMatch.jupyter import Match\n",
    "\n",
    "match_file = base_dir / 'langmuir.json'\n",
    "\n",
    "with open(match_file, 'w') as json_file:\n",
    "    json.dump(match_config.to_dict(), json_file, indent='\\t')\n",
    "\n",
    "match = Match(match_file)\n",
    "match.start_sim()"
   ]
  },
  {
   "cell_type": "code",
   "execution_count": null,
   "metadata": {},
   "outputs": [],
   "source": [
    "match.plot_corner()"
   ]
  },
  {
   "cell_type": "code",
   "execution_count": null,
   "metadata": {},
   "outputs": [],
   "source": [
    "match.plot_best()"
   ]
  },
  {
   "cell_type": "markdown",
   "metadata": {},
   "source": [
    "## Exercise 2: auto_keq \n",
    "\n",
    "For the same example, make use of the `auto_keq` parameter transform feature of `CADET-Match`.\n",
    "\n",
    "***Hint:*** For this feature to work, you need to provide a list of locations for the corresponding `ka` and `kd` value of the selected isotherm."
   ]
  },
  {
   "cell_type": "code",
   "execution_count": null,
   "metadata": {},
   "outputs": [],
   "source": [
    "base_dir = Path('./').absolute()\n",
    "match_config = Dict()\n",
    "match_config.CADETPath = Cadet.cadet_path\n",
    "match_config.baseDir = base_dir.as_posix()\n",
    "match_config.resultsDir = 'results_exercise_keq'\n",
    "\n",
    "parameter1 = Dict()\n",
    "parameter1.transform = 'auto_keq'\n",
    "parameter1.component = 0\n",
    "parameter1.bound = 0\n",
    "parameter1.location = ['/input/model/unit_001/adsorption/MCL_KA', '/input/model/unit_001/adsorption/MCL_KD']\n",
    "parameter1.minKA = 1e-5\n",
    "parameter1.maxKA = 1e5\n",
    "parameter1.minKEQ = 1e-4\n",
    "parameter1.maxKEQ = 1e4\n",
    "\n",
    "parameter2 = Dict()\n",
    "parameter2.transform = 'auto'\n",
    "parameter2.component = 0\n",
    "parameter2.bound = 0\n",
    "parameter2.location = '/input/model/unit_001/adsorption/MCL_QMAX'\n",
    "parameter2.min = 1\n",
    "parameter2.max = 20\n",
    "\n",
    "match_config.parameters = [parameter1, parameter2]\n",
    "\n",
    "experiment1 = Dict()\n",
    "experiment1.csv = 'resources/langmuir_experiment.csv'\n",
    "experiment1.isotherm = '/output/solution/unit_002/SOLUTION_OUTLET_COMP_000'\n",
    "experiment1.HDF5 = 'langmuir_reference.h5'\n",
    "experiment1.name = 'main'\n",
    "\n",
    "feature1 = Dict()\n",
    "feature1.name = 'Pulse'\n",
    "feature1.type = 'SSE'\n",
    "\n",
    "experiment1.features = [feature1,]\n",
    "\n",
    "match_config.experiments = [experiment1,]\n",
    "\n",
    "\n",
    "match_config.searchMethod = 'NSGA3'\n",
    "match_config.population = 12\n",
    "match_config.stallGenerations = 10\n",
    "match_config.finalGradRefinement = True\n",
    "match_config.gradVector = True"
   ]
  },
  {
   "cell_type": "code",
   "execution_count": null,
   "metadata": {},
   "outputs": [],
   "source": [
    "from CADETMatch.jupyter import Match\n",
    "\n",
    "match_file = base_dir / 'langmuir_keq.json'\n",
    "\n",
    "with open(match_file, 'w') as json_file:\n",
    "    json.dump(match_config.to_dict(), json_file, indent='\\t')\n",
    "\n",
    "match = Match(match_file)\n",
    "match.start_sim()"
   ]
  },
  {
   "cell_type": "code",
   "execution_count": null,
   "metadata": {},
   "outputs": [],
   "source": [
    "match.plot_corner()"
   ]
  },
  {
   "cell_type": "code",
   "execution_count": null,
   "metadata": {},
   "outputs": [],
   "source": [
    "match.plot_best()"
   ]
  },
  {
   "cell_type": "markdown",
   "metadata": {},
   "source": [
    "## Exercise 3: Shape\n",
    "\n",
    "Adding to the previous example, now use the `shape` feature type for the pulse instead of `SSE`."
   ]
  },
  {
   "cell_type": "code",
   "execution_count": null,
   "metadata": {},
   "outputs": [],
   "source": [
    "base_dir = Path('./').absolute()\n",
    "match_config = Dict()\n",
    "match_config.CADETPath = Cadet.cadet_path\n",
    "match_config.baseDir = base_dir.as_posix()\n",
    "match_config.resultsDir = 'results_exercise_keq_shape'\n",
    "\n",
    "parameter1 = Dict()\n",
    "parameter1.transform = 'auto_keq'\n",
    "parameter1.component = 0\n",
    "parameter1.bound = 0\n",
    "parameter1.location = ['/input/model/unit_001/adsorption/MCL_KA', '/input/model/unit_001/adsorption/MCL_KD']\n",
    "parameter1.minKA = 1e-5\n",
    "parameter1.maxKA = 1e5\n",
    "parameter1.minKEQ = 1e-4\n",
    "parameter1.maxKEQ = 1e4\n",
    "\n",
    "parameter2 = Dict()\n",
    "parameter2.transform = 'auto'\n",
    "parameter2.component = 0\n",
    "parameter2.bound = 0\n",
    "parameter2.location = '/input/model/unit_001/adsorption/MCL_QMAX'\n",
    "parameter2.min = 1\n",
    "parameter2.max = 20\n",
    "\n",
    "match_config.parameters = [parameter1, parameter2]\n",
    "\n",
    "experiment1 = Dict()\n",
    "experiment1.csv = 'resources/langmuir_experiment.csv'\n",
    "experiment1.isotherm = '/output/solution/unit_002/SOLUTION_OUTLET_COMP_000'\n",
    "experiment1.HDF5 = 'langmuir_reference.h5'\n",
    "experiment1.name = 'main'\n",
    "\n",
    "feature1 = Dict()\n",
    "feature1.name = 'Pulse'\n",
    "feature1.type = 'Shape'\n",
    "\n",
    "experiment1.features = [feature1,]\n",
    "\n",
    "match_config.experiments = [experiment1,]\n",
    "\n",
    "match_config.searchMethod = 'NSGA3'\n",
    "match_config.population = 12\n",
    "match_config.stallGenerations = 10\n",
    "match_config.finalGradRefinement = True\n",
    "match_config.gradVector = True"
   ]
  },
  {
   "cell_type": "code",
   "execution_count": null,
   "metadata": {},
   "outputs": [],
   "source": [
    "from CADETMatch.jupyter import Match\n",
    "\n",
    "match_file = base_dir / 'langmuir_keq_shape.json'\n",
    "\n",
    "with open(match_file, 'w') as json_file:\n",
    "    json.dump(match_config.to_dict(), json_file, indent='\\t')\n",
    "\n",
    "match = Match(match_file)\n",
    "match.start_sim()"
   ]
  },
  {
   "cell_type": "code",
   "execution_count": null,
   "metadata": {},
   "outputs": [],
   "source": [
    "match.plot_corner()"
   ]
  },
  {
   "cell_type": "code",
   "execution_count": null,
   "metadata": {},
   "outputs": [],
   "source": [
    "match.plot_best()"
   ]
  }
 ],
 "metadata": {
  "kernelspec": {
   "display_name": "Python 3",
   "language": "python",
   "name": "python3"
  },
  "language_info": {
   "codemirror_mode": {
    "name": "ipython",
    "version": 3
   },
   "file_extension": ".py",
   "mimetype": "text/x-python",
   "name": "python",
   "nbconvert_exporter": "python",
   "pygments_lexer": "ipython3",
   "version": "3.7.8"
  },
  "toc": {
   "base_numbering": 1,
   "nav_menu": {
    "height": "401.997px",
    "width": "424.983px"
   },
   "number_sections": true,
   "sideBar": true,
   "skip_h1_title": false,
   "title_cell": "Table of Contents",
   "title_sidebar": "Contents",
   "toc_cell": false,
   "toc_position": {},
   "toc_section_display": true,
   "toc_window_display": false
  }
 },
 "nbformat": 4,
 "nbformat_minor": 4
}
