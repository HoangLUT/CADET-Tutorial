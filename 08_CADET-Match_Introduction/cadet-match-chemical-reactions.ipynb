{
 "cells": [
  {
   "cell_type": "code",
   "execution_count": 1,
   "metadata": {},
   "outputs": [],
   "source": [
    "# Importing packages\n",
    "import numpy as np\n",
    "import matplotlib.pyplot as plt\n",
    "from cadet import Cadet\n",
    "from addict import Dict\n",
    "import json\n",
    "from pathlib import Path"
   ]
  },
  {
   "cell_type": "code",
   "execution_count": 2,
   "metadata": {},
   "outputs": [],
   "source": [
    "# macOS installation path\n",
    "Cadet.cadet_path = '/users/hoangnguyen/cadet-core/cadet/bin/cadet-cli'"
   ]
  },
  {
   "cell_type": "code",
   "execution_count": 3,
   "metadata": {},
   "outputs": [],
   "source": [
    "# Windows installation path\n",
    "# Cadet.cadet_path = 'C:/Users/hoang/miniconda3/envs/cadet-env/bin/cadet-cli.exe'"
   ]
  },
  {
   "cell_type": "code",
   "execution_count": 4,
   "metadata": {},
   "outputs": [],
   "source": [
    "base_dir = Path('./').absolute()\n",
    "\n",
    "match_config = Dict()\n",
    "match_config.CADETPath = Cadet.cadet_path\n",
    "match_config.baseDir = base_dir.as_posix()\n",
    "match_config.resultsDir = 'results'"
   ]
  },
  {
   "cell_type": "code",
   "execution_count": 5,
   "metadata": {},
   "outputs": [],
   "source": [
    "def get_cadet_template(n_units=3, split_components_data=False):\n",
    "    cadet_template = Cadet()\n",
    "    \n",
    "    cadet_template.root.input.model.nunits = n_units\n",
    "    \n",
    "    # Store solution\n",
    "    cadet_template.root.input['return'].split_components_data = split_components_data\n",
    "    cadet_template.root.input['return'].split_ports_data = 0\n",
    "    cadet_template.root.input['return'].unit_000.write_solution_inlet = 1\n",
    "    cadet_template.root.input['return'].unit_000.write_solution_outlet = 1\n",
    "    cadet_template.root.input['return'].unit_000.write_solution_bulk = 1\n",
    "    cadet_template.root.input['return'].unit_000.write_solution_particle = 1\n",
    "    cadet_template.root.input['return'].unit_000.write_solution_solid = 1\n",
    "    cadet_template.root.input['return'].unit_000.write_solution_flux = 1\n",
    "    cadet_template.root.input['return'].unit_000.write_solution_volume = 1\n",
    "    cadet_template.root.input['return'].unit_000.write_coordinates = 1\n",
    "    cadet_template.root.input['return'].unit_000.write_sens_outlet = 1\n",
    "    \n",
    "    for unit in range(n_units):\n",
    "        cadet_template.root.input['return']['unit_{0:03d}'.format(unit)] = cadet_template.root.input['return'].unit_000\n",
    "        \n",
    "    # Tolerances for the time integrator\n",
    "    cadet_template.root.input.solver.time_integrator.abstol = 1e-6\n",
    "    cadet_template.root.input.solver.time_integrator.algtol = 1e-10\n",
    "    cadet_template.root.input.solver.time_integrator.reltol = 1e-6\n",
    "    cadet_template.root.input.solver.time_integrator.init_step_size = 1e-6\n",
    "    cadet_template.root.input.solver.time_integrator.max_steps = 1000000\n",
    "    \n",
    "    # Solver settings\n",
    "    cadet_template.root.input.model.solver.gs_type = 1\n",
    "    cadet_template.root.input.model.solver.max_krylov = 0\n",
    "    cadet_template.root.input.model.solver.max_restarts = 10\n",
    "    cadet_template.root.input.model.solver.schur_safety = 1e-8\n",
    "\n",
    "    # Run the simulation on single thread\n",
    "    cadet_template.root.input.solver.nthreads = 1\n",
    "    \n",
    "    return cadet_template"
   ]
  },
  {
   "cell_type": "code",
   "execution_count": 6,
   "metadata": {},
   "outputs": [],
   "source": [
    "def set_discretization(model, n_bound=None, n_col=20, n_par_types=1):\n",
    "    columns = {'GENERAL_RATE_MODEL', 'LUMPED_RATE_MODEL_WITH_PORES', 'LUMPED_RATE_MODEL_WITHOUT_PORES'}\n",
    "    \n",
    "    \n",
    "    for unit_name, unit in model.root.input.model.items():\n",
    "        if 'unit_' in unit_name and unit.unit_type in columns:\n",
    "            unit.discretization.ncol = n_col\n",
    "            unit.discretization.npar = 5\n",
    "            unit.discretization.npartype = n_par_types\n",
    "            \n",
    "            if n_bound is None:\n",
    "                n_bound = unit.ncomp*[0]\n",
    "            unit.discretization.nbound = n_bound\n",
    "            \n",
    "            unit.discretization.par_disc_type = 'EQUIDISTANT_PAR'\n",
    "            unit.discretization.use_analytic_jacobian = 1\n",
    "            unit.discretization.reconstruction = 'WENO'\n",
    "            unit.discretization.gs_type = 1\n",
    "            unit.discretization.max_krylov = 0\n",
    "            unit.discretization.max_restarts = 10\n",
    "            unit.discretization.schur_safety = 1.0e-8\n",
    "\n",
    "            unit.discretization.weno.boundary_model = 0\n",
    "            unit.discretization.weno.weno_eps = 1e-10\n",
    "            unit.discretization.weno.weno_order = 3"
   ]
  },
  {
   "cell_type": "code",
   "execution_count": 7,
   "metadata": {},
   "outputs": [],
   "source": [
    "# Auxiliary variables\n",
    "t_cycle = 100\n",
    "\n",
    "init_c = [1.0, 0.0]\n",
    "V = 1e-6\n",
    "\n",
    "kfwd = [0.1]\n",
    "kbwd = [0.0]\n",
    "\n",
    "stoich = [-1, \n",
    "           1]"
   ]
  },
  {
   "cell_type": "code",
   "execution_count": 8,
   "metadata": {},
   "outputs": [],
   "source": [
    "model = get_cadet_template(n_units=1)\n",
    "\n",
    "n_comp = len(init_c)\n",
    "\n",
    "# CSTR\n",
    "model.root.input.model.unit_000.unit_type = 'CSTR'\n",
    "model.root.input.model.unit_000.ncomp = n_comp\n",
    "model.root.input.model.unit_000.init_volume = V\n",
    "model.root.input.model.unit_000.init_c = init_c\n",
    "\n",
    "# Reaction\n",
    "model.root.input.model.unit_000.reaction_model = 'MASS_ACTION_LAW'\n",
    "model.root.input.model.unit_000.reaction_bulk.mal_kfwd_bulk = kfwd\n",
    "model.root.input.model.unit_000.reaction_bulk.mal_kbwd_bulk = kbwd\n",
    "model.root.input.model.unit_000.reaction_bulk.mal_stoichiometry_bulk = stoich \n",
    "\n",
    "# Sections and Switches\n",
    "model.root.input.solver.sections.nsec = 1\n",
    "model.root.input.solver.sections.section_times = [0.0, t_cycle]\n",
    "model.root.input.solver.user_solution_times = np.linspace(0, t_cycle, 1001)\n",
    "\n",
    "model.root.input.model.connections.nswitches = 1\n",
    "model.root.input.model.connections.switch_000.section = 0\n",
    "model.root.input.model.connections.switch_000.connections = []"
   ]
  },
  {
   "cell_type": "code",
   "execution_count": 9,
   "metadata": {},
   "outputs": [],
   "source": [
    "def run_simulation(cadet, file_name=None):\n",
    "    if file_name is None:\n",
    "        f = next(tempfile._get_candidate_names())\n",
    "        cadet.filename = os.path.join(tempfile.tempdir, f + '.h5')\n",
    "    else:\n",
    "        cadet.filename = file_name\n",
    "    # save the simulation\n",
    "    cadet.save()\n",
    "\n",
    "    # run the simulation and load results\n",
    "    data = cadet.run()\n",
    "    cadet.load()\n",
    "    \n",
    "    # Remove files \n",
    "    if file_name is None:\n",
    "        os.remove(os.path.join(tempfile.tempdir, f + '.h5'))\n",
    "\n",
    "    # Raise error if simulation fails\n",
    "    if data.returncode == 0:\n",
    "        print(\"Simulation completed successfully\")\n",
    "    else:\n",
    "        print(data)\n",
    "        raise Exception(\"Simulation failed\")"
   ]
  },
  {
   "cell_type": "code",
   "execution_count": 10,
   "metadata": {},
   "outputs": [
    {
     "name": "stdout",
     "output_type": "stream",
     "text": [
      "Simulation completed successfully\n"
     ]
    }
   ],
   "source": [
    "run_simulation(model, 'forward-reaction.h5')"
   ]
  },
  {
   "cell_type": "code",
   "execution_count": 11,
   "metadata": {},
   "outputs": [
    {
     "data": {
      "text/plain": [
       "[<matplotlib.lines.Line2D at 0x121e98af0>,\n",
       " <matplotlib.lines.Line2D at 0x121e86a60>]"
      ]
     },
     "execution_count": 11,
     "metadata": {},
     "output_type": "execute_result"
    },
    {
     "data": {
      "image/png": "[encoded data removed]",
      "text/plain": [
       "<Figure size 640x480 with 1 Axes>"
      ]
     },
     "metadata": {},
     "output_type": "display_data"
    }
   ],
   "source": [
    "time = model.root.output.solution.solution_times\n",
    "solution_bulk = model.root.output.solution.unit_000.solution_bulk\n",
    "plt.plot(time, solution_bulk)"
   ]
  },
  {
   "cell_type": "code",
   "execution_count": 34,
   "metadata": {},
   "outputs": [
    {
     "data": {
      "text/plain": [
       "array([1.00000000e+00, 9.90049788e-01, 9.80198310e-01, ...,\n",
       "       4.71385636e-05, 4.66675559e-05, 4.61996435e-05])"
      ]
     },
     "execution_count": 34,
     "metadata": {},
     "output_type": "execute_result"
    }
   ],
   "source": [
    "solution_bulk[:,0]"
   ]
  },
  {
   "cell_type": "code",
   "execution_count": 35,
   "metadata": {},
   "outputs": [],
   "source": [
    "import csv\n",
    "with open('forward_reaction_exp.csv','w') as f:\n",
    "    # create the csv writer\n",
    "    writer = csv.writer(f)\n",
    "\n",
    "    # write a column to the csv file\n",
    "    writer.writerow(time)\n",
    "    writer.writerow(solution_bulk[:,0])\n",
    "    writer.writerow(solution_bulk[:,1])"
   ]
  },
  {
   "cell_type": "code",
   "execution_count": 12,
   "metadata": {},
   "outputs": [],
   "source": [
    "parameter1 = Dict()\n",
    "parameter1.location = '/input/model/unit_000/reaction_bulk/mal_kfwd_bulk'\n",
    "parameter1.min = 0\n",
    "parameter1.max = 1\n",
    "parameter1.component = -1\n",
    "parameter1.bound = -1\n",
    "parameter1.transform = 'null'\n",
    "\n",
    "match_config.parameters = [parameter1, ]"
   ]
  },
  {
   "cell_type": "code",
   "execution_count": 37,
   "metadata": {},
   "outputs": [],
   "source": [
    "experiment1 = Dict()\n",
    "experiment1.name = 'forward_reaction'\n",
    "experiment1.csv = '../resources/forward_reaction_exp.csv'\n",
    "experiment1.HDF5 = 'forward-reaction.h5'\n",
    "experiment1.output_path = '/output/solution/unit_000/SOLUTION_BULK'\n",
    "\n",
    "match_config.experiments = [experiment1,]"
   ]
  },
  {
   "cell_type": "code",
   "execution_count": 38,
   "metadata": {},
   "outputs": [],
   "source": [
    "feature1 = Dict()\n",
    "feature1.name = \"Pulse\"\n",
    "feature1.type = 'SSE'\n",
    "\n",
    "experiment1.features = [feature1,]"
   ]
  },
  {
   "cell_type": "code",
   "execution_count": 39,
   "metadata": {},
   "outputs": [],
   "source": [
    "match_config.searchMethod = 'NSGA3'\n",
    "match_config.population = 12\n",
    "match_config.stallGenerations = 10\n",
    "match_config.finalGradRefinement = True\n",
    "match_config.gradVector = True"
   ]
  },
  {
   "cell_type": "code",
   "execution_count": 40,
   "metadata": {},
   "outputs": [
    {
     "ename": "TypeError",
     "evalue": "float() argument must be a string or a number, not 'Dict'",
     "output_type": "error",
     "traceback": [
      "\u001b[0;31m---------------------------------------------------------------------------\u001b[0m",
      "\u001b[0;31mTypeError\u001b[0m                                 Traceback (most recent call last)",
      "Cell \u001b[0;32mIn [40], line 8\u001b[0m\n\u001b[1;32m      5\u001b[0m \u001b[39mwith\u001b[39;00m \u001b[39mopen\u001b[39m(match_config_file\u001b[39m.\u001b[39mas_posix(), \u001b[39m'\u001b[39m\u001b[39mw\u001b[39m\u001b[39m'\u001b[39m) \u001b[39mas\u001b[39;00m json_file:\n\u001b[1;32m      6\u001b[0m     json\u001b[39m.\u001b[39mdump(match_config\u001b[39m.\u001b[39mto_dict(), json_file, indent\u001b[39m=\u001b[39m\u001b[39m'\u001b[39m\u001b[39m\\t\u001b[39;00m\u001b[39m'\u001b[39m)\n\u001b[0;32m----> 8\u001b[0m match \u001b[39m=\u001b[39m Match(match_config_file)\n\u001b[1;32m      9\u001b[0m \u001b[39mmatch\u001b[39;00m\u001b[39m.\u001b[39mstart_sim()\n",
      "File \u001b[0;32m~/conda-envs/cadet-env/lib/python3.8/site-packages/CADETMatch/jupyter.py:19\u001b[0m, in \u001b[0;36mMatch.__init__\u001b[0;34m(self, json_path)\u001b[0m\n\u001b[1;32m     17\u001b[0m \u001b[39mself\u001b[39m\u001b[39m.\u001b[39mcache\u001b[39m.\u001b[39msetup_dir(json_path)\n\u001b[1;32m     18\u001b[0m CADETMatch\u001b[39m.\u001b[39mmatch\u001b[39m.\u001b[39mcreateDirectories(\u001b[39mself\u001b[39m\u001b[39m.\u001b[39mcache, json_path)\n\u001b[0;32m---> 19\u001b[0m \u001b[39mself\u001b[39;49m\u001b[39m.\u001b[39;49mcache\u001b[39m.\u001b[39;49msetup(json_path)\n",
      "File \u001b[0;32m~/conda-envs/cadet-env/lib/python3.8/site-packages/CADETMatch/cache.py:145\u001b[0m, in \u001b[0;36mCache.setup\u001b[0;34m(self, json_path, load_plugins)\u001b[0m\n\u001b[1;32m    140\u001b[0m \u001b[39mself\u001b[39m\u001b[39m.\u001b[39mparameters \u001b[39m=\u001b[39m [\n\u001b[1;32m    141\u001b[0m     \u001b[39mself\u001b[39m\u001b[39m.\u001b[39mtransforms[parameter[\u001b[39m\"\u001b[39m\u001b[39mtransform\u001b[39m\u001b[39m\"\u001b[39m]](parameter, \u001b[39mself\u001b[39m)\n\u001b[1;32m    142\u001b[0m     \u001b[39mfor\u001b[39;00m parameter \u001b[39min\u001b[39;00m \u001b[39mself\u001b[39m\u001b[39m.\u001b[39msettings[\u001b[39m\"\u001b[39m\u001b[39mparameters\u001b[39m\u001b[39m\"\u001b[39m]\n\u001b[1;32m    143\u001b[0m ]\n\u001b[1;32m    144\u001b[0m \u001b[39mself\u001b[39m\u001b[39m.\u001b[39msetupHeaders()\n\u001b[0;32m--> 145\u001b[0m \u001b[39mself\u001b[39;49m\u001b[39m.\u001b[39;49msetupTarget()\n\u001b[1;32m    146\u001b[0m \u001b[39mself\u001b[39m\u001b[39m.\u001b[39msetupMinMax()\n\u001b[1;32m    148\u001b[0m \u001b[39mself\u001b[39m\u001b[39m.\u001b[39mWORST \u001b[39m=\u001b[39m [\u001b[39mself\u001b[39m\u001b[39m.\u001b[39mbadScore] \u001b[39m*\u001b[39m \u001b[39mself\u001b[39m\u001b[39m.\u001b[39mnumGoalsOrig\n",
      "File \u001b[0;32m~/conda-envs/cadet-env/lib/python3.8/site-packages/CADETMatch/cache.py:422\u001b[0m, in \u001b[0;36mCache.setupTarget\u001b[0;34m(self)\u001b[0m\n\u001b[1;32m    419\u001b[0m \u001b[39mself\u001b[39m\u001b[39m.\u001b[39madaptive \u001b[39m=\u001b[39m \u001b[39mTrue\u001b[39;00m\n\u001b[1;32m    421\u001b[0m \u001b[39mfor\u001b[39;00m experiment \u001b[39min\u001b[39;00m \u001b[39mself\u001b[39m\u001b[39m.\u001b[39msettings[\u001b[39m\"\u001b[39m\u001b[39mexperiments\u001b[39m\u001b[39m\"\u001b[39m]:\n\u001b[0;32m--> 422\u001b[0m     \u001b[39mself\u001b[39m\u001b[39m.\u001b[39mtarget[experiment[\u001b[39m\"\u001b[39m\u001b[39mname\u001b[39m\u001b[39m\"\u001b[39m]] \u001b[39m=\u001b[39m \u001b[39mself\u001b[39;49m\u001b[39m.\u001b[39;49msetupExperiment(experiment)\n\u001b[1;32m    423\u001b[0m \u001b[39mif\u001b[39;00m \u001b[39m\"\u001b[39m\u001b[39merrorModel\u001b[39m\u001b[39m\"\u001b[39m \u001b[39min\u001b[39;00m \u001b[39mself\u001b[39m\u001b[39m.\u001b[39msettings:\n\u001b[1;32m    424\u001b[0m     \u001b[39mself\u001b[39m\u001b[39m.\u001b[39madd_units_error_model(\u001b[39mself\u001b[39m\u001b[39m.\u001b[39msettings[\u001b[39m\"\u001b[39m\u001b[39merrorModel\u001b[39m\u001b[39m\"\u001b[39m], \u001b[39mself\u001b[39m\u001b[39m.\u001b[39mtarget)\n",
      "File \u001b[0;32m~/conda-envs/cadet-env/lib/python3.8/site-packages/CADETMatch/cache.py:465\u001b[0m, in \u001b[0;36mCache.setupExperiment\u001b[0;34m(self, experiment, sim, dataFromSim)\u001b[0m\n\u001b[1;32m    461\u001b[0m     CV_time \u001b[39m=\u001b[39m volume \u001b[39m/\u001b[39m flow\n\u001b[1;32m    463\u001b[0m \u001b[39melse\u001b[39;00m:\n\u001b[1;32m    464\u001b[0m     \u001b[39m# CV needs to be based on superficial velocity not interstitial velocity\u001b[39;00m\n\u001b[0;32m--> 465\u001b[0m     length \u001b[39m=\u001b[39m \u001b[39mfloat\u001b[39;49m(unit\u001b[39m.\u001b[39;49mcol_length)\n\u001b[1;32m    467\u001b[0m     velocity \u001b[39m=\u001b[39m unit\u001b[39m.\u001b[39mvelocity\n\u001b[1;32m    468\u001b[0m     \u001b[39mif\u001b[39;00m velocity \u001b[39m==\u001b[39m {}:\n",
      "\u001b[0;31mTypeError\u001b[0m: float() argument must be a string or a number, not 'Dict'"
     ]
    }
   ],
   "source": [
    "from CADETMatch.jupyter import Match\n",
    "\n",
    "match_config_file = base_dir / 'reaction.json'\n",
    "\n",
    "with open(match_config_file.as_posix(), 'w') as json_file:\n",
    "    json.dump(match_config.to_dict(), json_file, indent='\\t')\n",
    "\n",
    "match = Match(match_config_file)\n",
    "match.start_sim()"
   ]
  },
  {
   "cell_type": "code",
   "execution_count": null,
   "metadata": {},
   "outputs": [],
   "source": []
  }
 ],
 "metadata": {
  "kernelspec": {
   "display_name": "Python 3.8.13",
   "language": "python",
   "name": "python3"
  },
  "language_info": {
   "codemirror_mode": {
    "name": "ipython",
    "version": 3
   },
   "file_extension": ".py",
   "mimetype": "text/x-python",
   "name": "python",
   "nbconvert_exporter": "python",
   "pygments_lexer": "ipython3",
   "version": "3.8.13"
  },
  "orig_nbformat": 4,
  "vscode": {
   "interpreter": {
    "hash": "525751f50e4ded4577caaeae091f12d958a9f2d0872428d29ec290a9d368db68"
   }
  }
 },
 "nbformat": 4,
 "nbformat_minor": 2
}
