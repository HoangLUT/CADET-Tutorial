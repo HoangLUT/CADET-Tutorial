{
 "cells": [
  {
   "cell_type": "markdown",
   "metadata": {},
   "source": [
    "# Introduction\n",
    "\n",
    "This document is to help you check if CADET is installed correctly.\n",
    "If you install everything is this document you will be able to run all the examples on your local machine and be ready to use CADET for running further simulations. \n",
    "\n",
    "<div class=\"alert alert-info\">\n",
    "\n",
    "**Note:** \n",
    "\n",
    "Before starting any of the tutorials, make sure you have read the instructions carefully.\n",
    "Make sure, you have updated the tutorials, set the correct path for `CADET`, and checked that `CADET` runs.\n",
    "    \n",
    "</div>\n"
   ]
  },
  {
   "cell_type": "markdown",
   "metadata": {},
   "source": [
    "## Update the tutorials\n",
    "\n",
    "This cell will connect to github and update to a newer version of the tutorial later.\n",
    "\n",
    "<div class=\"alert alert-danger\">\n",
    "\n",
    "**Warning:** \n",
    "\n",
    "Updating the repository will also remove any local changes you may have made to the tutorial files!!!\n",
    "    \n",
    "</div>"
   ]
  },
  {
   "cell_type": "code",
   "execution_count": null,
   "metadata": {},
   "outputs": [],
   "source": [
    "# Python path library support\n",
    "from pathlib import Path\n",
    "from git import Repo\n",
    "\n",
    "# This is where the tutorial will be checked out\n",
    "tutorial_dir = Path.home() / \"CADET-Tutorial\"\n",
    "\n",
    "# If the tutorial has already been copied we need to update it instead of copying it again\n",
    "if tutorial_dir.exists():\n",
    "    repo = Repo(tutorial_dir.as_posix())\n",
    "\n",
    "    remote = repo.remote()\n",
    "    remote.fetch()    \n",
    "    repo.git.reset('--hard','origin/master')\n",
    "else:\n",
    "    Repo.clone_from(\"https://github.com/modsim/CADET-Tutorial\", tutorial_dir)"
   ]
  },
  {
   "cell_type": "markdown",
   "metadata": {},
   "source": [
    "##  CADET documentation\n",
    "\n",
    "The documentation of CADET is available on https://cadet.github.io. \n",
    "It includes theoretical background of all the [models](https://cadet.github.io/modelling/) implemented in CADET, a detailed description of the [interface specifications](https://cadet.github.io/interface/), as well as information on the numerics of the [simulator](https://cadet.github.io/simulation/)."
   ]
  },
  {
   "cell_type": "markdown",
   "metadata": {},
   "source": [
    "## CADET-Python\n",
    "\n",
    "In this tutorial, we will use CADET-Python to interface CADET.\n",
    "It is a file based frontend for CADET which maps almost exactly to the documented CADET interface specifications.\n",
    "The package includes a Cadet class which serves as a generic HDF5 frontend.\n",
    "\n",
    "As an example, we consider setting the external porosity for the column model (unit_001).\n",
    "From file format, the path for this is /input/model/unit_001/COL_POROSITY.\n",
    "In the Python frontend, this becomes:\n",
    "\n",
    "```\n",
    "sim = Cadet()\n",
    "sim.root.input.model.unit_001.col_porosity = 0.33\n",
    "```\n",
    "\n",
    "<div class=\"alert alert-danger\">\n",
    "\n",
    "**Warning:** \n",
    "\n",
    "Note, that the Cadet class does not provide any sanity checks. If parameters are misspelled or have the wrong dimensions, they are simply ignored. This can cause problems later on, when the simulator is run.\n",
    "\n",
    "</div>\n"
   ]
  },
  {
   "cell_type": "markdown",
   "metadata": {},
   "source": [
    "## Utility functions for this tutorial\n",
    "\n",
    "For the purpose of this tutorial, we have provided some [utility functions](./utils.ipynb) which provide some templates and other useful functionality.\n",
    "\n",
    "<div class=\"alert alert-info\">\n",
    "\n",
    "**Note:** \n",
    "\n",
    "Please make sure to enter the correct path to your CADET installation there!\n",
    "\n",
    "</div>"
   ]
  },
  {
   "cell_type": "markdown",
   "metadata": {},
   "source": [
    "## Verify CADET is working\n",
    "CADET comes with some basic tests to verify that it is working correctly. \n",
    "If you install from the zip file this should just automatically work.\n",
    "If it does not please report any error messages you get so we can help fix the problem."
   ]
  },
  {
   "cell_type": "code",
   "execution_count": null,
   "metadata": {},
   "outputs": [],
   "source": [
    "%run ./utils.ipynb\n",
    "\n",
    "ret = subprocess.run([lwe_path.as_posix()], \n",
    "            stdout=subprocess.PIPE, stderr=subprocess.PIPE, cwd=cadet_bin_path.as_posix())\n",
    "if ret.returncode == 0:\n",
    "    print(\"Test simulation was created\")\n",
    "else:\n",
    "    print(\"Failure: Creation of test simulation ran into problems\")\n",
    "if ret.stdout:\n",
    "    print('Output', ret.stdout.decode('utf-8'))\n",
    "if ret.stderr:\n",
    "    print('Errors', ret.stderr.decode('utf-8'))\n",
    "    \n",
    "lwe_hdf5_path = cadet_bin_path / 'LWE.h5'\n",
    "\n",
    "#create a simulation\n",
    "sim = Cadet()\n",
    "\n",
    "#set the path to where a simulation can be found\n",
    "sim.filename = lwe_hdf5_path.as_posix()\n",
    "\n",
    "#run the simulation\n",
    "data = sim.run()\n",
    "\n",
    "if data.returncode == 0:\n",
    "    print(\"Simulation completed successfully\")\n",
    "else:\n",
    "    print(\"Simulation failed\")\n",
    "\n",
    "#Load the data from the simulation\n",
    "sim.load()"
   ]
  }
 ],
 "metadata": {
  "kernelspec": {
   "display_name": "Python 3",
   "language": "python",
   "name": "python3"
  },
  "language_info": {
   "codemirror_mode": {
    "name": "ipython",
    "version": 3
   },
   "file_extension": ".py",
   "mimetype": "text/x-python",
   "name": "python",
   "nbconvert_exporter": "python",
   "pygments_lexer": "ipython3",
   "version": "3.7.9"
  }
 },
 "nbformat": 4,
 "nbformat_minor": 4
}
