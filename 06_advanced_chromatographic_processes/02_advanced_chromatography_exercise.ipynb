{
 "cells": [
  {
   "cell_type": "markdown",
   "metadata": {},
   "source": [
    "# Lesson 6: Exercises"
   ]
  },
  {
   "cell_type": "markdown",
   "metadata": {},
   "source": [
    "## Load CADETSettings\n",
    "\n",
    "This imports all the standard libraries and provides some helper functions."
   ]
  },
  {
   "cell_type": "code",
   "execution_count": null,
   "metadata": {},
   "outputs": [],
   "source": [
    "%run ../utils.ipynb"
   ]
  },
  {
   "cell_type": "markdown",
   "metadata": {},
   "source": [
    "## Model templates"
   ]
  },
  {
   "cell_type": "code",
   "execution_count": null,
   "metadata": {},
   "outputs": [],
   "source": [
    "def get_langmuir_template():\n",
    "    n_comp = 2\n",
    "    \n",
    "    langmuir_model = get_cadet_template(n_units=4)\n",
    "\n",
    "    # INLET\n",
    "    langmuir_model.root.input.model.unit_000.unit_type = 'INLET'\n",
    "    langmuir_model.root.input.model.unit_000.ncomp = n_comp\n",
    "    langmuir_model.root.input.model.unit_000.inlet_type = 'PIECEWISE_CUBIC_POLY'\n",
    "\n",
    "    # Mixer\n",
    "    langmuir_model.root.input.model.unit_001.unit_type = 'CSTR'\n",
    "    langmuir_model.root.input.model.unit_001.ncomp = n_comp\n",
    "    langmuir_model.root.input.model.unit_001.init_volume =1e-6\n",
    "    langmuir_model.root.input.model.unit_001.init_c = n_comp*[0.0]\n",
    "\n",
    "    # Column\n",
    "    langmuir_model.root.input.model.unit_002.unit_type = 'LUMPED_RATE_MODEL_WITH_PORES'\n",
    "    langmuir_model.root.input.model.unit_002.ncomp = n_comp\n",
    "\n",
    "    langmuir_model.root.input.model.unit_002.col_length = 0.6\n",
    "    langmuir_model.root.input.model.unit_002.cross_section_area = 1.0386890710931253E-4\n",
    "    langmuir_model.root.input.model.unit_002.col_porosity = 0.37\n",
    "    langmuir_model.root.input.model.unit_002.par_porosity = 0.33\n",
    "    langmuir_model.root.input.model.unit_002.par_radius = 4.5e-5\n",
    "\n",
    "    langmuir_model.root.input.model.unit_002.col_dispersion = 2.0e-7\n",
    "    langmuir_model.root.input.model.unit_002.film_diffusion = [1e-4, 1e-4]\n",
    "\n",
    "    langmuir_model.root.input.model.unit_002.adsorption_model = 'MULTI_COMPONENT_LANGMUIR'\n",
    "    langmuir_model.root.input.model.unit_002.adsorption.is_kinetic = False\n",
    "    langmuir_model.root.input.model.unit_002.adsorption.mcl_ka = [2, 3]\n",
    "    langmuir_model.root.input.model.unit_002.adsorption.mcl_kd = [1, 1]\n",
    "    langmuir_model.root.input.model.unit_002.adsorption.mcl_qmax = [1, 1]\n",
    "\n",
    "    langmuir_model.root.input.model.unit_002.init_c = n_comp*[0.0,]\n",
    "    langmuir_model.root.input.model.unit_002.init_q = n_comp*[0.0,]\n",
    "\n",
    "    ## Outlet\n",
    "    langmuir_model.root.input.model.unit_003.ncomp = n_comp\n",
    "    langmuir_model.root.input.model.unit_003.unit_type = 'OUTLET'\n",
    "\n",
    "    set_discretization(langmuir_model, n_col=40, n_bound=n_comp*[1])\n",
    "    \n",
    "    return langmuir_model\n",
    "\n",
    "def get_clr_template():\n",
    "    clr_model = get_cadet_template(n_units=5)\n",
    "\n",
    "    # INLET\n",
    "    clr_model.root.input.model.unit_000.unit_type = 'INLET'\n",
    "    clr_model.root.input.model.unit_000.ncomp = n_comp\n",
    "    clr_model.root.input.model.unit_000.inlet_type = 'PIECEWISE_CUBIC_POLY'\n",
    "\n",
    "    # Column\n",
    "    clr_model.root.input.model.unit_001.unit_type = 'LUMPED_RATE_MODEL_WITHOUT_PORES'\n",
    "    clr_model.root.input.model.unit_001.ncomp = n_comp\n",
    "\n",
    "    clr_model.root.input.model.unit_001.col_length = 0.6\n",
    "    clr_model.root.input.model.unit_001.cross_section_area = 1.0386890710931253E-4\n",
    "    clr_model.root.input.model.unit_001.total_porosity = 0.6\n",
    "    clr_model.root.input.model.unit_001.col_dispersion = 2.0e-7\n",
    "\n",
    "    clr_model.root.input.model.unit_001.adsorption_model = 'MULTI_COMPONENT_LANGMUIR'\n",
    "    clr_model.root.input.model.unit_001.adsorption.is_kinetic = False\n",
    "    clr_model.root.input.model.unit_001.adsorption.mcl_ka = [1, 1.1]\n",
    "    clr_model.root.input.model.unit_001.adsorption.mcl_kd = [1, 1]\n",
    "    clr_model.root.input.model.unit_001.adsorption.mcl_qmax = [1, 1]\n",
    "\n",
    "    clr_model.root.input.model.unit_001.init_c = n_comp*[0.0,]\n",
    "    clr_model.root.input.model.unit_001.init_q = n_comp*[0.0,]\n",
    "\n",
    "    ## Outlet\n",
    "    clr_model.root.input.model.unit_002.ncomp = n_comp\n",
    "    clr_model.root.input.model.unit_002.unit_type = 'OUTLET'\n",
    "\n",
    "    set_discretization(clr_model, n_col=40, n_bound=n_comp*[1])\n",
    "    \n",
    "    return clr_model"
   ]
  },
  {
   "cell_type": "markdown",
   "metadata": {},
   "source": [
    "## Exercise 1: Modelling dispersion of valves and tubing\n",
    "\n",
    "Take the example from the lesson and add tubing using a `LUMPED_RATE_MODEL_WITHOUT_PORES` with $L_c = 0.5~m$, $A_c = 1 \\cdot 10^{-5}~m^2$, and $D_{ax} = 1 \\cdot 10^{-5}~m^2 \\cdot s^{-1}$.\n",
    "\n",
    "***Task:*** Plot the inlet and outlet of every unit operation and compare the results to a system without any considerations for valving and tubing.\n",
    "\n",
    "***Hint:*** We can define unit operations in any order, so you can simply add to the template and then set the connections accordingly.\n",
    "Make sure to also the discretization for the tubing and to set the flags for saving the solution."
   ]
  },
  {
   "cell_type": "code",
   "execution_count": null,
   "metadata": {},
   "outputs": [],
   "source": []
  },
  {
   "cell_type": "markdown",
   "metadata": {},
   "source": [
    "## Example 2: Closed loop recycling\n",
    "\n",
    "For difficult separations, a longer column length can be simulated by recycling the same sample several times through a column.\n",
    "In `CADET`, we can model this process (called closed loop recycling (CLR)), by connecting a column unit operation with itself.\n",
    "\n",
    "***Task:*** Use the `clr_model` template and model the CLR process.\n",
    "First inject some amount on the column.\n",
    "Then connect the column with itself and consider 5 recycles, each taking $3600~s$. \n",
    "Then wash the column for another cycle."
   ]
  },
  {
   "cell_type": "code",
   "execution_count": null,
   "metadata": {},
   "outputs": [],
   "source": []
  }
 ],
 "metadata": {
  "kernelspec": {
   "display_name": "Python 3",
   "language": "python",
   "name": "python3"
  },
  "language_info": {
   "codemirror_mode": {
    "name": "ipython",
    "version": 3
   },
   "file_extension": ".py",
   "mimetype": "text/x-python",
   "name": "python",
   "nbconvert_exporter": "python",
   "pygments_lexer": "ipython3",
   "version": "3.7.9"
  },
  "toc": {
   "base_numbering": 1,
   "nav_menu": {
    "height": "480.99px",
    "width": "608.993px"
   },
   "number_sections": true,
   "sideBar": true,
   "skip_h1_title": false,
   "title_cell": "Table of Contents",
   "title_sidebar": "Contents",
   "toc_cell": false,
   "toc_position": {},
   "toc_section_display": true,
   "toc_window_display": false
  }
 },
 "nbformat": 4,
 "nbformat_minor": 4
}
