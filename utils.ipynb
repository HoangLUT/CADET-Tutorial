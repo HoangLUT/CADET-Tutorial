{
 "cells": [
  {
   "cell_type": "markdown",
   "metadata": {},
   "source": [
    "# Settings and utility functions\n",
    "\n",
    "This module has all of the standard pieces of code we need for the workshop so that we don't have to repeat it for every lesson."
   ]
  },
  {
   "cell_type": "markdown",
   "metadata": {},
   "source": [
    "## Set path to CADET bin folder\n",
    "\n",
    "The first step is to import CADET and tell the system where cadet-cli can be found.\n",
    "\n",
    "<div class=\"alert alert-info\">\n",
    "\n",
    "**Note:** \n",
    "\n",
    "Please specify the location of the `cadet-cli` executable. It is located in the bin folder where CADET was installed.\n",
    "\n",
    "</div>"
   ]
  },
  {
   "cell_type": "code",
   "execution_count": null,
   "metadata": {},
   "outputs": [],
   "source": [
    "import platform\n",
    "from pathlib import Path\n",
    "from cadet import Cadet\n",
    "\n",
    "# put in the path to the bin folder\n",
    "cadet_bin_path = Path.home() / \"cadet4.1.0-win10-x64\" / \"cadet\"/ \"bin\""
   ]
  },
  {
   "cell_type": "markdown",
   "metadata": {},
   "source": [
    "## Standard imports\n",
    "\n",
    "Here, some other standard libraries are imported."
   ]
  },
  {
   "cell_type": "code",
   "execution_count": null,
   "metadata": {},
   "outputs": [],
   "source": [
    "import os\n",
    "\n",
    "from IPython.core.display import display, HTML, clear_output\n",
    "display(HTML(\"<style>.container { width:100% !important; }</style>\"))\n",
    "\n",
    "from IPython.display import Image\n",
    "\n",
    "# python numeric library\n",
    "import numpy as np\n",
    "\n",
    "# scientific library for python\n",
    "import scipy\n",
    "\n",
    "# pandas is python library for data analysis\n",
    "import pandas\n",
    "\n",
    "# addict is a library that makes it easier to create nested dictionaries\n",
    "from addict import Dict\n",
    "\n",
    "# json is a standard text based format and it used in CADETMatch for the configuration file\n",
    "import json\n",
    "\n",
    "# python plotting library\n",
    "import matplotlib.pyplot as plt\n",
    "%config InlineBackend.figure_format='svg'\n",
    "%matplotlib inline\n",
    "\n",
    "# jupyter widget support\n",
    "from ipywidgets import interact, interactive\n",
    "import ipywidgets as widgets\n",
    "\n",
    "# Temporary files for simulation objects\n",
    "import tempfile\n",
    "tempfile.tempdir = os.path.join(Path.home())\n",
    "\n",
    "import subprocess"
   ]
  },
  {
   "cell_type": "markdown",
   "metadata": {},
   "source": [
    "## Template for CADET simulations\n",
    "\n",
    "This function defines some default values that can be used for all simulations."
   ]
  },
  {
   "cell_type": "code",
   "execution_count": null,
   "metadata": {},
   "outputs": [],
   "source": [
    "def get_cadet_template(n_units=3):\n",
    "    cadet_template = Cadet()\n",
    "    \n",
    "    cadet_template.root.input.model.nunits = n_units\n",
    "    \n",
    "    # Store solution\n",
    "    cadet_template.root.input['return'].split_components_data = 0\n",
    "    cadet_template.root.input['return'].split_ports_data = 0\n",
    "    cadet_template.root.input['return'].unit_000.write_solution_inlet = 1\n",
    "    cadet_template.root.input['return'].unit_000.write_solution_outlet = 1\n",
    "    cadet_template.root.input['return'].unit_000.write_solution_bulk = 1\n",
    "    cadet_template.root.input['return'].unit_000.write_solution_particle = 1\n",
    "    cadet_template.root.input['return'].unit_000.write_solution_solid = 1\n",
    "    cadet_template.root.input['return'].unit_000.write_solution_flux = 1\n",
    "    cadet_template.root.input['return'].unit_000.write_solution_volume = 1\n",
    "    cadet_template.root.input['return'].unit_000.write_coordinates = 1\n",
    "    cadet_template.root.input['return'].unit_000.write_sens_outlet = 1\n",
    "    \n",
    "    for unit in range(n_units):\n",
    "        cadet_template.root.input['return']['unit_{0:03d}'.format(unit)] = cadet_template.root.input['return'].unit_000\n",
    "        \n",
    "    # Tolerances for the time integrator\n",
    "    cadet_template.root.input.solver.time_integrator.abstol = 1e-6\n",
    "    cadet_template.root.input.solver.time_integrator.algtol = 1e-10\n",
    "    cadet_template.root.input.solver.time_integrator.reltol = 1e-6\n",
    "    cadet_template.root.input.solver.time_integrator.init_step_size = 1e-6\n",
    "    cadet_template.root.input.solver.time_integrator.max_steps = 1000000\n",
    "    \n",
    "    # Solver settings\n",
    "    cadet_template.root.input.model.solver.gs_type = 1\n",
    "    cadet_template.root.input.model.solver.max_krylov = 0\n",
    "    cadet_template.root.input.model.solver.max_restarts = 10\n",
    "    cadet_template.root.input.model.solver.schur_safety = 1e-8\n",
    "\n",
    "    # Run the simulation on single thread\n",
    "    cadet_template.root.input.solver.nthreads = 1\n",
    "    \n",
    "    return cadet_template\n",
    "\n",
    "\n",
    "def set_discretization(model, nbound=None):\n",
    "    columns = {'GENERAL_RATE_MODEL', 'LUMPED_RATE_MODEL_WITH_PORES', 'LUMPED_RATE_MODEL_WITHOUT_PORES'}\n",
    "    \n",
    "    \n",
    "    for unit_name, unit in model.root.input.model.items():\n",
    "        if 'unit_' in unit_name and unit.unit_type in columns:\n",
    "            unit.discretization.ncol = 20\n",
    "            unit.discretization.npar = 5\n",
    "            \n",
    "            if nbound is None:\n",
    "                nbound = unit.ncomp*[0]\n",
    "            unit.discretization.nbound = nbound\n",
    "            \n",
    "            unit.discretization.par_disc_type = 'EQUIDISTANT_PAR'\n",
    "            unit.discretization.use_analytic_jacobian = 1\n",
    "            unit.discretization.reconstruction = 'WENO'\n",
    "            unit.discretization.gs_type = 1\n",
    "            unit.discretization.max_krylov = 0\n",
    "            unit.discretization.max_restarts = 10\n",
    "            unit.discretization.schur_safety = 1.0e-8\n",
    "\n",
    "            unit.discretization.weno.boundary_model = 0\n",
    "            unit.discretization.weno.weno_eps = 1e-10\n",
    "            unit.discretization.weno.weno_order = 3"
   ]
  },
  {
   "cell_type": "markdown",
   "metadata": {},
   "source": [
    "## Function for running CADET\n",
    "\n",
    "Wrapper for calling the Cadet.run() function with some additional functionality."
   ]
  },
  {
   "cell_type": "code",
   "execution_count": null,
   "metadata": {},
   "outputs": [],
   "source": [
    "def run_simulation(cadet, file_name=None):\n",
    "    f = next(tempfile._get_candidate_names())\n",
    "    file = os.path.join(tempfile.tempdir, f + '.h5')\n",
    "    \n",
    "    cadet.filename = file\n",
    "\n",
    "    # save the simulation\n",
    "    cadet.save()\n",
    "\n",
    "    # run the simulation\n",
    "    data = cadet.run()\n",
    "\n",
    "    if data.returncode == 0:\n",
    "        print(\"Simulation completed successfully\")\n",
    "        cadet.load()   \n",
    "    else:\n",
    "        print(data)\n",
    "        raise Exception(\"Simulation failed\")\n",
    "\n",
    "    if file_name is not None:\n",
    "        cadet.filename = file_name\n",
    "\n",
    "        # save the simulation\n",
    "        cadet.save()\n",
    "    else:\n",
    "        os.remove(file)\n",
    "            \n",
    "    return cadet"
   ]
  }
 ],
 "metadata": {
  "kernelspec": {
   "display_name": "Python 3",
   "language": "python",
   "name": "python3"
  },
  "language_info": {
   "codemirror_mode": {
    "name": "ipython",
    "version": 3
   },
   "file_extension": ".py",
   "mimetype": "text/x-python",
   "name": "python",
   "nbconvert_exporter": "python",
   "pygments_lexer": "ipython3",
   "version": "3.7.9"
  }
 },
 "nbformat": 4,
 "nbformat_minor": 4
}
