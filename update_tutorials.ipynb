{
 "cells": [
  {
   "cell_type": "markdown",
   "metadata": {},
   "source": [
    "# Update the tutorial\n",
    "\n",
    "The next cell is the first cell you will run locally. Just hit shift-enter or click run to run the next cell. It will connect to github and download the tutorial locally to the folder we created earlier. We can also use it to update to a newer version of the tutorial later.\n",
    "\n",
    "**This will update to the latest version which will also remove any local changes you may have made to the tutorial files.**"
   ]
  },
  {
   "cell_type": "code",
   "execution_count": null,
   "metadata": {},
   "outputs": [],
   "source": [
    "#Python path library support\n",
    "from pathlib import Path\n",
    "\n",
    "from git import Repo\n",
    "\n",
    "#this is where the tutorial will be checked out\n",
    "tutorial_dir = Path.home() / \"CADET-Tutorial\"\n",
    "\n",
    "#if the tutorial has already been copied we need to update it instead of copying it again\n",
    "if tutorial_dir.exists():\n",
    "    repo = Repo(tutorial_dir.as_posix())\n",
    "\n",
    "    remote = repo.remote()\n",
    "    remote.fetch()    \n",
    "    repo.git.reset('--hard','origin/master')\n",
    "else:\n",
    "    Repo.clone_from(\"https://github.com/modsim/CADET-Tutorial\", tutorial_dir)"
   ]
  }
 ],
 "metadata": {
  "kernelspec": {
   "display_name": "Python 3",
   "language": "python",
   "name": "python3"
  },
  "language_info": {
   "codemirror_mode": {
    "name": "ipython",
    "version": 3
   },
   "file_extension": ".py",
   "mimetype": "text/x-python",
   "name": "python",
   "nbconvert_exporter": "python",
   "pygments_lexer": "ipython3",
   "version": "3.7.9"
  }
 },
 "nbformat": 4,
 "nbformat_minor": 4
}
