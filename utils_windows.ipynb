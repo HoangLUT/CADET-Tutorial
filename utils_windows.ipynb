{
 "cells": [
  {
   "cell_type": "markdown",
   "metadata": {},
   "source": [
    "# Settings and utility functions\n",
    "\n",
    "This module has all of the standard pieces of code we need for the tutrials so that we don't have to repeat them for every lesson."
   ]
  },
  {
   "cell_type": "markdown",
   "metadata": {
    "tags": []
   },
   "source": [
    "## Set path to CADET bin folder\n",
    "\n",
    "The first step is to import CADET and tell the system where cadet-cli can be found.\n",
    "\n",
    "<div class=\"alert alert-info\">\n",
    "\n",
    "**Note:** \n",
    "\n",
    "Please specify the location of the `cadet-cli` executable. It is located in the bin folder where CADET was installed.\n",
    "\n",
    "</div>"
   ]
  },
  {
   "cell_type": "code",
   "execution_count": 2,
   "metadata": {
    "tags": []
   },
   "outputs": [],
   "source": [
    "import shutil\n",
    "import os\n",
    "import platform\n",
    "from pathlib import Path\n",
    "from cadet import Cadet\n",
    "\n",
    "# Either ensure CADET is on your PATH (e.g. by installing via conda)\n",
    "# OR \n",
    "# provide the path to the CADET installation\n",
    "# E.g.\n",
    "#     windows: C:\\Users\\<username>\\cadet\n",
    "#     linux: ~/cadet/bin\n",
    "# would be set by:\n",
    "\n",
    "install_path = 'C:/Users/hoang/miniconda3/envs/cadet-env/'\n",
    "\n",
    "executable = 'cadet-cli.exe'\n",
    "if install_path is None:\n",
    "    try:\n",
    "        if platform.system() == 'Windows':\n",
    "            executable += '.exe'\n",
    "        executable_path = Path(shutil.which(executable))\n",
    "    except TypeError:\n",
    "        raise FileNotFoundError(\n",
    "            \"CADET could not be found. Please set an install path\"\n",
    "        )\n",
    "    install_path = executable_path.parent.parent\n",
    "\n",
    "install_path = Path(install_path)\n",
    "cadet_bin_path = install_path / \"bin\" / executable\n",
    "\n",
    "if cadet_bin_path.exists():\n",
    "    Cadet.cadet_path = cadet_bin_path\n",
    "else:\n",
    "    raise FileNotFoundError(\n",
    "        \"CADET could not be found. Please check the path\"\n",
    "    )\n",
    "\n",
    "cadet_lib_path = install_path / \"lib\"\n",
    "try:\n",
    "    if cadet_lib_path.as_posix() not in os.environ['LD_LIBRARY_PATH']:\n",
    "        os.environ['LD_LIBRARY_PATH'] = \\\n",
    "            cadet_lib_path.as_posix() \\\n",
    "            + os.pathsep \\\n",
    "            + os.environ['LD_LIBRARY_PATH']\n",
    "except KeyError:\n",
    "    os.environ['LD_LIBRARY_PATH'] = cadet_lib_path.as_posix()\n",
    "\n",
    "lwe_executable = 'createLWE'\n",
    "if platform.system() == 'Windows':\n",
    "    lwe_executable += '.exe'\n",
    "lwe_path = install_path / \"bin\" / lwe_executable"
   ]
  },
  {
   "cell_type": "markdown",
   "metadata": {},
   "source": [
    "## Standard imports\n",
    "\n",
    "Here, some other standard libraries are imported."
   ]
  },
  {
   "cell_type": "code",
   "execution_count": null,
   "metadata": {},
   "outputs": [],
   "source": [
    "import os\n",
    "\n",
    "from IPython.core.display import display, HTML, clear_output\n",
    "display(HTML(\"<style>.container { width:100% !important; }</style>\"))\n",
    "\n",
    "from IPython.display import Image\n",
    "\n",
    "# python numeric library\n",
    "import numpy as np\n",
    "\n",
    "# scientific library for python\n",
    "import scipy\n",
    "\n",
    "# pandas is python library for data analysis\n",
    "import pandas\n",
    "\n",
    "# addict is a library that makes it easier to create nested dictionaries\n",
    "from addict import Dict\n",
    "\n",
    "# json is a standard text based format and it used in CADETMatch for the configuration file\n",
    "import json\n",
    "\n",
    "# python plotting library\n",
    "import matplotlib.pyplot as plt\n",
    "%config InlineBackend.figure_format='svg'\n",
    "%matplotlib inline\n",
    "\n",
    "# jupyter widget support\n",
    "from ipywidgets import interact, interactive\n",
    "import ipywidgets as widgets\n",
    "\n",
    "# Temporary files for simulation objects\n",
    "import tempfile\n",
    "tempfile.tempdir = os.path.join(Path.home())\n",
    "\n",
    "import subprocess"
   ]
  },
  {
   "cell_type": "markdown",
   "metadata": {},
   "source": [
    "## Template for CADET simulations\n",
    "\n",
    "This function defines some default values that can be used for all simulations."
   ]
  },
  {
   "cell_type": "code",
   "execution_count": null,
   "metadata": {},
   "outputs": [],
   "source": [
    "def get_cadet_template(n_units=3, split_components_data=False):\n",
    "    cadet_template = Cadet()\n",
    "    \n",
    "    cadet_template.root.input.model.nunits = n_units\n",
    "    \n",
    "    # Store solution\n",
    "    cadet_template.root.input['return'].split_components_data = split_components_data\n",
    "    cadet_template.root.input['return'].split_ports_data = 0\n",
    "    cadet_template.root.input['return'].unit_000.write_solution_inlet = 1\n",
    "    cadet_template.root.input['return'].unit_000.write_solution_outlet = 1\n",
    "    cadet_template.root.input['return'].unit_000.write_solution_bulk = 1\n",
    "    cadet_template.root.input['return'].unit_000.write_solution_particle = 1\n",
    "    cadet_template.root.input['return'].unit_000.write_solution_solid = 1\n",
    "    cadet_template.root.input['return'].unit_000.write_solution_flux = 1\n",
    "    cadet_template.root.input['return'].unit_000.write_solution_volume = 1\n",
    "    cadet_template.root.input['return'].unit_000.write_coordinates = 1\n",
    "    cadet_template.root.input['return'].unit_000.write_sens_outlet = 1\n",
    "    \n",
    "    for unit in range(n_units):\n",
    "        cadet_template.root.input['return']['unit_{0:03d}'.format(unit)] = cadet_template.root.input['return'].unit_000\n",
    "        \n",
    "    # Tolerances for the time integrator\n",
    "    cadet_template.root.input.solver.time_integrator.abstol = 1e-6\n",
    "    cadet_template.root.input.solver.time_integrator.algtol = 1e-10\n",
    "    cadet_template.root.input.solver.time_integrator.reltol = 1e-6\n",
    "    cadet_template.root.input.solver.time_integrator.init_step_size = 1e-6\n",
    "    cadet_template.root.input.solver.time_integrator.max_steps = 1000000\n",
    "    \n",
    "    # Solver settings\n",
    "    cadet_template.root.input.model.solver.gs_type = 1\n",
    "    cadet_template.root.input.model.solver.max_krylov = 0\n",
    "    cadet_template.root.input.model.solver.max_restarts = 10\n",
    "    cadet_template.root.input.model.solver.schur_safety = 1e-8\n",
    "\n",
    "    # Run the simulation on single thread\n",
    "    cadet_template.root.input.solver.nthreads = 1\n",
    "    \n",
    "    return cadet_template\n",
    "\n",
    "\n",
    "def set_discretization(model, n_bound=None, n_col=20, n_par_types=1):\n",
    "    columns = {'GENERAL_RATE_MODEL', 'LUMPED_RATE_MODEL_WITH_PORES', 'LUMPED_RATE_MODEL_WITHOUT_PORES'}\n",
    "    \n",
    "    \n",
    "    for unit_name, unit in model.root.input.model.items():\n",
    "        if 'unit_' in unit_name and unit.unit_type in columns:\n",
    "            unit.discretization.ncol = n_col\n",
    "            unit.discretization.npar = 5\n",
    "            unit.discretization.npartype = n_par_types\n",
    "            \n",
    "            if n_bound is None:\n",
    "                n_bound = unit.ncomp*[0]\n",
    "            unit.discretization.nbound = n_bound\n",
    "            \n",
    "            unit.discretization.par_disc_type = 'EQUIDISTANT_PAR'\n",
    "            unit.discretization.use_analytic_jacobian = 1\n",
    "            unit.discretization.reconstruction = 'WENO'\n",
    "            unit.discretization.gs_type = 1\n",
    "            unit.discretization.max_krylov = 0\n",
    "            unit.discretization.max_restarts = 10\n",
    "            unit.discretization.schur_safety = 1.0e-8\n",
    "\n",
    "            unit.discretization.weno.boundary_model = 0\n",
    "            unit.discretization.weno.weno_eps = 1e-10\n",
    "            unit.discretization.weno.weno_order = 3"
   ]
  },
  {
   "cell_type": "markdown",
   "metadata": {},
   "source": [
    "This function creates a simple model for a dextran pulse."
   ]
  },
  {
   "cell_type": "code",
   "execution_count": null,
   "metadata": {},
   "outputs": [],
   "source": [
    "def save_to_csv(time, c, file_name):\n",
    "    combined_data = np.column_stack(time, c)\n",
    "    \n",
    "    np.save_to_csv(file_name, combined_data, delimiter=',')"
   ]
  },
  {
   "cell_type": "markdown",
   "metadata": {},
   "source": [
    "## Function for running CADET\n",
    "\n",
    "Wrapper for calling the `Cadet.run()` function with some additional functionality."
   ]
  },
  {
   "cell_type": "code",
   "execution_count": null,
   "metadata": {},
   "outputs": [],
   "source": [
    "def run_simulation(cadet, file_name=None):\n",
    "    if file_name is None:\n",
    "        f = next(tempfile._get_candidate_names())\n",
    "        cadet.filename = os.path.join(tempfile.tempdir, f + '.h5')\n",
    "    else:\n",
    "        cadet.filename = file_name\n",
    "    # save the simulation\n",
    "    cadet.save()\n",
    "\n",
    "    # run the simulation and load results\n",
    "    data = cadet.run()\n",
    "    cadet.load()\n",
    "    \n",
    "    # Remove files \n",
    "    if file_name is None:\n",
    "        os.remove(os.path.join(tempfile.tempdir, f + '.h5'))\n",
    "\n",
    "    # Raise error if simulation fails\n",
    "    if data.returncode == 0:\n",
    "        print(\"Simulation completed successfully\")\n",
    "    else:\n",
    "        print(data)\n",
    "        raise Exception(\"Simulation failed\")"
   ]
  }
 ],
 "metadata": {
  "kernelspec": {
   "display_name": "Python 3.8.13 ('cadet-env')",
   "language": "python",
   "name": "python3"
  },
  "language_info": {
   "codemirror_mode": {
    "name": "ipython",
    "version": 3
   },
   "file_extension": ".py",
   "mimetype": "text/x-python",
   "name": "python",
   "nbconvert_exporter": "python",
   "pygments_lexer": "ipython3",
   "version": "3.8.13"
  },
  "vscode": {
   "interpreter": {
    "hash": "37e27f53f2c25475d68a5a679870a67454b7d6fb1735fd335b6ed2f71e69711b"
   }
  }
 },
 "nbformat": 4,
 "nbformat_minor": 4
}
